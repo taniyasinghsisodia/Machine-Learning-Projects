{
  "nbformat": 4,
  "nbformat_minor": 0,
  "metadata": {
    "kernelspec": {
      "display_name": "Python 3",
      "language": "python",
      "name": "python3"
    },
    "language_info": {
      "codemirror_mode": {
        "name": "ipython",
        "version": 2
      },
      "file_extension": ".py",
      "mimetype": "text/x-python",
      "name": "python",
      "nbconvert_exporter": "python",
      "pygments_lexer": "ipython2",
      "version": "2.7.14"
    },
    "colab": {
      "name": "Air_Quality_Index_Prediction.ipynb",
      "provenance": [],
      "collapsed_sections": [],
      "toc_visible": true
    }
  },
  "cells": [
    {
      "cell_type": "markdown",
      "metadata": {
        "id": "S-1bymdAs0bc"
      },
      "source": [
        "# INDIA AIR QUALITY DATA ANALYSIS, VISUALISATION AND PREDICTION\n",
        "\n"
      ]
    },
    {
      "cell_type": "markdown",
      "metadata": {
        "id": "yiPrASOss0bl"
      },
      "source": [
        "<h2>Aim</h2>\n",
        "<p>To do data analysis on India Air Quality data and predict tha value of Air Quality Index based on given features of concentration of sulphur dioxide,nitrogen dioxide, respirable suspended particualte matter, suspended particulate matter and classify the Air Quality as good, moderate, poor, unhealthy, healthy.</p>\n",
        "<p>The data is combined(across the years and states) and largely clean version of the Historical Daily Ambient Air Quality Data released by the Ministry of Environment and Forests and Central Pollution Control Board of India under the National Data Sharing and Accessibility Policy (NDSAP)\n",
        "year 1990-2015</p>\n",
        "<h4><p>The columns are</h4>\n",
        "<li>stn_code (station code)</li>\n",
        "<li>sampling_date (date of sample collection)</li>\n",
        "<li>state (Indian State)</li>\n",
        "<li>location (location of sample collection)</li>\n",
        "<li>agency</li>\n",
        "<li>type (type of area)</li>\n",
        "<li>so2 (sulphur dioxide concentration)</li>\n",
        "<li>no2 (nitrogen dioxide concentration)</li>\n",
        "<li>rspm (respirable suspended particualte matter concentration)</li>\n",
        "<li>spm (suspended particulate matter)</li>\n",
        "<li>location_monitoring_station</li>\n",
        "<li>pm2_5 (particulate matter 2.5)</li>\t\n",
        "<li>date</li>\n",
        "</p>\n",
        "\n",
        "\n"
      ]
    },
    {
      "cell_type": "code",
      "metadata": {
        "id": "WX0BxVIovw8J",
        "outputId": "d8cd4b4f-87de-4fd0-fb21-e8a45681ac9e",
        "colab": {
          "base_uri": "https://localhost:8080/",
          "height": 35
        }
      },
      "source": [
        "from google.colab import drive\n",
        "drive.mount('/content/drive')"
      ],
      "execution_count": 1,
      "outputs": [
        {
          "output_type": "stream",
          "text": [
            "Mounted at /content/drive\n"
          ],
          "name": "stdout"
        }
      ]
    },
    {
      "cell_type": "code",
      "metadata": {
        "_cell_guid": "b1076dfc-b9ad-4769-8c92-a6c4dae69d19",
        "_uuid": "8f2839f25d086af736a60e9eeb907d3b93b6e0e5",
        "id": "wjxHL5kIs0b2"
      },
      "source": [
        "import numpy as np \n",
        "import pandas as pd \n",
        "import seaborn as sns\n",
        "import matplotlib.pyplot as plt\n",
        "%matplotlib inline"
      ],
      "execution_count": 2,
      "outputs": []
    },
    {
      "cell_type": "code",
      "metadata": {
        "_cell_guid": "79c7e3d0-c299-4dcb-8224-4455121ee9b0",
        "_uuid": "d629ff2d2480ee46fbb7e2d37f6b5fab8052498a",
        "id": "bvMWaxLks0cz",
        "outputId": "13a61138-fe2b-4be3-8a90-d9ec7921aeb6",
        "colab": {
          "base_uri": "https://localhost:8080/",
          "height": 74
        }
      },
      "source": [
        "data = pd.read_csv('drive/My Drive/data.csv',encoding = \"ISO-8859-1\") #import data "
      ],
      "execution_count": 3,
      "outputs": [
        {
          "output_type": "stream",
          "text": [
            "/usr/local/lib/python3.6/dist-packages/IPython/core/interactiveshell.py:2718: DtypeWarning: Columns (0) have mixed types.Specify dtype option on import or set low_memory=False.\n",
            "  interactivity=interactivity, compiler=compiler, result=result)\n"
          ],
          "name": "stderr"
        }
      ]
    },
    {
      "cell_type": "code",
      "metadata": {
        "id": "StV0yiRgs0dY",
        "outputId": "911c0900-3e0f-4ab1-f138-5899cff167fc",
        "colab": {
          "base_uri": "https://localhost:8080/",
          "height": 661
        }
      },
      "source": [
        "data.head(10) #print first 10 rows"
      ],
      "execution_count": 4,
      "outputs": [
        {
          "output_type": "execute_result",
          "data": {
            "text/html": [
              "<div>\n",
              "<style scoped>\n",
              "    .dataframe tbody tr th:only-of-type {\n",
              "        vertical-align: middle;\n",
              "    }\n",
              "\n",
              "    .dataframe tbody tr th {\n",
              "        vertical-align: top;\n",
              "    }\n",
              "\n",
              "    .dataframe thead th {\n",
              "        text-align: right;\n",
              "    }\n",
              "</style>\n",
              "<table border=\"1\" class=\"dataframe\">\n",
              "  <thead>\n",
              "    <tr style=\"text-align: right;\">\n",
              "      <th></th>\n",
              "      <th>stn_code</th>\n",
              "      <th>sampling_date</th>\n",
              "      <th>state</th>\n",
              "      <th>location</th>\n",
              "      <th>agency</th>\n",
              "      <th>type</th>\n",
              "      <th>so2</th>\n",
              "      <th>no2</th>\n",
              "      <th>rspm</th>\n",
              "      <th>spm</th>\n",
              "      <th>location_monitoring_station</th>\n",
              "      <th>pm2_5</th>\n",
              "      <th>date</th>\n",
              "    </tr>\n",
              "  </thead>\n",
              "  <tbody>\n",
              "    <tr>\n",
              "      <th>0</th>\n",
              "      <td>150</td>\n",
              "      <td>February - M021990</td>\n",
              "      <td>Andhra Pradesh</td>\n",
              "      <td>Hyderabad</td>\n",
              "      <td>NaN</td>\n",
              "      <td>Residential, Rural and other Areas</td>\n",
              "      <td>4.8</td>\n",
              "      <td>17.4</td>\n",
              "      <td>NaN</td>\n",
              "      <td>NaN</td>\n",
              "      <td>NaN</td>\n",
              "      <td>NaN</td>\n",
              "      <td>1990-02-01</td>\n",
              "    </tr>\n",
              "    <tr>\n",
              "      <th>1</th>\n",
              "      <td>151</td>\n",
              "      <td>February - M021990</td>\n",
              "      <td>Andhra Pradesh</td>\n",
              "      <td>Hyderabad</td>\n",
              "      <td>NaN</td>\n",
              "      <td>Industrial Area</td>\n",
              "      <td>3.1</td>\n",
              "      <td>7.0</td>\n",
              "      <td>NaN</td>\n",
              "      <td>NaN</td>\n",
              "      <td>NaN</td>\n",
              "      <td>NaN</td>\n",
              "      <td>1990-02-01</td>\n",
              "    </tr>\n",
              "    <tr>\n",
              "      <th>2</th>\n",
              "      <td>152</td>\n",
              "      <td>February - M021990</td>\n",
              "      <td>Andhra Pradesh</td>\n",
              "      <td>Hyderabad</td>\n",
              "      <td>NaN</td>\n",
              "      <td>Residential, Rural and other Areas</td>\n",
              "      <td>6.2</td>\n",
              "      <td>28.5</td>\n",
              "      <td>NaN</td>\n",
              "      <td>NaN</td>\n",
              "      <td>NaN</td>\n",
              "      <td>NaN</td>\n",
              "      <td>1990-02-01</td>\n",
              "    </tr>\n",
              "    <tr>\n",
              "      <th>3</th>\n",
              "      <td>150</td>\n",
              "      <td>March - M031990</td>\n",
              "      <td>Andhra Pradesh</td>\n",
              "      <td>Hyderabad</td>\n",
              "      <td>NaN</td>\n",
              "      <td>Residential, Rural and other Areas</td>\n",
              "      <td>6.3</td>\n",
              "      <td>14.7</td>\n",
              "      <td>NaN</td>\n",
              "      <td>NaN</td>\n",
              "      <td>NaN</td>\n",
              "      <td>NaN</td>\n",
              "      <td>1990-03-01</td>\n",
              "    </tr>\n",
              "    <tr>\n",
              "      <th>4</th>\n",
              "      <td>151</td>\n",
              "      <td>March - M031990</td>\n",
              "      <td>Andhra Pradesh</td>\n",
              "      <td>Hyderabad</td>\n",
              "      <td>NaN</td>\n",
              "      <td>Industrial Area</td>\n",
              "      <td>4.7</td>\n",
              "      <td>7.5</td>\n",
              "      <td>NaN</td>\n",
              "      <td>NaN</td>\n",
              "      <td>NaN</td>\n",
              "      <td>NaN</td>\n",
              "      <td>1990-03-01</td>\n",
              "    </tr>\n",
              "    <tr>\n",
              "      <th>5</th>\n",
              "      <td>152</td>\n",
              "      <td>March - M031990</td>\n",
              "      <td>Andhra Pradesh</td>\n",
              "      <td>Hyderabad</td>\n",
              "      <td>NaN</td>\n",
              "      <td>Residential, Rural and other Areas</td>\n",
              "      <td>6.4</td>\n",
              "      <td>25.7</td>\n",
              "      <td>NaN</td>\n",
              "      <td>NaN</td>\n",
              "      <td>NaN</td>\n",
              "      <td>NaN</td>\n",
              "      <td>1990-03-01</td>\n",
              "    </tr>\n",
              "    <tr>\n",
              "      <th>6</th>\n",
              "      <td>150</td>\n",
              "      <td>April - M041990</td>\n",
              "      <td>Andhra Pradesh</td>\n",
              "      <td>Hyderabad</td>\n",
              "      <td>NaN</td>\n",
              "      <td>Residential, Rural and other Areas</td>\n",
              "      <td>5.4</td>\n",
              "      <td>17.1</td>\n",
              "      <td>NaN</td>\n",
              "      <td>NaN</td>\n",
              "      <td>NaN</td>\n",
              "      <td>NaN</td>\n",
              "      <td>1990-04-01</td>\n",
              "    </tr>\n",
              "    <tr>\n",
              "      <th>7</th>\n",
              "      <td>151</td>\n",
              "      <td>April - M041990</td>\n",
              "      <td>Andhra Pradesh</td>\n",
              "      <td>Hyderabad</td>\n",
              "      <td>NaN</td>\n",
              "      <td>Industrial Area</td>\n",
              "      <td>4.7</td>\n",
              "      <td>8.7</td>\n",
              "      <td>NaN</td>\n",
              "      <td>NaN</td>\n",
              "      <td>NaN</td>\n",
              "      <td>NaN</td>\n",
              "      <td>1990-04-01</td>\n",
              "    </tr>\n",
              "    <tr>\n",
              "      <th>8</th>\n",
              "      <td>152</td>\n",
              "      <td>April - M041990</td>\n",
              "      <td>Andhra Pradesh</td>\n",
              "      <td>Hyderabad</td>\n",
              "      <td>NaN</td>\n",
              "      <td>Residential, Rural and other Areas</td>\n",
              "      <td>4.2</td>\n",
              "      <td>23.0</td>\n",
              "      <td>NaN</td>\n",
              "      <td>NaN</td>\n",
              "      <td>NaN</td>\n",
              "      <td>NaN</td>\n",
              "      <td>1990-04-01</td>\n",
              "    </tr>\n",
              "    <tr>\n",
              "      <th>9</th>\n",
              "      <td>151</td>\n",
              "      <td>May - M051990</td>\n",
              "      <td>Andhra Pradesh</td>\n",
              "      <td>Hyderabad</td>\n",
              "      <td>NaN</td>\n",
              "      <td>Industrial Area</td>\n",
              "      <td>4.0</td>\n",
              "      <td>8.9</td>\n",
              "      <td>NaN</td>\n",
              "      <td>NaN</td>\n",
              "      <td>NaN</td>\n",
              "      <td>NaN</td>\n",
              "      <td>1990-05-01</td>\n",
              "    </tr>\n",
              "  </tbody>\n",
              "</table>\n",
              "</div>"
            ],
            "text/plain": [
              "  stn_code       sampling_date  ... pm2_5        date\n",
              "0      150  February - M021990  ...   NaN  1990-02-01\n",
              "1      151  February - M021990  ...   NaN  1990-02-01\n",
              "2      152  February - M021990  ...   NaN  1990-02-01\n",
              "3      150     March - M031990  ...   NaN  1990-03-01\n",
              "4      151     March - M031990  ...   NaN  1990-03-01\n",
              "5      152     March - M031990  ...   NaN  1990-03-01\n",
              "6      150     April - M041990  ...   NaN  1990-04-01\n",
              "7      151     April - M041990  ...   NaN  1990-04-01\n",
              "8      152     April - M041990  ...   NaN  1990-04-01\n",
              "9      151       May - M051990  ...   NaN  1990-05-01\n",
              "\n",
              "[10 rows x 13 columns]"
            ]
          },
          "metadata": {
            "tags": []
          },
          "execution_count": 4
        }
      ]
    },
    {
      "cell_type": "code",
      "metadata": {
        "id": "s1vx4T5ds0d-",
        "outputId": "e984596a-fd14-456d-d71d-3e1abd321ba7",
        "colab": {
          "base_uri": "https://localhost:8080/",
          "height": 1000
        }
      },
      "source": [
        "data.tail(10) #printing last 10 rows"
      ],
      "execution_count": 5,
      "outputs": [
        {
          "output_type": "execute_result",
          "data": {
            "text/html": [
              "<div>\n",
              "<style scoped>\n",
              "    .dataframe tbody tr th:only-of-type {\n",
              "        vertical-align: middle;\n",
              "    }\n",
              "\n",
              "    .dataframe tbody tr th {\n",
              "        vertical-align: top;\n",
              "    }\n",
              "\n",
              "    .dataframe thead th {\n",
              "        text-align: right;\n",
              "    }\n",
              "</style>\n",
              "<table border=\"1\" class=\"dataframe\">\n",
              "  <thead>\n",
              "    <tr style=\"text-align: right;\">\n",
              "      <th></th>\n",
              "      <th>stn_code</th>\n",
              "      <th>sampling_date</th>\n",
              "      <th>state</th>\n",
              "      <th>location</th>\n",
              "      <th>agency</th>\n",
              "      <th>type</th>\n",
              "      <th>so2</th>\n",
              "      <th>no2</th>\n",
              "      <th>rspm</th>\n",
              "      <th>spm</th>\n",
              "      <th>location_monitoring_station</th>\n",
              "      <th>pm2_5</th>\n",
              "      <th>date</th>\n",
              "    </tr>\n",
              "  </thead>\n",
              "  <tbody>\n",
              "    <tr>\n",
              "      <th>435732</th>\n",
              "      <td>SAMP</td>\n",
              "      <td>09-12-15</td>\n",
              "      <td>West Bengal</td>\n",
              "      <td>ULUBERIA</td>\n",
              "      <td>West Bengal State Pollution Control Board</td>\n",
              "      <td>RIRUO</td>\n",
              "      <td>22.0</td>\n",
              "      <td>50.0</td>\n",
              "      <td>145.0</td>\n",
              "      <td>NaN</td>\n",
              "      <td>Inside Rampal Industries,ULUBERIA</td>\n",
              "      <td>NaN</td>\n",
              "      <td>2015-12-09</td>\n",
              "    </tr>\n",
              "    <tr>\n",
              "      <th>435733</th>\n",
              "      <td>SAMP</td>\n",
              "      <td>12-12-15</td>\n",
              "      <td>West Bengal</td>\n",
              "      <td>ULUBERIA</td>\n",
              "      <td>West Bengal State Pollution Control Board</td>\n",
              "      <td>RIRUO</td>\n",
              "      <td>34.0</td>\n",
              "      <td>61.0</td>\n",
              "      <td>161.0</td>\n",
              "      <td>NaN</td>\n",
              "      <td>Inside Rampal Industries,ULUBERIA</td>\n",
              "      <td>NaN</td>\n",
              "      <td>2015-12-12</td>\n",
              "    </tr>\n",
              "    <tr>\n",
              "      <th>435734</th>\n",
              "      <td>SAMP</td>\n",
              "      <td>15-12-15</td>\n",
              "      <td>West Bengal</td>\n",
              "      <td>ULUBERIA</td>\n",
              "      <td>West Bengal State Pollution Control Board</td>\n",
              "      <td>RIRUO</td>\n",
              "      <td>20.0</td>\n",
              "      <td>44.0</td>\n",
              "      <td>148.0</td>\n",
              "      <td>NaN</td>\n",
              "      <td>Inside Rampal Industries,ULUBERIA</td>\n",
              "      <td>NaN</td>\n",
              "      <td>2015-12-15</td>\n",
              "    </tr>\n",
              "    <tr>\n",
              "      <th>435735</th>\n",
              "      <td>SAMP</td>\n",
              "      <td>18-12-15</td>\n",
              "      <td>West Bengal</td>\n",
              "      <td>ULUBERIA</td>\n",
              "      <td>West Bengal State Pollution Control Board</td>\n",
              "      <td>RIRUO</td>\n",
              "      <td>17.0</td>\n",
              "      <td>44.0</td>\n",
              "      <td>131.0</td>\n",
              "      <td>NaN</td>\n",
              "      <td>Inside Rampal Industries,ULUBERIA</td>\n",
              "      <td>NaN</td>\n",
              "      <td>2015-12-18</td>\n",
              "    </tr>\n",
              "    <tr>\n",
              "      <th>435736</th>\n",
              "      <td>SAMP</td>\n",
              "      <td>21-12-15</td>\n",
              "      <td>West Bengal</td>\n",
              "      <td>ULUBERIA</td>\n",
              "      <td>West Bengal State Pollution Control Board</td>\n",
              "      <td>RIRUO</td>\n",
              "      <td>18.0</td>\n",
              "      <td>45.0</td>\n",
              "      <td>140.0</td>\n",
              "      <td>NaN</td>\n",
              "      <td>Inside Rampal Industries,ULUBERIA</td>\n",
              "      <td>NaN</td>\n",
              "      <td>2015-12-21</td>\n",
              "    </tr>\n",
              "    <tr>\n",
              "      <th>435737</th>\n",
              "      <td>SAMP</td>\n",
              "      <td>24-12-15</td>\n",
              "      <td>West Bengal</td>\n",
              "      <td>ULUBERIA</td>\n",
              "      <td>West Bengal State Pollution Control Board</td>\n",
              "      <td>RIRUO</td>\n",
              "      <td>22.0</td>\n",
              "      <td>50.0</td>\n",
              "      <td>143.0</td>\n",
              "      <td>NaN</td>\n",
              "      <td>Inside Rampal Industries,ULUBERIA</td>\n",
              "      <td>NaN</td>\n",
              "      <td>2015-12-24</td>\n",
              "    </tr>\n",
              "    <tr>\n",
              "      <th>435738</th>\n",
              "      <td>SAMP</td>\n",
              "      <td>29-12-15</td>\n",
              "      <td>West Bengal</td>\n",
              "      <td>ULUBERIA</td>\n",
              "      <td>West Bengal State Pollution Control Board</td>\n",
              "      <td>RIRUO</td>\n",
              "      <td>20.0</td>\n",
              "      <td>46.0</td>\n",
              "      <td>171.0</td>\n",
              "      <td>NaN</td>\n",
              "      <td>Inside Rampal Industries,ULUBERIA</td>\n",
              "      <td>NaN</td>\n",
              "      <td>2015-12-29</td>\n",
              "    </tr>\n",
              "    <tr>\n",
              "      <th>435739</th>\n",
              "      <td>NaN</td>\n",
              "      <td>NaN</td>\n",
              "      <td>andaman-and-nicobar-islands</td>\n",
              "      <td>NaN</td>\n",
              "      <td>NaN</td>\n",
              "      <td>NaN</td>\n",
              "      <td>NaN</td>\n",
              "      <td>NaN</td>\n",
              "      <td>NaN</td>\n",
              "      <td>NaN</td>\n",
              "      <td>NaN</td>\n",
              "      <td>NaN</td>\n",
              "      <td>NaN</td>\n",
              "    </tr>\n",
              "    <tr>\n",
              "      <th>435740</th>\n",
              "      <td>NaN</td>\n",
              "      <td>NaN</td>\n",
              "      <td>Lakshadweep</td>\n",
              "      <td>NaN</td>\n",
              "      <td>NaN</td>\n",
              "      <td>NaN</td>\n",
              "      <td>NaN</td>\n",
              "      <td>NaN</td>\n",
              "      <td>NaN</td>\n",
              "      <td>NaN</td>\n",
              "      <td>NaN</td>\n",
              "      <td>NaN</td>\n",
              "      <td>NaN</td>\n",
              "    </tr>\n",
              "    <tr>\n",
              "      <th>435741</th>\n",
              "      <td>NaN</td>\n",
              "      <td>NaN</td>\n",
              "      <td>Tripura</td>\n",
              "      <td>NaN</td>\n",
              "      <td>NaN</td>\n",
              "      <td>NaN</td>\n",
              "      <td>NaN</td>\n",
              "      <td>NaN</td>\n",
              "      <td>NaN</td>\n",
              "      <td>NaN</td>\n",
              "      <td>NaN</td>\n",
              "      <td>NaN</td>\n",
              "      <td>NaN</td>\n",
              "    </tr>\n",
              "  </tbody>\n",
              "</table>\n",
              "</div>"
            ],
            "text/plain": [
              "       stn_code sampling_date  ... pm2_5        date\n",
              "435732     SAMP      09-12-15  ...   NaN  2015-12-09\n",
              "435733     SAMP      12-12-15  ...   NaN  2015-12-12\n",
              "435734     SAMP      15-12-15  ...   NaN  2015-12-15\n",
              "435735     SAMP      18-12-15  ...   NaN  2015-12-18\n",
              "435736     SAMP      21-12-15  ...   NaN  2015-12-21\n",
              "435737     SAMP      24-12-15  ...   NaN  2015-12-24\n",
              "435738     SAMP      29-12-15  ...   NaN  2015-12-29\n",
              "435739      NaN           NaN  ...   NaN         NaN\n",
              "435740      NaN           NaN  ...   NaN         NaN\n",
              "435741      NaN           NaN  ...   NaN         NaN\n",
              "\n",
              "[10 rows x 13 columns]"
            ]
          },
          "metadata": {
            "tags": []
          },
          "execution_count": 5
        }
      ]
    },
    {
      "cell_type": "code",
      "metadata": {
        "id": "VzJO7eHts0ea",
        "outputId": "def9bd55-d61f-432d-d306-740a75522c83",
        "colab": {
          "base_uri": "https://localhost:8080/",
          "height": 90
        }
      },
      "source": [
        "data.columns #print the columns/features of the data"
      ],
      "execution_count": 6,
      "outputs": [
        {
          "output_type": "execute_result",
          "data": {
            "text/plain": [
              "Index(['stn_code', 'sampling_date', 'state', 'location', 'agency', 'type',\n",
              "       'so2', 'no2', 'rspm', 'spm', 'location_monitoring_station', 'pm2_5',\n",
              "       'date'],\n",
              "      dtype='object')"
            ]
          },
          "metadata": {
            "tags": []
          },
          "execution_count": 6
        }
      ]
    },
    {
      "cell_type": "code",
      "metadata": {
        "id": "x_l-v8Zhs0e4",
        "outputId": "bfc3e405-e482-4cd8-9ab2-807e52cfd632",
        "colab": {
          "base_uri": "https://localhost:8080/",
          "height": 300
        }
      },
      "source": [
        "data.describe() #basic info of the dataset"
      ],
      "execution_count": 7,
      "outputs": [
        {
          "output_type": "execute_result",
          "data": {
            "text/html": [
              "<div>\n",
              "<style scoped>\n",
              "    .dataframe tbody tr th:only-of-type {\n",
              "        vertical-align: middle;\n",
              "    }\n",
              "\n",
              "    .dataframe tbody tr th {\n",
              "        vertical-align: top;\n",
              "    }\n",
              "\n",
              "    .dataframe thead th {\n",
              "        text-align: right;\n",
              "    }\n",
              "</style>\n",
              "<table border=\"1\" class=\"dataframe\">\n",
              "  <thead>\n",
              "    <tr style=\"text-align: right;\">\n",
              "      <th></th>\n",
              "      <th>so2</th>\n",
              "      <th>no2</th>\n",
              "      <th>rspm</th>\n",
              "      <th>spm</th>\n",
              "      <th>pm2_5</th>\n",
              "    </tr>\n",
              "  </thead>\n",
              "  <tbody>\n",
              "    <tr>\n",
              "      <th>count</th>\n",
              "      <td>401096.000000</td>\n",
              "      <td>419509.000000</td>\n",
              "      <td>395520.000000</td>\n",
              "      <td>198355.000000</td>\n",
              "      <td>9314.000000</td>\n",
              "    </tr>\n",
              "    <tr>\n",
              "      <th>mean</th>\n",
              "      <td>10.829414</td>\n",
              "      <td>25.809623</td>\n",
              "      <td>108.832784</td>\n",
              "      <td>220.783480</td>\n",
              "      <td>40.791467</td>\n",
              "    </tr>\n",
              "    <tr>\n",
              "      <th>std</th>\n",
              "      <td>11.177187</td>\n",
              "      <td>18.503086</td>\n",
              "      <td>74.872430</td>\n",
              "      <td>151.395457</td>\n",
              "      <td>30.832525</td>\n",
              "    </tr>\n",
              "    <tr>\n",
              "      <th>min</th>\n",
              "      <td>0.000000</td>\n",
              "      <td>0.000000</td>\n",
              "      <td>0.000000</td>\n",
              "      <td>0.000000</td>\n",
              "      <td>3.000000</td>\n",
              "    </tr>\n",
              "    <tr>\n",
              "      <th>25%</th>\n",
              "      <td>5.000000</td>\n",
              "      <td>14.000000</td>\n",
              "      <td>56.000000</td>\n",
              "      <td>111.000000</td>\n",
              "      <td>24.000000</td>\n",
              "    </tr>\n",
              "    <tr>\n",
              "      <th>50%</th>\n",
              "      <td>8.000000</td>\n",
              "      <td>22.000000</td>\n",
              "      <td>90.000000</td>\n",
              "      <td>187.000000</td>\n",
              "      <td>32.000000</td>\n",
              "    </tr>\n",
              "    <tr>\n",
              "      <th>75%</th>\n",
              "      <td>13.700000</td>\n",
              "      <td>32.200000</td>\n",
              "      <td>142.000000</td>\n",
              "      <td>296.000000</td>\n",
              "      <td>46.000000</td>\n",
              "    </tr>\n",
              "    <tr>\n",
              "      <th>max</th>\n",
              "      <td>909.000000</td>\n",
              "      <td>876.000000</td>\n",
              "      <td>6307.033333</td>\n",
              "      <td>3380.000000</td>\n",
              "      <td>504.000000</td>\n",
              "    </tr>\n",
              "  </tbody>\n",
              "</table>\n",
              "</div>"
            ],
            "text/plain": [
              "                 so2            no2           rspm            spm        pm2_5\n",
              "count  401096.000000  419509.000000  395520.000000  198355.000000  9314.000000\n",
              "mean       10.829414      25.809623     108.832784     220.783480    40.791467\n",
              "std        11.177187      18.503086      74.872430     151.395457    30.832525\n",
              "min         0.000000       0.000000       0.000000       0.000000     3.000000\n",
              "25%         5.000000      14.000000      56.000000     111.000000    24.000000\n",
              "50%         8.000000      22.000000      90.000000     187.000000    32.000000\n",
              "75%        13.700000      32.200000     142.000000     296.000000    46.000000\n",
              "max       909.000000     876.000000    6307.033333    3380.000000   504.000000"
            ]
          },
          "metadata": {
            "tags": []
          },
          "execution_count": 7
        }
      ]
    },
    {
      "cell_type": "markdown",
      "metadata": {
        "id": "PcV2X3Ghs0fS"
      },
      "source": [
        "# DATA SHAPE (DIMENSION)"
      ]
    },
    {
      "cell_type": "code",
      "metadata": {
        "id": "QmO1tdVNs0fW",
        "outputId": "e3c37d64-8047-40f7-c0a0-1a5f7ba0a7dd",
        "colab": {
          "base_uri": "https://localhost:8080/",
          "height": 35
        }
      },
      "source": [
        "data.shape #dimensions of the data"
      ],
      "execution_count": 8,
      "outputs": [
        {
          "output_type": "execute_result",
          "data": {
            "text/plain": [
              "(435742, 13)"
            ]
          },
          "metadata": {
            "tags": []
          },
          "execution_count": 8
        }
      ]
    },
    {
      "cell_type": "markdown",
      "metadata": {
        "id": "DfULojR6s0fq"
      },
      "source": [
        "# Visualization for states with highest pollutants\n"
      ]
    },
    {
      "cell_type": "code",
      "metadata": {
        "id": "XlWuLJEis0fu",
        "outputId": "df8ae58c-76a4-4afc-bbf8-1f99818905cf",
        "colab": {
          "base_uri": "https://localhost:8080/",
          "height": 379
        }
      },
      "source": [
        "data[['so2','state']].groupby([\"state\"]).mean().sort_values(by='so2').head(20).plot.bar(color='b')\n",
        "plt.show() "
      ],
      "execution_count": 9,
      "outputs": [
        {
          "output_type": "display_data",
          "data": {
            "image/png": "[encoded data removed]",
            "text/plain": [
              "<Figure size 432x288 with 1 Axes>"
            ]
          },
          "metadata": {
            "tags": [],
            "needs_background": "light"
          }
        }
      ]
    },
    {
      "cell_type": "code",
      "metadata": {
        "id": "0aVLP2VHs0gG",
        "outputId": "959f75a2-4425-47e4-d336-07b82253aec7",
        "colab": {
          "base_uri": "https://localhost:8080/",
          "height": 418
        }
      },
      "source": [
        "data[['no2','state']].groupby([\"state\"]).mean().sort_values(by='no2').plot.bar(color='g')\n",
        "plt.show()"
      ],
      "execution_count": 10,
      "outputs": [
        {
          "output_type": "display_data",
          "data": {
            "image/png": "[encoded data removed]",
            "text/plain": [
              "<Figure size 432x288 with 1 Axes>"
            ]
          },
          "metadata": {
            "tags": [],
            "needs_background": "light"
          }
        }
      ]
    },
    {
      "cell_type": "code",
      "metadata": {
        "id": "WcCHvkOms0gg",
        "outputId": "fa5cd17e-2500-48a6-96db-0e1d43d7db7d",
        "colab": {
          "base_uri": "https://localhost:8080/",
          "height": 418
        }
      },
      "source": [
        "data[['spm','state']].groupby([\"state\"]).mean().sort_values(by='spm').plot.bar(color='b')\n",
        "plt.show()"
      ],
      "execution_count": 11,
      "outputs": [
        {
          "output_type": "display_data",
          "data": {
            "image/png": "[encoded data removed]",
            "text/plain": [
              "<Figure size 432x288 with 1 Axes>"
            ]
          },
          "metadata": {
            "tags": [],
            "needs_background": "light"
          }
        }
      ]
    },
    {
      "cell_type": "code",
      "metadata": {
        "id": "erFKGyyos0g4",
        "outputId": "c5fd01b5-c7fd-4167-b85a-50bd7321cdc1",
        "colab": {
          "base_uri": "https://localhost:8080/",
          "height": 418
        }
      },
      "source": [
        "data[['rspm','state']].groupby([\"state\"]).mean().sort_values(by='rspm').plot.bar(color='r')\n",
        "plt.show()"
      ],
      "execution_count": 12,
      "outputs": [
        {
          "output_type": "display_data",
          "data": {
            "image/png": "[encoded data removed]",
            "text/plain": [
              "<Figure size 432x288 with 1 Axes>"
            ]
          },
          "metadata": {
            "tags": [],
            "needs_background": "light"
          }
        }
      ]
    },
    {
      "cell_type": "markdown",
      "metadata": {
        "id": "ijkcUqKbs0hO"
      },
      "source": [
        "# NULL VALUES COUNT"
      ]
    },
    {
      "cell_type": "code",
      "metadata": {
        "id": "jXWfck2vs0hS",
        "outputId": "47e2c639-d09b-40d0-a35e-216ee32b3e3e",
        "colab": {
          "base_uri": "https://localhost:8080/",
          "height": 274
        }
      },
      "source": [
        "data.isna().sum() #print the sum of null values for each columns"
      ],
      "execution_count": 13,
      "outputs": [
        {
          "output_type": "execute_result",
          "data": {
            "text/plain": [
              "stn_code                       144077\n",
              "sampling_date                       3\n",
              "state                               0\n",
              "location                            3\n",
              "agency                         149481\n",
              "type                             5393\n",
              "so2                             34646\n",
              "no2                             16233\n",
              "rspm                            40222\n",
              "spm                            237387\n",
              "location_monitoring_station     27491\n",
              "pm2_5                          426428\n",
              "date                                7\n",
              "dtype: int64"
            ]
          },
          "metadata": {
            "tags": []
          },
          "execution_count": 13
        }
      ]
    },
    {
      "cell_type": "markdown",
      "metadata": {
        "id": "ZpVb0Ww_s0ht"
      },
      "source": [
        "# DROP UNNECESSARY COLUMN"
      ]
    },
    {
      "cell_type": "code",
      "metadata": {
        "id": "AOqJ_vgHs0hw"
      },
      "source": [
        "data.drop(['stn_code','agency','sampling_date','location_monitoring_station'],axis=1,inplace=True) "
      ],
      "execution_count": 14,
      "outputs": []
    },
    {
      "cell_type": "code",
      "metadata": {
        "id": "uS3c5wiRs0iD",
        "outputId": "f15b7674-8740-47f5-d1e1-cd560b2b3f80",
        "colab": {
          "base_uri": "https://localhost:8080/",
          "height": 363
        }
      },
      "source": [
        "data.head(10)"
      ],
      "execution_count": 15,
      "outputs": [
        {
          "output_type": "execute_result",
          "data": {
            "text/html": [
              "<div>\n",
              "<style scoped>\n",
              "    .dataframe tbody tr th:only-of-type {\n",
              "        vertical-align: middle;\n",
              "    }\n",
              "\n",
              "    .dataframe tbody tr th {\n",
              "        vertical-align: top;\n",
              "    }\n",
              "\n",
              "    .dataframe thead th {\n",
              "        text-align: right;\n",
              "    }\n",
              "</style>\n",
              "<table border=\"1\" class=\"dataframe\">\n",
              "  <thead>\n",
              "    <tr style=\"text-align: right;\">\n",
              "      <th></th>\n",
              "      <th>state</th>\n",
              "      <th>location</th>\n",
              "      <th>type</th>\n",
              "      <th>so2</th>\n",
              "      <th>no2</th>\n",
              "      <th>rspm</th>\n",
              "      <th>spm</th>\n",
              "      <th>pm2_5</th>\n",
              "      <th>date</th>\n",
              "    </tr>\n",
              "  </thead>\n",
              "  <tbody>\n",
              "    <tr>\n",
              "      <th>0</th>\n",
              "      <td>Andhra Pradesh</td>\n",
              "      <td>Hyderabad</td>\n",
              "      <td>Residential, Rural and other Areas</td>\n",
              "      <td>4.8</td>\n",
              "      <td>17.4</td>\n",
              "      <td>NaN</td>\n",
              "      <td>NaN</td>\n",
              "      <td>NaN</td>\n",
              "      <td>1990-02-01</td>\n",
              "    </tr>\n",
              "    <tr>\n",
              "      <th>1</th>\n",
              "      <td>Andhra Pradesh</td>\n",
              "      <td>Hyderabad</td>\n",
              "      <td>Industrial Area</td>\n",
              "      <td>3.1</td>\n",
              "      <td>7.0</td>\n",
              "      <td>NaN</td>\n",
              "      <td>NaN</td>\n",
              "      <td>NaN</td>\n",
              "      <td>1990-02-01</td>\n",
              "    </tr>\n",
              "    <tr>\n",
              "      <th>2</th>\n",
              "      <td>Andhra Pradesh</td>\n",
              "      <td>Hyderabad</td>\n",
              "      <td>Residential, Rural and other Areas</td>\n",
              "      <td>6.2</td>\n",
              "      <td>28.5</td>\n",
              "      <td>NaN</td>\n",
              "      <td>NaN</td>\n",
              "      <td>NaN</td>\n",
              "      <td>1990-02-01</td>\n",
              "    </tr>\n",
              "    <tr>\n",
              "      <th>3</th>\n",
              "      <td>Andhra Pradesh</td>\n",
              "      <td>Hyderabad</td>\n",
              "      <td>Residential, Rural and other Areas</td>\n",
              "      <td>6.3</td>\n",
              "      <td>14.7</td>\n",
              "      <td>NaN</td>\n",
              "      <td>NaN</td>\n",
              "      <td>NaN</td>\n",
              "      <td>1990-03-01</td>\n",
              "    </tr>\n",
              "    <tr>\n",
              "      <th>4</th>\n",
              "      <td>Andhra Pradesh</td>\n",
              "      <td>Hyderabad</td>\n",
              "      <td>Industrial Area</td>\n",
              "      <td>4.7</td>\n",
              "      <td>7.5</td>\n",
              "      <td>NaN</td>\n",
              "      <td>NaN</td>\n",
              "      <td>NaN</td>\n",
              "      <td>1990-03-01</td>\n",
              "    </tr>\n",
              "    <tr>\n",
              "      <th>5</th>\n",
              "      <td>Andhra Pradesh</td>\n",
              "      <td>Hyderabad</td>\n",
              "      <td>Residential, Rural and other Areas</td>\n",
              "      <td>6.4</td>\n",
              "      <td>25.7</td>\n",
              "      <td>NaN</td>\n",
              "      <td>NaN</td>\n",
              "      <td>NaN</td>\n",
              "      <td>1990-03-01</td>\n",
              "    </tr>\n",
              "    <tr>\n",
              "      <th>6</th>\n",
              "      <td>Andhra Pradesh</td>\n",
              "      <td>Hyderabad</td>\n",
              "      <td>Residential, Rural and other Areas</td>\n",
              "      <td>5.4</td>\n",
              "      <td>17.1</td>\n",
              "      <td>NaN</td>\n",
              "      <td>NaN</td>\n",
              "      <td>NaN</td>\n",
              "      <td>1990-04-01</td>\n",
              "    </tr>\n",
              "    <tr>\n",
              "      <th>7</th>\n",
              "      <td>Andhra Pradesh</td>\n",
              "      <td>Hyderabad</td>\n",
              "      <td>Industrial Area</td>\n",
              "      <td>4.7</td>\n",
              "      <td>8.7</td>\n",
              "      <td>NaN</td>\n",
              "      <td>NaN</td>\n",
              "      <td>NaN</td>\n",
              "      <td>1990-04-01</td>\n",
              "    </tr>\n",
              "    <tr>\n",
              "      <th>8</th>\n",
              "      <td>Andhra Pradesh</td>\n",
              "      <td>Hyderabad</td>\n",
              "      <td>Residential, Rural and other Areas</td>\n",
              "      <td>4.2</td>\n",
              "      <td>23.0</td>\n",
              "      <td>NaN</td>\n",
              "      <td>NaN</td>\n",
              "      <td>NaN</td>\n",
              "      <td>1990-04-01</td>\n",
              "    </tr>\n",
              "    <tr>\n",
              "      <th>9</th>\n",
              "      <td>Andhra Pradesh</td>\n",
              "      <td>Hyderabad</td>\n",
              "      <td>Industrial Area</td>\n",
              "      <td>4.0</td>\n",
              "      <td>8.9</td>\n",
              "      <td>NaN</td>\n",
              "      <td>NaN</td>\n",
              "      <td>NaN</td>\n",
              "      <td>1990-05-01</td>\n",
              "    </tr>\n",
              "  </tbody>\n",
              "</table>\n",
              "</div>"
            ],
            "text/plain": [
              "            state   location  ... pm2_5        date\n",
              "0  Andhra Pradesh  Hyderabad  ...   NaN  1990-02-01\n",
              "1  Andhra Pradesh  Hyderabad  ...   NaN  1990-02-01\n",
              "2  Andhra Pradesh  Hyderabad  ...   NaN  1990-02-01\n",
              "3  Andhra Pradesh  Hyderabad  ...   NaN  1990-03-01\n",
              "4  Andhra Pradesh  Hyderabad  ...   NaN  1990-03-01\n",
              "5  Andhra Pradesh  Hyderabad  ...   NaN  1990-03-01\n",
              "6  Andhra Pradesh  Hyderabad  ...   NaN  1990-04-01\n",
              "7  Andhra Pradesh  Hyderabad  ...   NaN  1990-04-01\n",
              "8  Andhra Pradesh  Hyderabad  ...   NaN  1990-04-01\n",
              "9  Andhra Pradesh  Hyderabad  ...   NaN  1990-05-01\n",
              "\n",
              "[10 rows x 9 columns]"
            ]
          },
          "metadata": {
            "tags": []
          },
          "execution_count": 15
        }
      ]
    },
    {
      "cell_type": "markdown",
      "metadata": {
        "id": "76qvYwres0ib"
      },
      "source": [
        "# CALCULATE TOTAL MISSING VALUES AND THEIR PERCENTAGE"
      ]
    },
    {
      "cell_type": "code",
      "metadata": {
        "id": "EvB12dPhs0if"
      },
      "source": [
        "total = data.isnull().sum().sort_values(ascending=False) "
      ],
      "execution_count": 16,
      "outputs": []
    },
    {
      "cell_type": "code",
      "metadata": {
        "id": "WNxgXBWbs0ix",
        "outputId": "98007dd9-57f5-4dc8-9489-953144e2d08c",
        "colab": {
          "base_uri": "https://localhost:8080/",
          "height": 127
        }
      },
      "source": [
        "total.head()"
      ],
      "execution_count": 17,
      "outputs": [
        {
          "output_type": "execute_result",
          "data": {
            "text/plain": [
              "pm2_5    426428\n",
              "spm      237387\n",
              "rspm      40222\n",
              "so2       34646\n",
              "no2       16233\n",
              "dtype: int64"
            ]
          },
          "metadata": {
            "tags": []
          },
          "execution_count": 17
        }
      ]
    },
    {
      "cell_type": "markdown",
      "metadata": {
        "id": "6WM1gjn7s0jC"
      },
      "source": [
        "Calculate the percent of null values for each columns (sum of null values / total non-null value) *100"
      ]
    },
    {
      "cell_type": "code",
      "metadata": {
        "id": "7yuXEq_Ds0jF"
      },
      "source": [
        "percent = (data.isnull().sum()/data.isnull().count()*100).sort_values(ascending=False)  #count(returns Non-NAN value)"
      ],
      "execution_count": 18,
      "outputs": []
    },
    {
      "cell_type": "code",
      "metadata": {
        "id": "G94Qs1qfs0jm"
      },
      "source": [
        "missing_data = pd.concat([total, percent], axis=1, keys=['Total', 'Percent'])"
      ],
      "execution_count": 19,
      "outputs": []
    },
    {
      "cell_type": "code",
      "metadata": {
        "id": "mCoPnR0Hs0jx",
        "outputId": "97bbc1b5-f497-40f7-eb59-a01934d72b96",
        "colab": {
          "base_uri": "https://localhost:8080/",
          "height": 206
        }
      },
      "source": [
        "missing_data.head()"
      ],
      "execution_count": 20,
      "outputs": [
        {
          "output_type": "execute_result",
          "data": {
            "text/html": [
              "<div>\n",
              "<style scoped>\n",
              "    .dataframe tbody tr th:only-of-type {\n",
              "        vertical-align: middle;\n",
              "    }\n",
              "\n",
              "    .dataframe tbody tr th {\n",
              "        vertical-align: top;\n",
              "    }\n",
              "\n",
              "    .dataframe thead th {\n",
              "        text-align: right;\n",
              "    }\n",
              "</style>\n",
              "<table border=\"1\" class=\"dataframe\">\n",
              "  <thead>\n",
              "    <tr style=\"text-align: right;\">\n",
              "      <th></th>\n",
              "      <th>Total</th>\n",
              "      <th>Percent</th>\n",
              "    </tr>\n",
              "  </thead>\n",
              "  <tbody>\n",
              "    <tr>\n",
              "      <th>pm2_5</th>\n",
              "      <td>426428</td>\n",
              "      <td>97.862497</td>\n",
              "    </tr>\n",
              "    <tr>\n",
              "      <th>spm</th>\n",
              "      <td>237387</td>\n",
              "      <td>54.478797</td>\n",
              "    </tr>\n",
              "    <tr>\n",
              "      <th>rspm</th>\n",
              "      <td>40222</td>\n",
              "      <td>9.230692</td>\n",
              "    </tr>\n",
              "    <tr>\n",
              "      <th>so2</th>\n",
              "      <td>34646</td>\n",
              "      <td>7.951035</td>\n",
              "    </tr>\n",
              "    <tr>\n",
              "      <th>no2</th>\n",
              "      <td>16233</td>\n",
              "      <td>3.725370</td>\n",
              "    </tr>\n",
              "  </tbody>\n",
              "</table>\n",
              "</div>"
            ],
            "text/plain": [
              "        Total    Percent\n",
              "pm2_5  426428  97.862497\n",
              "spm    237387  54.478797\n",
              "rspm    40222   9.230692\n",
              "so2     34646   7.951035\n",
              "no2     16233   3.725370"
            ]
          },
          "metadata": {
            "tags": []
          },
          "execution_count": 20
        }
      ]
    },
    {
      "cell_type": "markdown",
      "metadata": {
        "id": "clMr6Tu1s0kB"
      },
      "source": [
        "# PERCENT OF MISSING VALUE (BAR PLOT)"
      ]
    },
    {
      "cell_type": "code",
      "metadata": {
        "id": "nrMdO_tos0kD",
        "outputId": "8d8771ef-1e4f-498f-df3b-b8451203e6f3",
        "colab": {
          "base_uri": "https://localhost:8080/",
          "height": 328
        }
      },
      "source": [
        "sns.barplot(x=missing_data.index, y=missing_data['Percent'])\n",
        "plt.xlabel('Features', fontsize=20)\n",
        "plt.ylabel('Percent of missing values', fontsize=20)\n",
        "plt.title('Percent missing data by feature', fontsize=20)"
      ],
      "execution_count": 21,
      "outputs": [
        {
          "output_type": "execute_result",
          "data": {
            "text/plain": [
              "Text(0.5, 1.0, 'Percent missing data by feature')"
            ]
          },
          "metadata": {
            "tags": []
          },
          "execution_count": 21
        },
        {
          "output_type": "display_data",
          "data": {
            "image/png": "[encoded data removed]",
            "text/plain": [
              "<Figure size 432x288 with 1 Axes>"
            ]
          },
          "metadata": {
            "tags": [],
            "needs_background": "light"
          }
        }
      ]
    },
    {
      "cell_type": "markdown",
      "metadata": {
        "id": "0v0f95nus0kN"
      },
      "source": [
        "# MEAN DISTRIBUTION BY STATE"
      ]
    },
    {
      "cell_type": "code",
      "metadata": {
        "id": "cSLRuk5is0kT",
        "outputId": "52d81bc4-e53f-44e7-9c89-8a4fda4b98e5",
        "colab": {
          "base_uri": "https://localhost:8080/",
          "height": 1000
        }
      },
      "source": [
        "data.groupby('state')[['spm','pm2_5','rspm','so2','no2']].mean()"
      ],
      "execution_count": 22,
      "outputs": [
        {
          "output_type": "execute_result",
          "data": {
            "text/html": [
              "<div>\n",
              "<style scoped>\n",
              "    .dataframe tbody tr th:only-of-type {\n",
              "        vertical-align: middle;\n",
              "    }\n",
              "\n",
              "    .dataframe tbody tr th {\n",
              "        vertical-align: top;\n",
              "    }\n",
              "\n",
              "    .dataframe thead th {\n",
              "        text-align: right;\n",
              "    }\n",
              "</style>\n",
              "<table border=\"1\" class=\"dataframe\">\n",
              "  <thead>\n",
              "    <tr style=\"text-align: right;\">\n",
              "      <th></th>\n",
              "      <th>spm</th>\n",
              "      <th>pm2_5</th>\n",
              "      <th>rspm</th>\n",
              "      <th>so2</th>\n",
              "      <th>no2</th>\n",
              "    </tr>\n",
              "    <tr>\n",
              "      <th>state</th>\n",
              "      <th></th>\n",
              "      <th></th>\n",
              "      <th></th>\n",
              "      <th></th>\n",
              "      <th></th>\n",
              "    </tr>\n",
              "  </thead>\n",
              "  <tbody>\n",
              "    <tr>\n",
              "      <th>Andhra Pradesh</th>\n",
              "      <td>200.260378</td>\n",
              "      <td>NaN</td>\n",
              "      <td>78.182824</td>\n",
              "      <td>7.284845</td>\n",
              "      <td>21.704451</td>\n",
              "    </tr>\n",
              "    <tr>\n",
              "      <th>Arunachal Pradesh</th>\n",
              "      <td>NaN</td>\n",
              "      <td>NaN</td>\n",
              "      <td>76.629213</td>\n",
              "      <td>3.179104</td>\n",
              "      <td>5.469697</td>\n",
              "    </tr>\n",
              "    <tr>\n",
              "      <th>Assam</th>\n",
              "      <td>153.355386</td>\n",
              "      <td>NaN</td>\n",
              "      <td>93.724912</td>\n",
              "      <td>6.723263</td>\n",
              "      <td>14.793691</td>\n",
              "    </tr>\n",
              "    <tr>\n",
              "      <th>Bihar</th>\n",
              "      <td>276.917416</td>\n",
              "      <td>NaN</td>\n",
              "      <td>123.705176</td>\n",
              "      <td>19.381476</td>\n",
              "      <td>36.575525</td>\n",
              "    </tr>\n",
              "    <tr>\n",
              "      <th>Chandigarh</th>\n",
              "      <td>206.056150</td>\n",
              "      <td>NaN</td>\n",
              "      <td>96.587079</td>\n",
              "      <td>2.676986</td>\n",
              "      <td>18.619404</td>\n",
              "    </tr>\n",
              "    <tr>\n",
              "      <th>Chhattisgarh</th>\n",
              "      <td>231.290969</td>\n",
              "      <td>NaN</td>\n",
              "      <td>126.472399</td>\n",
              "      <td>12.846609</td>\n",
              "      <td>24.815961</td>\n",
              "    </tr>\n",
              "    <tr>\n",
              "      <th>Dadra &amp; Nagar Haveli</th>\n",
              "      <td>170.545024</td>\n",
              "      <td>30.511628</td>\n",
              "      <td>76.536530</td>\n",
              "      <td>8.939587</td>\n",
              "      <td>18.293959</td>\n",
              "    </tr>\n",
              "    <tr>\n",
              "      <th>Daman &amp; Diu</th>\n",
              "      <td>145.681416</td>\n",
              "      <td>27.886364</td>\n",
              "      <td>73.749431</td>\n",
              "      <td>8.192958</td>\n",
              "      <td>16.168926</td>\n",
              "    </tr>\n",
              "    <tr>\n",
              "      <th>Delhi</th>\n",
              "      <td>399.402088</td>\n",
              "      <td>95.113208</td>\n",
              "      <td>196.639771</td>\n",
              "      <td>8.737273</td>\n",
              "      <td>53.489147</td>\n",
              "    </tr>\n",
              "    <tr>\n",
              "      <th>Goa</th>\n",
              "      <td>67.254193</td>\n",
              "      <td>18.855612</td>\n",
              "      <td>61.212766</td>\n",
              "      <td>6.827913</td>\n",
              "      <td>12.506337</td>\n",
              "    </tr>\n",
              "    <tr>\n",
              "      <th>Gujarat</th>\n",
              "      <td>191.567930</td>\n",
              "      <td>30.729696</td>\n",
              "      <td>98.244510</td>\n",
              "      <td>16.656343</td>\n",
              "      <td>24.065631</td>\n",
              "    </tr>\n",
              "    <tr>\n",
              "      <th>Haryana</th>\n",
              "      <td>268.264804</td>\n",
              "      <td>NaN</td>\n",
              "      <td>149.860537</td>\n",
              "      <td>14.064957</td>\n",
              "      <td>23.428311</td>\n",
              "    </tr>\n",
              "    <tr>\n",
              "      <th>Himachal Pradesh</th>\n",
              "      <td>208.575630</td>\n",
              "      <td>NaN</td>\n",
              "      <td>91.870202</td>\n",
              "      <td>2.667013</td>\n",
              "      <td>13.658688</td>\n",
              "    </tr>\n",
              "    <tr>\n",
              "      <th>Jammu &amp; Kashmir</th>\n",
              "      <td>196.221053</td>\n",
              "      <td>NaN</td>\n",
              "      <td>117.449483</td>\n",
              "      <td>7.180521</td>\n",
              "      <td>12.213181</td>\n",
              "    </tr>\n",
              "    <tr>\n",
              "      <th>Jharkhand</th>\n",
              "      <td>277.940746</td>\n",
              "      <td>NaN</td>\n",
              "      <td>168.517763</td>\n",
              "      <td>23.485794</td>\n",
              "      <td>43.366341</td>\n",
              "    </tr>\n",
              "    <tr>\n",
              "      <th>Karnataka</th>\n",
              "      <td>168.001743</td>\n",
              "      <td>NaN</td>\n",
              "      <td>79.371801</td>\n",
              "      <td>10.223099</td>\n",
              "      <td>22.702837</td>\n",
              "    </tr>\n",
              "    <tr>\n",
              "      <th>Kerala</th>\n",
              "      <td>84.419791</td>\n",
              "      <td>NaN</td>\n",
              "      <td>50.636064</td>\n",
              "      <td>5.322350</td>\n",
              "      <td>14.421889</td>\n",
              "    </tr>\n",
              "    <tr>\n",
              "      <th>Lakshadweep</th>\n",
              "      <td>NaN</td>\n",
              "      <td>NaN</td>\n",
              "      <td>NaN</td>\n",
              "      <td>NaN</td>\n",
              "      <td>NaN</td>\n",
              "    </tr>\n",
              "    <tr>\n",
              "      <th>Madhya Pradesh</th>\n",
              "      <td>210.067545</td>\n",
              "      <td>65.064565</td>\n",
              "      <td>114.717967</td>\n",
              "      <td>11.587410</td>\n",
              "      <td>18.639596</td>\n",
              "    </tr>\n",
              "    <tr>\n",
              "      <th>Maharashtra</th>\n",
              "      <td>205.255823</td>\n",
              "      <td>NaN</td>\n",
              "      <td>101.479608</td>\n",
              "      <td>17.366863</td>\n",
              "      <td>32.115370</td>\n",
              "    </tr>\n",
              "    <tr>\n",
              "      <th>Manipur</th>\n",
              "      <td>158.657895</td>\n",
              "      <td>NaN</td>\n",
              "      <td>69.815789</td>\n",
              "      <td>3.900000</td>\n",
              "      <td>20.173684</td>\n",
              "    </tr>\n",
              "    <tr>\n",
              "      <th>Meghalaya</th>\n",
              "      <td>78.002445</td>\n",
              "      <td>NaN</td>\n",
              "      <td>68.988442</td>\n",
              "      <td>8.955908</td>\n",
              "      <td>10.659706</td>\n",
              "    </tr>\n",
              "    <tr>\n",
              "      <th>Mizoram</th>\n",
              "      <td>87.833333</td>\n",
              "      <td>NaN</td>\n",
              "      <td>42.716466</td>\n",
              "      <td>2.085009</td>\n",
              "      <td>6.682171</td>\n",
              "    </tr>\n",
              "    <tr>\n",
              "      <th>Nagaland</th>\n",
              "      <td>133.311449</td>\n",
              "      <td>NaN</td>\n",
              "      <td>83.357027</td>\n",
              "      <td>2.059736</td>\n",
              "      <td>8.947265</td>\n",
              "    </tr>\n",
              "    <tr>\n",
              "      <th>Odisha</th>\n",
              "      <td>167.609844</td>\n",
              "      <td>42.204089</td>\n",
              "      <td>83.619824</td>\n",
              "      <td>5.275874</td>\n",
              "      <td>16.899568</td>\n",
              "    </tr>\n",
              "    <tr>\n",
              "      <th>Puducherry</th>\n",
              "      <td>95.598188</td>\n",
              "      <td>NaN</td>\n",
              "      <td>43.418217</td>\n",
              "      <td>11.970639</td>\n",
              "      <td>15.279496</td>\n",
              "    </tr>\n",
              "    <tr>\n",
              "      <th>Punjab</th>\n",
              "      <td>244.918926</td>\n",
              "      <td>NaN</td>\n",
              "      <td>173.493711</td>\n",
              "      <td>10.628598</td>\n",
              "      <td>28.085846</td>\n",
              "    </tr>\n",
              "    <tr>\n",
              "      <th>Rajasthan</th>\n",
              "      <td>300.735397</td>\n",
              "      <td>NaN</td>\n",
              "      <td>142.016832</td>\n",
              "      <td>7.665725</td>\n",
              "      <td>30.441008</td>\n",
              "    </tr>\n",
              "    <tr>\n",
              "      <th>Sikkim</th>\n",
              "      <td>75.000000</td>\n",
              "      <td>NaN</td>\n",
              "      <td>32.000000</td>\n",
              "      <td>19.800000</td>\n",
              "      <td>26.800000</td>\n",
              "    </tr>\n",
              "    <tr>\n",
              "      <th>Tamil Nadu</th>\n",
              "      <td>126.729064</td>\n",
              "      <td>29.550441</td>\n",
              "      <td>66.585638</td>\n",
              "      <td>11.315134</td>\n",
              "      <td>21.601202</td>\n",
              "    </tr>\n",
              "    <tr>\n",
              "      <th>Telangana</th>\n",
              "      <td>NaN</td>\n",
              "      <td>43.968927</td>\n",
              "      <td>85.043008</td>\n",
              "      <td>5.418609</td>\n",
              "      <td>23.864005</td>\n",
              "    </tr>\n",
              "    <tr>\n",
              "      <th>Tripura</th>\n",
              "      <td>NaN</td>\n",
              "      <td>NaN</td>\n",
              "      <td>NaN</td>\n",
              "      <td>NaN</td>\n",
              "      <td>NaN</td>\n",
              "    </tr>\n",
              "    <tr>\n",
              "      <th>Uttar Pradesh</th>\n",
              "      <td>372.663688</td>\n",
              "      <td>NaN</td>\n",
              "      <td>176.952308</td>\n",
              "      <td>12.528500</td>\n",
              "      <td>27.610095</td>\n",
              "    </tr>\n",
              "    <tr>\n",
              "      <th>Uttarakhand</th>\n",
              "      <td>306.758923</td>\n",
              "      <td>NaN</td>\n",
              "      <td>148.978906</td>\n",
              "      <td>24.372957</td>\n",
              "      <td>26.938090</td>\n",
              "    </tr>\n",
              "    <tr>\n",
              "      <th>Uttaranchal</th>\n",
              "      <td>283.335714</td>\n",
              "      <td>NaN</td>\n",
              "      <td>121.694340</td>\n",
              "      <td>24.697736</td>\n",
              "      <td>27.163019</td>\n",
              "    </tr>\n",
              "    <tr>\n",
              "      <th>West Bengal</th>\n",
              "      <td>233.506524</td>\n",
              "      <td>64.890625</td>\n",
              "      <td>115.039909</td>\n",
              "      <td>12.608766</td>\n",
              "      <td>59.075731</td>\n",
              "    </tr>\n",
              "    <tr>\n",
              "      <th>andaman-and-nicobar-islands</th>\n",
              "      <td>NaN</td>\n",
              "      <td>NaN</td>\n",
              "      <td>NaN</td>\n",
              "      <td>NaN</td>\n",
              "      <td>NaN</td>\n",
              "    </tr>\n",
              "  </tbody>\n",
              "</table>\n",
              "</div>"
            ],
            "text/plain": [
              "                                    spm      pm2_5  ...        so2        no2\n",
              "state                                               ...                      \n",
              "Andhra Pradesh               200.260378        NaN  ...   7.284845  21.704451\n",
              "Arunachal Pradesh                   NaN        NaN  ...   3.179104   5.469697\n",
              "Assam                        153.355386        NaN  ...   6.723263  14.793691\n",
              "Bihar                        276.917416        NaN  ...  19.381476  36.575525\n",
              "Chandigarh                   206.056150        NaN  ...   2.676986  18.619404\n",
              "Chhattisgarh                 231.290969        NaN  ...  12.846609  24.815961\n",
              "Dadra & Nagar Haveli         170.545024  30.511628  ...   8.939587  18.293959\n",
              "Daman & Diu                  145.681416  27.886364  ...   8.192958  16.168926\n",
              "Delhi                        399.402088  95.113208  ...   8.737273  53.489147\n",
              "Goa                           67.254193  18.855612  ...   6.827913  12.506337\n",
              "Gujarat                      191.567930  30.729696  ...  16.656343  24.065631\n",
              "Haryana                      268.264804        NaN  ...  14.064957  23.428311\n",
              "Himachal Pradesh             208.575630        NaN  ...   2.667013  13.658688\n",
              "Jammu & Kashmir              196.221053        NaN  ...   7.180521  12.213181\n",
              "Jharkhand                    277.940746        NaN  ...  23.485794  43.366341\n",
              "Karnataka                    168.001743        NaN  ...  10.223099  22.702837\n",
              "Kerala                        84.419791        NaN  ...   5.322350  14.421889\n",
              "Lakshadweep                         NaN        NaN  ...        NaN        NaN\n",
              "Madhya Pradesh               210.067545  65.064565  ...  11.587410  18.639596\n",
              "Maharashtra                  205.255823        NaN  ...  17.366863  32.115370\n",
              "Manipur                      158.657895        NaN  ...   3.900000  20.173684\n",
              "Meghalaya                     78.002445        NaN  ...   8.955908  10.659706\n",
              "Mizoram                       87.833333        NaN  ...   2.085009   6.682171\n",
              "Nagaland                     133.311449        NaN  ...   2.059736   8.947265\n",
              "Odisha                       167.609844  42.204089  ...   5.275874  16.899568\n",
              "Puducherry                    95.598188        NaN  ...  11.970639  15.279496\n",
              "Punjab                       244.918926        NaN  ...  10.628598  28.085846\n",
              "Rajasthan                    300.735397        NaN  ...   7.665725  30.441008\n",
              "Sikkim                        75.000000        NaN  ...  19.800000  26.800000\n",
              "Tamil Nadu                   126.729064  29.550441  ...  11.315134  21.601202\n",
              "Telangana                           NaN  43.968927  ...   5.418609  23.864005\n",
              "Tripura                             NaN        NaN  ...        NaN        NaN\n",
              "Uttar Pradesh                372.663688        NaN  ...  12.528500  27.610095\n",
              "Uttarakhand                  306.758923        NaN  ...  24.372957  26.938090\n",
              "Uttaranchal                  283.335714        NaN  ...  24.697736  27.163019\n",
              "West Bengal                  233.506524  64.890625  ...  12.608766  59.075731\n",
              "andaman-and-nicobar-islands         NaN        NaN  ...        NaN        NaN\n",
              "\n",
              "[37 rows x 5 columns]"
            ]
          },
          "metadata": {
            "tags": []
          },
          "execution_count": 22
        }
      ]
    },
    {
      "cell_type": "markdown",
      "metadata": {
        "id": "usV5MzQXs0lj"
      },
      "source": [
        "# FILL MISSING VALUES BY MEAN (GROUP BY STATE)"
      ]
    },
    {
      "cell_type": "code",
      "metadata": {
        "id": "Tx7HEJP_s0ll"
      },
      "source": [
        "grp_state = data.groupby('state')"
      ],
      "execution_count": 23,
      "outputs": []
    },
    {
      "cell_type": "code",
      "metadata": {
        "id": "-HobVBF-s0lu"
      },
      "source": [
        "def impute_mean_by_state(series):\n",
        "    return series.fillna(series.mean()) "
      ],
      "execution_count": 24,
      "outputs": []
    },
    {
      "cell_type": "code",
      "metadata": {
        "id": "uGXLQ4tis0l7"
      },
      "source": [
        "data['rspm']=grp_state['rspm'].transform(impute_mean_by_state)  #fill value with mean value group by state\n",
        "data['so2']=grp_state['so2'].transform(impute_mean_by_state)\n",
        "data['no2']=grp_state['no2'].transform(impute_mean_by_state)\n",
        "data['spm']=grp_state['spm'].transform(impute_mean_by_state)\n",
        "data['pm2_5']=grp_state['pm2_5'].transform(impute_mean_by_state)"
      ],
      "execution_count": 25,
      "outputs": []
    },
    {
      "cell_type": "code",
      "metadata": {
        "id": "bdXgflOvs0mD",
        "outputId": "88ae326f-8a99-4abe-e6f2-0ef89c148fa4",
        "colab": {
          "base_uri": "https://localhost:8080/",
          "height": 300
        }
      },
      "source": [
        "data.describe()"
      ],
      "execution_count": 26,
      "outputs": [
        {
          "output_type": "execute_result",
          "data": {
            "text/html": [
              "<div>\n",
              "<style scoped>\n",
              "    .dataframe tbody tr th:only-of-type {\n",
              "        vertical-align: middle;\n",
              "    }\n",
              "\n",
              "    .dataframe tbody tr th {\n",
              "        vertical-align: top;\n",
              "    }\n",
              "\n",
              "    .dataframe thead th {\n",
              "        text-align: right;\n",
              "    }\n",
              "</style>\n",
              "<table border=\"1\" class=\"dataframe\">\n",
              "  <thead>\n",
              "    <tr style=\"text-align: right;\">\n",
              "      <th></th>\n",
              "      <th>so2</th>\n",
              "      <th>no2</th>\n",
              "      <th>rspm</th>\n",
              "      <th>spm</th>\n",
              "      <th>pm2_5</th>\n",
              "    </tr>\n",
              "  </thead>\n",
              "  <tbody>\n",
              "    <tr>\n",
              "      <th>count</th>\n",
              "      <td>435739.000000</td>\n",
              "      <td>435739.000000</td>\n",
              "      <td>435739.000000</td>\n",
              "      <td>431671.000000</td>\n",
              "      <td>123689.000000</td>\n",
              "    </tr>\n",
              "    <tr>\n",
              "      <th>mean</th>\n",
              "      <td>10.589141</td>\n",
              "      <td>25.663170</td>\n",
              "      <td>109.680907</td>\n",
              "      <td>215.198748</td>\n",
              "      <td>48.317274</td>\n",
              "    </tr>\n",
              "    <tr>\n",
              "      <th>std</th>\n",
              "      <td>10.863679</td>\n",
              "      <td>18.271145</td>\n",
              "      <td>72.519399</td>\n",
              "      <td>117.470157</td>\n",
              "      <td>21.455206</td>\n",
              "    </tr>\n",
              "    <tr>\n",
              "      <th>min</th>\n",
              "      <td>0.000000</td>\n",
              "      <td>0.000000</td>\n",
              "      <td>0.000000</td>\n",
              "      <td>0.000000</td>\n",
              "      <td>3.000000</td>\n",
              "    </tr>\n",
              "    <tr>\n",
              "      <th>25%</th>\n",
              "      <td>4.800000</td>\n",
              "      <td>14.000000</td>\n",
              "      <td>59.000000</td>\n",
              "      <td>142.000000</td>\n",
              "      <td>30.729696</td>\n",
              "    </tr>\n",
              "    <tr>\n",
              "      <th>50%</th>\n",
              "      <td>8.000000</td>\n",
              "      <td>21.800000</td>\n",
              "      <td>93.000000</td>\n",
              "      <td>205.255823</td>\n",
              "      <td>42.204089</td>\n",
              "    </tr>\n",
              "    <tr>\n",
              "      <th>75%</th>\n",
              "      <td>13.000000</td>\n",
              "      <td>32.000000</td>\n",
              "      <td>142.016832</td>\n",
              "      <td>248.000000</td>\n",
              "      <td>64.890625</td>\n",
              "    </tr>\n",
              "    <tr>\n",
              "      <th>max</th>\n",
              "      <td>909.000000</td>\n",
              "      <td>876.000000</td>\n",
              "      <td>6307.033333</td>\n",
              "      <td>3380.000000</td>\n",
              "      <td>504.000000</td>\n",
              "    </tr>\n",
              "  </tbody>\n",
              "</table>\n",
              "</div>"
            ],
            "text/plain": [
              "                 so2            no2  ...            spm          pm2_5\n",
              "count  435739.000000  435739.000000  ...  431671.000000  123689.000000\n",
              "mean       10.589141      25.663170  ...     215.198748      48.317274\n",
              "std        10.863679      18.271145  ...     117.470157      21.455206\n",
              "min         0.000000       0.000000  ...       0.000000       3.000000\n",
              "25%         4.800000      14.000000  ...     142.000000      30.729696\n",
              "50%         8.000000      21.800000  ...     205.255823      42.204089\n",
              "75%        13.000000      32.000000  ...     248.000000      64.890625\n",
              "max       909.000000     876.000000  ...    3380.000000     504.000000\n",
              "\n",
              "[8 rows x 5 columns]"
            ]
          },
          "metadata": {
            "tags": []
          },
          "execution_count": 26
        }
      ]
    },
    {
      "cell_type": "code",
      "metadata": {
        "id": "SaI7wn0Rs0mN",
        "outputId": "7dc3d25d-d2c7-4703-dcd5-3eaef49ddcc4",
        "colab": {
          "base_uri": "https://localhost:8080/",
          "height": 201
        }
      },
      "source": [
        "data.isna().sum() #some null value remains since some state have one value(i.e NaN only) and no mean to replace them"
      ],
      "execution_count": 27,
      "outputs": [
        {
          "output_type": "execute_result",
          "data": {
            "text/plain": [
              "state            0\n",
              "location         3\n",
              "type          5393\n",
              "so2              3\n",
              "no2              3\n",
              "rspm             3\n",
              "spm           4071\n",
              "pm2_5       312053\n",
              "date             7\n",
              "dtype: int64"
            ]
          },
          "metadata": {
            "tags": []
          },
          "execution_count": 27
        }
      ]
    },
    {
      "cell_type": "markdown",
      "metadata": {
        "id": "uYN4nuess0mV"
      },
      "source": [
        "# Data Distribution after Replacing Null value with mean"
      ]
    },
    {
      "cell_type": "code",
      "metadata": {
        "id": "FaAfQL7ms0mW",
        "outputId": "03735409-7076-48d2-bf5c-4fe01d0c4274",
        "colab": {
          "base_uri": "https://localhost:8080/",
          "height": 450
        }
      },
      "source": [
        "plt.hist(data.so2,range=(0,1000))"
      ],
      "execution_count": 28,
      "outputs": [
        {
          "output_type": "stream",
          "text": [
            "/usr/local/lib/python3.6/dist-packages/numpy/lib/histograms.py:839: RuntimeWarning: invalid value encountered in greater_equal\n",
            "  keep = (tmp_a >= first_edge)\n",
            "/usr/local/lib/python3.6/dist-packages/numpy/lib/histograms.py:840: RuntimeWarning: invalid value encountered in less_equal\n",
            "  keep &= (tmp_a <= last_edge)\n"
          ],
          "name": "stderr"
        },
        {
          "output_type": "execute_result",
          "data": {
            "text/plain": [
              "(array([4.35165e+05, 4.81000e+02, 6.40000e+01, 2.10000e+01, 6.00000e+00,\n",
              "        1.00000e+00, 0.00000e+00, 0.00000e+00, 0.00000e+00, 1.00000e+00]),\n",
              " array([   0.,  100.,  200.,  300.,  400.,  500.,  600.,  700.,  800.,\n",
              "         900., 1000.]),\n",
              " <a list of 10 Patch objects>)"
            ]
          },
          "metadata": {
            "tags": []
          },
          "execution_count": 28
        },
        {
          "output_type": "display_data",
          "data": {
            "image/png": "[encoded data removed]",
            "text/plain": [
              "<Figure size 432x288 with 1 Axes>"
            ]
          },
          "metadata": {
            "tags": [],
            "needs_background": "light"
          }
        }
      ]
    },
    {
      "cell_type": "code",
      "metadata": {
        "id": "Qj0mbTErs0mf",
        "outputId": "fdd96682-d85e-480c-98f2-c66759c1838a",
        "colab": {
          "base_uri": "https://localhost:8080/",
          "height": 450
        }
      },
      "source": [
        "plt.hist(data.rspm,range=(0,7000))"
      ],
      "execution_count": 29,
      "outputs": [
        {
          "output_type": "stream",
          "text": [
            "/usr/local/lib/python3.6/dist-packages/numpy/lib/histograms.py:839: RuntimeWarning: invalid value encountered in greater_equal\n",
            "  keep = (tmp_a >= first_edge)\n",
            "/usr/local/lib/python3.6/dist-packages/numpy/lib/histograms.py:840: RuntimeWarning: invalid value encountered in less_equal\n",
            "  keep &= (tmp_a <= last_edge)\n"
          ],
          "name": "stderr"
        },
        {
          "output_type": "execute_result",
          "data": {
            "text/plain": [
              "(array([4.35644e+05, 9.40000e+01, 0.00000e+00, 0.00000e+00, 0.00000e+00,\n",
              "        0.00000e+00, 0.00000e+00, 0.00000e+00, 0.00000e+00, 1.00000e+00]),\n",
              " array([   0.,  700., 1400., 2100., 2800., 3500., 4200., 4900., 5600.,\n",
              "        6300., 7000.]),\n",
              " <a list of 10 Patch objects>)"
            ]
          },
          "metadata": {
            "tags": []
          },
          "execution_count": 29
        },
        {
          "output_type": "display_data",
          "data": {
            "image/png": "[encoded data removed]",
            "text/plain": [
              "<Figure size 432x288 with 1 Axes>"
            ]
          },
          "metadata": {
            "tags": [],
            "needs_background": "light"
          }
        }
      ]
    },
    {
      "cell_type": "code",
      "metadata": {
        "id": "4vH2-ir0s0ml",
        "outputId": "ae128895-f61a-4077-ac04-af786a3935fe",
        "colab": {
          "base_uri": "https://localhost:8080/",
          "height": 450
        }
      },
      "source": [
        "plt.hist(data.no2,range=(0.0,1000))"
      ],
      "execution_count": 30,
      "outputs": [
        {
          "output_type": "stream",
          "text": [
            "/usr/local/lib/python3.6/dist-packages/numpy/lib/histograms.py:839: RuntimeWarning: invalid value encountered in greater_equal\n",
            "  keep = (tmp_a >= first_edge)\n",
            "/usr/local/lib/python3.6/dist-packages/numpy/lib/histograms.py:840: RuntimeWarning: invalid value encountered in less_equal\n",
            "  keep &= (tmp_a <= last_edge)\n"
          ],
          "name": "stderr"
        },
        {
          "output_type": "execute_result",
          "data": {
            "text/plain": [
              "(array([4.32458e+05, 3.10400e+03, 1.32000e+02, 3.20000e+01, 7.00000e+00,\n",
              "        3.00000e+00, 2.00000e+00, 0.00000e+00, 1.00000e+00, 0.00000e+00]),\n",
              " array([   0.,  100.,  200.,  300.,  400.,  500.,  600.,  700.,  800.,\n",
              "         900., 1000.]),\n",
              " <a list of 10 Patch objects>)"
            ]
          },
          "metadata": {
            "tags": []
          },
          "execution_count": 30
        },
        {
          "output_type": "display_data",
          "data": {
            "image/png": "[encoded data removed]",
            "text/plain": [
              "<Figure size 432x288 with 1 Axes>"
            ]
          },
          "metadata": {
            "tags": [],
            "needs_background": "light"
          }
        }
      ]
    },
    {
      "cell_type": "code",
      "metadata": {
        "id": "1R65dQsPs0mr",
        "outputId": "fe18b43d-500c-431d-e193-aed231c1090d",
        "colab": {
          "base_uri": "https://localhost:8080/",
          "height": 450
        }
      },
      "source": [
        "plt.hist(data.spm,range=(0.0,4000)) #spm"
      ],
      "execution_count": 31,
      "outputs": [
        {
          "output_type": "stream",
          "text": [
            "/usr/local/lib/python3.6/dist-packages/numpy/lib/histograms.py:839: RuntimeWarning: invalid value encountered in greater_equal\n",
            "  keep = (tmp_a >= first_edge)\n",
            "/usr/local/lib/python3.6/dist-packages/numpy/lib/histograms.py:840: RuntimeWarning: invalid value encountered in less_equal\n",
            "  keep &= (tmp_a <= last_edge)\n"
          ],
          "name": "stderr"
        },
        {
          "output_type": "execute_result",
          "data": {
            "text/plain": [
              "(array([4.07548e+05, 2.30180e+04, 1.02600e+03, 6.10000e+01, 1.10000e+01,\n",
              "        4.00000e+00, 2.00000e+00, 0.00000e+00, 1.00000e+00, 0.00000e+00]),\n",
              " array([   0.,  400.,  800., 1200., 1600., 2000., 2400., 2800., 3200.,\n",
              "        3600., 4000.]),\n",
              " <a list of 10 Patch objects>)"
            ]
          },
          "metadata": {
            "tags": []
          },
          "execution_count": 31
        },
        {
          "output_type": "display_data",
          "data": {
            "image/png": "[encoded data removed]",
            "text/plain": [
              "<Figure size 432x288 with 1 Axes>"
            ]
          },
          "metadata": {
            "tags": [],
            "needs_background": "light"
          }
        }
      ]
    },
    {
      "cell_type": "code",
      "metadata": {
        "id": "RtE9X_pps0mw",
        "outputId": "ce99a416-e198-4f3d-f1a3-c7642f75cbe6",
        "colab": {
          "base_uri": "https://localhost:8080/",
          "height": 363
        }
      },
      "source": [
        "data.tail(10)"
      ],
      "execution_count": 32,
      "outputs": [
        {
          "output_type": "execute_result",
          "data": {
            "text/html": [
              "<div>\n",
              "<style scoped>\n",
              "    .dataframe tbody tr th:only-of-type {\n",
              "        vertical-align: middle;\n",
              "    }\n",
              "\n",
              "    .dataframe tbody tr th {\n",
              "        vertical-align: top;\n",
              "    }\n",
              "\n",
              "    .dataframe thead th {\n",
              "        text-align: right;\n",
              "    }\n",
              "</style>\n",
              "<table border=\"1\" class=\"dataframe\">\n",
              "  <thead>\n",
              "    <tr style=\"text-align: right;\">\n",
              "      <th></th>\n",
              "      <th>state</th>\n",
              "      <th>location</th>\n",
              "      <th>type</th>\n",
              "      <th>so2</th>\n",
              "      <th>no2</th>\n",
              "      <th>rspm</th>\n",
              "      <th>spm</th>\n",
              "      <th>pm2_5</th>\n",
              "      <th>date</th>\n",
              "    </tr>\n",
              "  </thead>\n",
              "  <tbody>\n",
              "    <tr>\n",
              "      <th>435732</th>\n",
              "      <td>West Bengal</td>\n",
              "      <td>ULUBERIA</td>\n",
              "      <td>RIRUO</td>\n",
              "      <td>22.0</td>\n",
              "      <td>50.0</td>\n",
              "      <td>145.0</td>\n",
              "      <td>233.506524</td>\n",
              "      <td>64.890625</td>\n",
              "      <td>2015-12-09</td>\n",
              "    </tr>\n",
              "    <tr>\n",
              "      <th>435733</th>\n",
              "      <td>West Bengal</td>\n",
              "      <td>ULUBERIA</td>\n",
              "      <td>RIRUO</td>\n",
              "      <td>34.0</td>\n",
              "      <td>61.0</td>\n",
              "      <td>161.0</td>\n",
              "      <td>233.506524</td>\n",
              "      <td>64.890625</td>\n",
              "      <td>2015-12-12</td>\n",
              "    </tr>\n",
              "    <tr>\n",
              "      <th>435734</th>\n",
              "      <td>West Bengal</td>\n",
              "      <td>ULUBERIA</td>\n",
              "      <td>RIRUO</td>\n",
              "      <td>20.0</td>\n",
              "      <td>44.0</td>\n",
              "      <td>148.0</td>\n",
              "      <td>233.506524</td>\n",
              "      <td>64.890625</td>\n",
              "      <td>2015-12-15</td>\n",
              "    </tr>\n",
              "    <tr>\n",
              "      <th>435735</th>\n",
              "      <td>West Bengal</td>\n",
              "      <td>ULUBERIA</td>\n",
              "      <td>RIRUO</td>\n",
              "      <td>17.0</td>\n",
              "      <td>44.0</td>\n",
              "      <td>131.0</td>\n",
              "      <td>233.506524</td>\n",
              "      <td>64.890625</td>\n",
              "      <td>2015-12-18</td>\n",
              "    </tr>\n",
              "    <tr>\n",
              "      <th>435736</th>\n",
              "      <td>West Bengal</td>\n",
              "      <td>ULUBERIA</td>\n",
              "      <td>RIRUO</td>\n",
              "      <td>18.0</td>\n",
              "      <td>45.0</td>\n",
              "      <td>140.0</td>\n",
              "      <td>233.506524</td>\n",
              "      <td>64.890625</td>\n",
              "      <td>2015-12-21</td>\n",
              "    </tr>\n",
              "    <tr>\n",
              "      <th>435737</th>\n",
              "      <td>West Bengal</td>\n",
              "      <td>ULUBERIA</td>\n",
              "      <td>RIRUO</td>\n",
              "      <td>22.0</td>\n",
              "      <td>50.0</td>\n",
              "      <td>143.0</td>\n",
              "      <td>233.506524</td>\n",
              "      <td>64.890625</td>\n",
              "      <td>2015-12-24</td>\n",
              "    </tr>\n",
              "    <tr>\n",
              "      <th>435738</th>\n",
              "      <td>West Bengal</td>\n",
              "      <td>ULUBERIA</td>\n",
              "      <td>RIRUO</td>\n",
              "      <td>20.0</td>\n",
              "      <td>46.0</td>\n",
              "      <td>171.0</td>\n",
              "      <td>233.506524</td>\n",
              "      <td>64.890625</td>\n",
              "      <td>2015-12-29</td>\n",
              "    </tr>\n",
              "    <tr>\n",
              "      <th>435739</th>\n",
              "      <td>andaman-and-nicobar-islands</td>\n",
              "      <td>NaN</td>\n",
              "      <td>NaN</td>\n",
              "      <td>NaN</td>\n",
              "      <td>NaN</td>\n",
              "      <td>NaN</td>\n",
              "      <td>NaN</td>\n",
              "      <td>NaN</td>\n",
              "      <td>NaN</td>\n",
              "    </tr>\n",
              "    <tr>\n",
              "      <th>435740</th>\n",
              "      <td>Lakshadweep</td>\n",
              "      <td>NaN</td>\n",
              "      <td>NaN</td>\n",
              "      <td>NaN</td>\n",
              "      <td>NaN</td>\n",
              "      <td>NaN</td>\n",
              "      <td>NaN</td>\n",
              "      <td>NaN</td>\n",
              "      <td>NaN</td>\n",
              "    </tr>\n",
              "    <tr>\n",
              "      <th>435741</th>\n",
              "      <td>Tripura</td>\n",
              "      <td>NaN</td>\n",
              "      <td>NaN</td>\n",
              "      <td>NaN</td>\n",
              "      <td>NaN</td>\n",
              "      <td>NaN</td>\n",
              "      <td>NaN</td>\n",
              "      <td>NaN</td>\n",
              "      <td>NaN</td>\n",
              "    </tr>\n",
              "  </tbody>\n",
              "</table>\n",
              "</div>"
            ],
            "text/plain": [
              "                              state  location  ...      pm2_5        date\n",
              "435732                  West Bengal  ULUBERIA  ...  64.890625  2015-12-09\n",
              "435733                  West Bengal  ULUBERIA  ...  64.890625  2015-12-12\n",
              "435734                  West Bengal  ULUBERIA  ...  64.890625  2015-12-15\n",
              "435735                  West Bengal  ULUBERIA  ...  64.890625  2015-12-18\n",
              "435736                  West Bengal  ULUBERIA  ...  64.890625  2015-12-21\n",
              "435737                  West Bengal  ULUBERIA  ...  64.890625  2015-12-24\n",
              "435738                  West Bengal  ULUBERIA  ...  64.890625  2015-12-29\n",
              "435739  andaman-and-nicobar-islands       NaN  ...        NaN         NaN\n",
              "435740                  Lakshadweep       NaN  ...        NaN         NaN\n",
              "435741                      Tripura       NaN  ...        NaN         NaN\n",
              "\n",
              "[10 rows x 9 columns]"
            ]
          },
          "metadata": {
            "tags": []
          },
          "execution_count": 32
        }
      ]
    },
    {
      "cell_type": "markdown",
      "metadata": {
        "id": "ddc0aSLjs0m2"
      },
      "source": [
        "# CALCULATE AIR QUALITY INDEX FOR SO2 BASED ON FORMULA\n",
        "\n",
        "The air quality index is a piecewise linear function of the pollutant concentration. At the boundary between AQI categories, there is a discontinuous jump of one AQI unit. To convert from concentration to AQI this equation is used\n",
        "\\begin{equation*}\n",
        "I = I_{low} +  \\frac{I_{high}-I_{low}}{C_{high}-C_{low}}{(C-C_{low})}\n",
        "\\end{equation*}\n",
        "\n"
      ]
    },
    {
      "cell_type": "code",
      "metadata": {
        "id": "Zp6mq6zys0m4",
        "outputId": "cf995b9c-6bc3-4aee-9bde-5bb84780a368",
        "colab": {
          "base_uri": "https://localhost:8080/",
          "height": 206
        }
      },
      "source": [
        "def cal_SOi(so2):\n",
        "    si=0\n",
        "    if (so2<=40):\n",
        "     si= so2*(50/40)\n",
        "    elif (so2>40 and so2<=80):\n",
        "     si= 50+(so2-40)*(50/40)\n",
        "    elif (so2>80 and so2<=380):\n",
        "     si= 100+(so2-80)*(100/300)\n",
        "    elif (so2>380 and so2<=800):\n",
        "     si= 200+(so2-380)*(100/420)\n",
        "    elif (so2>800 and so2<=1600):\n",
        "     si= 300+(so2-800)*(100/800)\n",
        "    elif (so2>1600):\n",
        "     si= 400+(so2-1600)*(100/800)\n",
        "    return si\n",
        "data['SOi']=data['so2'].apply(cal_SOi)\n",
        "df= data[['so2','SOi']]\n",
        "df.head()"
      ],
      "execution_count": 33,
      "outputs": [
        {
          "output_type": "execute_result",
          "data": {
            "text/html": [
              "<div>\n",
              "<style scoped>\n",
              "    .dataframe tbody tr th:only-of-type {\n",
              "        vertical-align: middle;\n",
              "    }\n",
              "\n",
              "    .dataframe tbody tr th {\n",
              "        vertical-align: top;\n",
              "    }\n",
              "\n",
              "    .dataframe thead th {\n",
              "        text-align: right;\n",
              "    }\n",
              "</style>\n",
              "<table border=\"1\" class=\"dataframe\">\n",
              "  <thead>\n",
              "    <tr style=\"text-align: right;\">\n",
              "      <th></th>\n",
              "      <th>so2</th>\n",
              "      <th>SOi</th>\n",
              "    </tr>\n",
              "  </thead>\n",
              "  <tbody>\n",
              "    <tr>\n",
              "      <th>0</th>\n",
              "      <td>4.8</td>\n",
              "      <td>6.000</td>\n",
              "    </tr>\n",
              "    <tr>\n",
              "      <th>1</th>\n",
              "      <td>3.1</td>\n",
              "      <td>3.875</td>\n",
              "    </tr>\n",
              "    <tr>\n",
              "      <th>2</th>\n",
              "      <td>6.2</td>\n",
              "      <td>7.750</td>\n",
              "    </tr>\n",
              "    <tr>\n",
              "      <th>3</th>\n",
              "      <td>6.3</td>\n",
              "      <td>7.875</td>\n",
              "    </tr>\n",
              "    <tr>\n",
              "      <th>4</th>\n",
              "      <td>4.7</td>\n",
              "      <td>5.875</td>\n",
              "    </tr>\n",
              "  </tbody>\n",
              "</table>\n",
              "</div>"
            ],
            "text/plain": [
              "   so2    SOi\n",
              "0  4.8  6.000\n",
              "1  3.1  3.875\n",
              "2  6.2  7.750\n",
              "3  6.3  7.875\n",
              "4  4.7  5.875"
            ]
          },
          "metadata": {
            "tags": []
          },
          "execution_count": 33
        }
      ]
    },
    {
      "cell_type": "markdown",
      "metadata": {
        "id": "ivIlhHX9s0m7"
      },
      "source": [
        "# CALCULATE  AIR QUALITY INDEX FOR NO2 BASED ON FORMULA"
      ]
    },
    {
      "cell_type": "code",
      "metadata": {
        "id": "09LkFCNcs0m8",
        "outputId": "6fca2462-5297-4741-9eb9-36af7a190439",
        "colab": {
          "base_uri": "https://localhost:8080/",
          "height": 206
        }
      },
      "source": [
        "def cal_Noi(no2):\n",
        "    ni=0\n",
        "    if(no2<=40):\n",
        "     ni= no2*50/40\n",
        "    elif(no2>40 and no2<=80):\n",
        "     ni= 50+(no2-40)*(50/40)\n",
        "    elif(no2>80 and no2<=180):\n",
        "     ni= 100+(no2-80)*(100/100)\n",
        "    elif(no2>180 and no2<=280):\n",
        "     ni= 200+(no2-180)*(100/100)\n",
        "    elif(no2>280 and no2<=400):\n",
        "     ni= 300+(no2-280)*(100/120)\n",
        "    else:\n",
        "     ni= 400+(no2-400)*(100/120)\n",
        "    return ni\n",
        "data['Noi']=data['no2'].apply(cal_Noi)\n",
        "df= data[['no2','Noi']]\n",
        "df.head()"
      ],
      "execution_count": 34,
      "outputs": [
        {
          "output_type": "execute_result",
          "data": {
            "text/html": [
              "<div>\n",
              "<style scoped>\n",
              "    .dataframe tbody tr th:only-of-type {\n",
              "        vertical-align: middle;\n",
              "    }\n",
              "\n",
              "    .dataframe tbody tr th {\n",
              "        vertical-align: top;\n",
              "    }\n",
              "\n",
              "    .dataframe thead th {\n",
              "        text-align: right;\n",
              "    }\n",
              "</style>\n",
              "<table border=\"1\" class=\"dataframe\">\n",
              "  <thead>\n",
              "    <tr style=\"text-align: right;\">\n",
              "      <th></th>\n",
              "      <th>no2</th>\n",
              "      <th>Noi</th>\n",
              "    </tr>\n",
              "  </thead>\n",
              "  <tbody>\n",
              "    <tr>\n",
              "      <th>0</th>\n",
              "      <td>17.4</td>\n",
              "      <td>21.750</td>\n",
              "    </tr>\n",
              "    <tr>\n",
              "      <th>1</th>\n",
              "      <td>7.0</td>\n",
              "      <td>8.750</td>\n",
              "    </tr>\n",
              "    <tr>\n",
              "      <th>2</th>\n",
              "      <td>28.5</td>\n",
              "      <td>35.625</td>\n",
              "    </tr>\n",
              "    <tr>\n",
              "      <th>3</th>\n",
              "      <td>14.7</td>\n",
              "      <td>18.375</td>\n",
              "    </tr>\n",
              "    <tr>\n",
              "      <th>4</th>\n",
              "      <td>7.5</td>\n",
              "      <td>9.375</td>\n",
              "    </tr>\n",
              "  </tbody>\n",
              "</table>\n",
              "</div>"
            ],
            "text/plain": [
              "    no2     Noi\n",
              "0  17.4  21.750\n",
              "1   7.0   8.750\n",
              "2  28.5  35.625\n",
              "3  14.7  18.375\n",
              "4   7.5   9.375"
            ]
          },
          "metadata": {
            "tags": []
          },
          "execution_count": 34
        }
      ]
    },
    {
      "cell_type": "markdown",
      "metadata": {
        "id": "khXc8EH9s0nD"
      },
      "source": [
        "# CALCULATE  AIR QUALITY INDEX FOR RSPM BASED ON FORMULA"
      ]
    },
    {
      "cell_type": "code",
      "metadata": {
        "id": "weGEgpCRs0nE",
        "outputId": "e6ca0f3b-84f3-47a6-e0e5-7bf29e767f82",
        "colab": {
          "base_uri": "https://localhost:8080/",
          "height": 206
        }
      },
      "source": [
        "def cal_RSPMi(rspm):\n",
        "    rpi=0\n",
        "    if(rspm<=100):\n",
        "     rpi = rspm\n",
        "    elif(rspm>=101 and rspm<=150):\n",
        "     rpi= 101+(rspm-101)*((200-101)/(150-101))\n",
        "    elif(rspm>=151 and rspm<=350):\n",
        "     ni= 201+(rspm-151)*((300-201)/(350-151))\n",
        "    elif(rspm>=351 and rspm<=420):\n",
        "     ni= 301+(rspm-351)*((400-301)/(420-351))\n",
        "    elif(rspm>420):\n",
        "     ni= 401+(rspm-420)*((500-401)/(420-351))\n",
        "    return rpi\n",
        "data['RSPMi']=data['rspm'].apply(cal_RSPMi)\n",
        "df= data[['rspm','RSPMi']]\n",
        "df.head()"
      ],
      "execution_count": 35,
      "outputs": [
        {
          "output_type": "execute_result",
          "data": {
            "text/html": [
              "<div>\n",
              "<style scoped>\n",
              "    .dataframe tbody tr th:only-of-type {\n",
              "        vertical-align: middle;\n",
              "    }\n",
              "\n",
              "    .dataframe tbody tr th {\n",
              "        vertical-align: top;\n",
              "    }\n",
              "\n",
              "    .dataframe thead th {\n",
              "        text-align: right;\n",
              "    }\n",
              "</style>\n",
              "<table border=\"1\" class=\"dataframe\">\n",
              "  <thead>\n",
              "    <tr style=\"text-align: right;\">\n",
              "      <th></th>\n",
              "      <th>rspm</th>\n",
              "      <th>RSPMi</th>\n",
              "    </tr>\n",
              "  </thead>\n",
              "  <tbody>\n",
              "    <tr>\n",
              "      <th>0</th>\n",
              "      <td>78.182824</td>\n",
              "      <td>78.182824</td>\n",
              "    </tr>\n",
              "    <tr>\n",
              "      <th>1</th>\n",
              "      <td>78.182824</td>\n",
              "      <td>78.182824</td>\n",
              "    </tr>\n",
              "    <tr>\n",
              "      <th>2</th>\n",
              "      <td>78.182824</td>\n",
              "      <td>78.182824</td>\n",
              "    </tr>\n",
              "    <tr>\n",
              "      <th>3</th>\n",
              "      <td>78.182824</td>\n",
              "      <td>78.182824</td>\n",
              "    </tr>\n",
              "    <tr>\n",
              "      <th>4</th>\n",
              "      <td>78.182824</td>\n",
              "      <td>78.182824</td>\n",
              "    </tr>\n",
              "  </tbody>\n",
              "</table>\n",
              "</div>"
            ],
            "text/plain": [
              "        rspm      RSPMi\n",
              "0  78.182824  78.182824\n",
              "1  78.182824  78.182824\n",
              "2  78.182824  78.182824\n",
              "3  78.182824  78.182824\n",
              "4  78.182824  78.182824"
            ]
          },
          "metadata": {
            "tags": []
          },
          "execution_count": 35
        }
      ]
    },
    {
      "cell_type": "code",
      "metadata": {
        "id": "HVPWI0VZs0nL",
        "outputId": "a57a940d-64b6-4325-b309-53f4a2fcb5ed",
        "colab": {
          "base_uri": "https://localhost:8080/",
          "height": 206
        }
      },
      "source": [
        "df.tail()"
      ],
      "execution_count": 36,
      "outputs": [
        {
          "output_type": "execute_result",
          "data": {
            "text/html": [
              "<div>\n",
              "<style scoped>\n",
              "    .dataframe tbody tr th:only-of-type {\n",
              "        vertical-align: middle;\n",
              "    }\n",
              "\n",
              "    .dataframe tbody tr th {\n",
              "        vertical-align: top;\n",
              "    }\n",
              "\n",
              "    .dataframe thead th {\n",
              "        text-align: right;\n",
              "    }\n",
              "</style>\n",
              "<table border=\"1\" class=\"dataframe\">\n",
              "  <thead>\n",
              "    <tr style=\"text-align: right;\">\n",
              "      <th></th>\n",
              "      <th>rspm</th>\n",
              "      <th>RSPMi</th>\n",
              "    </tr>\n",
              "  </thead>\n",
              "  <tbody>\n",
              "    <tr>\n",
              "      <th>435737</th>\n",
              "      <td>143.0</td>\n",
              "      <td>185.857143</td>\n",
              "    </tr>\n",
              "    <tr>\n",
              "      <th>435738</th>\n",
              "      <td>171.0</td>\n",
              "      <td>0.000000</td>\n",
              "    </tr>\n",
              "    <tr>\n",
              "      <th>435739</th>\n",
              "      <td>NaN</td>\n",
              "      <td>0.000000</td>\n",
              "    </tr>\n",
              "    <tr>\n",
              "      <th>435740</th>\n",
              "      <td>NaN</td>\n",
              "      <td>0.000000</td>\n",
              "    </tr>\n",
              "    <tr>\n",
              "      <th>435741</th>\n",
              "      <td>NaN</td>\n",
              "      <td>0.000000</td>\n",
              "    </tr>\n",
              "  </tbody>\n",
              "</table>\n",
              "</div>"
            ],
            "text/plain": [
              "         rspm       RSPMi\n",
              "435737  143.0  185.857143\n",
              "435738  171.0    0.000000\n",
              "435739    NaN    0.000000\n",
              "435740    NaN    0.000000\n",
              "435741    NaN    0.000000"
            ]
          },
          "metadata": {
            "tags": []
          },
          "execution_count": 36
        }
      ]
    },
    {
      "cell_type": "markdown",
      "metadata": {
        "id": "pVRp7dZYs0nQ"
      },
      "source": [
        "# CALCULATE  AIR QUALITY INDEX FOR SPM BASED ON FORMULA"
      ]
    },
    {
      "cell_type": "code",
      "metadata": {
        "id": "T5HaGcIUs0nR",
        "outputId": "83273997-1fc7-4a8b-d3af-78afa0ca2274",
        "colab": {
          "base_uri": "https://localhost:8080/",
          "height": 206
        }
      },
      "source": [
        "def cal_SPMi(spm):\n",
        "    spi=0\n",
        "    if(spm<=50):\n",
        "     spi=spm*50/50\n",
        "    elif(spm>50 and spm<=100):\n",
        "     spi=50+(spm-50)*(50/50)\n",
        "    elif(spm>100 and spm<=250):\n",
        "     spi= 100+(spm-100)*(100/150)\n",
        "    elif(spm>250 and spm<=350):\n",
        "     spi=200+(spm-250)*(100/100)\n",
        "    elif(spm>350 and spm<=430):\n",
        "     spi=300+(spm-350)*(100/80)\n",
        "    else:\n",
        "     spi=400+(spm-430)*(100/430)\n",
        "    return spi\n",
        "   \n",
        "data['SPMi']=data['spm'].apply(cal_SPMi)\n",
        "df= data[['spm','SPMi']]\n",
        "df.head()"
      ],
      "execution_count": 37,
      "outputs": [
        {
          "output_type": "execute_result",
          "data": {
            "text/html": [
              "<div>\n",
              "<style scoped>\n",
              "    .dataframe tbody tr th:only-of-type {\n",
              "        vertical-align: middle;\n",
              "    }\n",
              "\n",
              "    .dataframe tbody tr th {\n",
              "        vertical-align: top;\n",
              "    }\n",
              "\n",
              "    .dataframe thead th {\n",
              "        text-align: right;\n",
              "    }\n",
              "</style>\n",
              "<table border=\"1\" class=\"dataframe\">\n",
              "  <thead>\n",
              "    <tr style=\"text-align: right;\">\n",
              "      <th></th>\n",
              "      <th>spm</th>\n",
              "      <th>SPMi</th>\n",
              "    </tr>\n",
              "  </thead>\n",
              "  <tbody>\n",
              "    <tr>\n",
              "      <th>0</th>\n",
              "      <td>200.260378</td>\n",
              "      <td>166.840252</td>\n",
              "    </tr>\n",
              "    <tr>\n",
              "      <th>1</th>\n",
              "      <td>200.260378</td>\n",
              "      <td>166.840252</td>\n",
              "    </tr>\n",
              "    <tr>\n",
              "      <th>2</th>\n",
              "      <td>200.260378</td>\n",
              "      <td>166.840252</td>\n",
              "    </tr>\n",
              "    <tr>\n",
              "      <th>3</th>\n",
              "      <td>200.260378</td>\n",
              "      <td>166.840252</td>\n",
              "    </tr>\n",
              "    <tr>\n",
              "      <th>4</th>\n",
              "      <td>200.260378</td>\n",
              "      <td>166.840252</td>\n",
              "    </tr>\n",
              "  </tbody>\n",
              "</table>\n",
              "</div>"
            ],
            "text/plain": [
              "          spm        SPMi\n",
              "0  200.260378  166.840252\n",
              "1  200.260378  166.840252\n",
              "2  200.260378  166.840252\n",
              "3  200.260378  166.840252\n",
              "4  200.260378  166.840252"
            ]
          },
          "metadata": {
            "tags": []
          },
          "execution_count": 37
        }
      ]
    },
    {
      "cell_type": "markdown",
      "metadata": {
        "id": "ux11K7F4s0nY"
      },
      "source": [
        "# CALCULATE  AIR QUALITY INDEX FOR PM 2.5 BASED ON FORMULA"
      ]
    },
    {
      "cell_type": "code",
      "metadata": {
        "id": "Vp6u5xeZs0nZ",
        "outputId": "f845a901-a0a8-48c3-c15f-ae42756f4aa6",
        "colab": {
          "base_uri": "https://localhost:8080/",
          "height": 206
        }
      },
      "source": [
        "def cal_pmi(pm2_5):\n",
        "    pmi=0\n",
        "    if(pm2_5<=50):\n",
        "     pmi=pm2_5*(50/50)\n",
        "    elif(pm2_5>50 and pm2_5<=100):\n",
        "     pmi=50+(pm2_5-50)*(50/50)\n",
        "    elif(pm2_5>100 and pm2_5<=250):\n",
        "     pmi= 100+(pm2_5-100)*(100/150)\n",
        "    elif(pm2_5>250 and pm2_5<=350):\n",
        "     pmi=200+(pm2_5-250)*(100/100)\n",
        "    elif(pm2_5>350 and pm2_5<=450):\n",
        "     pmi=300+(pm2_5-350)*(100/100)\n",
        "    else:\n",
        "     pmi=400+(pm2_5-430)*(100/80)\n",
        "    return pmi\n",
        "data['PMi']=data['pm2_5'].apply(cal_pmi)\n",
        "df= data[['pm2_5','PMi']]\n",
        "df.head()\n"
      ],
      "execution_count": 38,
      "outputs": [
        {
          "output_type": "execute_result",
          "data": {
            "text/html": [
              "<div>\n",
              "<style scoped>\n",
              "    .dataframe tbody tr th:only-of-type {\n",
              "        vertical-align: middle;\n",
              "    }\n",
              "\n",
              "    .dataframe tbody tr th {\n",
              "        vertical-align: top;\n",
              "    }\n",
              "\n",
              "    .dataframe thead th {\n",
              "        text-align: right;\n",
              "    }\n",
              "</style>\n",
              "<table border=\"1\" class=\"dataframe\">\n",
              "  <thead>\n",
              "    <tr style=\"text-align: right;\">\n",
              "      <th></th>\n",
              "      <th>pm2_5</th>\n",
              "      <th>PMi</th>\n",
              "    </tr>\n",
              "  </thead>\n",
              "  <tbody>\n",
              "    <tr>\n",
              "      <th>0</th>\n",
              "      <td>NaN</td>\n",
              "      <td>NaN</td>\n",
              "    </tr>\n",
              "    <tr>\n",
              "      <th>1</th>\n",
              "      <td>NaN</td>\n",
              "      <td>NaN</td>\n",
              "    </tr>\n",
              "    <tr>\n",
              "      <th>2</th>\n",
              "      <td>NaN</td>\n",
              "      <td>NaN</td>\n",
              "    </tr>\n",
              "    <tr>\n",
              "      <th>3</th>\n",
              "      <td>NaN</td>\n",
              "      <td>NaN</td>\n",
              "    </tr>\n",
              "    <tr>\n",
              "      <th>4</th>\n",
              "      <td>NaN</td>\n",
              "      <td>NaN</td>\n",
              "    </tr>\n",
              "  </tbody>\n",
              "</table>\n",
              "</div>"
            ],
            "text/plain": [
              "   pm2_5  PMi\n",
              "0    NaN  NaN\n",
              "1    NaN  NaN\n",
              "2    NaN  NaN\n",
              "3    NaN  NaN\n",
              "4    NaN  NaN"
            ]
          },
          "metadata": {
            "tags": []
          },
          "execution_count": 38
        }
      ]
    },
    {
      "cell_type": "code",
      "metadata": {
        "id": "is2ptImus0nd",
        "outputId": "ee4834ac-1f71-4675-fc10-69801518c0ae",
        "colab": {
          "base_uri": "https://localhost:8080/",
          "height": 35
        }
      },
      "source": [
        "type(data['PMi'])"
      ],
      "execution_count": 39,
      "outputs": [
        {
          "output_type": "execute_result",
          "data": {
            "text/plain": [
              "pandas.core.series.Series"
            ]
          },
          "metadata": {
            "tags": []
          },
          "execution_count": 39
        }
      ]
    },
    {
      "cell_type": "markdown",
      "metadata": {
        "id": "4SYvTS5Vs0ni"
      },
      "source": [
        "Based on the measured ambient concentrations, corresponding standards and likely health impact, a sub-index is calculated for each of these pollutants. The worst sub-index reflects overall AQI.If multiple pollutants are measured at a monitoring site, then the largest or \"dominant\" AQI value is reported for the location"
      ]
    },
    {
      "cell_type": "code",
      "metadata": {
        "id": "WmLdEWQ3s0ni",
        "outputId": "43452ff0-ccaa-4402-f8fa-b17ecc6f4a31",
        "colab": {
          "base_uri": "https://localhost:8080/",
          "height": 206
        }
      },
      "source": [
        "def cal_aqi(si,ni,rspmi,spmi):\n",
        "    aqi=0\n",
        "    if(si>ni and si>rspmi and si>spmi):\n",
        "     aqi=si\n",
        "    if(ni>si and ni>rspmi and ni>spmi ):\n",
        "     aqi=ni\n",
        "    if(rspmi>si and rspmi>ni and rspmi>spmi ):\n",
        "     aqi=rspmi\n",
        "    if(spmi>si and spmi>ni and spmi>rspmi):\n",
        "     aqi=spmi\n",
        "    return aqi\n",
        "\n",
        "data['AQI']=data.apply(lambda x:cal_aqi(x['SOi'],x['Noi'],x['RSPMi'],x['SPMi']),axis=1)\n",
        "df= data[['state','SOi','Noi','RSPMi','SPMi','AQI']]\n",
        "df.head()\n"
      ],
      "execution_count": 40,
      "outputs": [
        {
          "output_type": "execute_result",
          "data": {
            "text/html": [
              "<div>\n",
              "<style scoped>\n",
              "    .dataframe tbody tr th:only-of-type {\n",
              "        vertical-align: middle;\n",
              "    }\n",
              "\n",
              "    .dataframe tbody tr th {\n",
              "        vertical-align: top;\n",
              "    }\n",
              "\n",
              "    .dataframe thead th {\n",
              "        text-align: right;\n",
              "    }\n",
              "</style>\n",
              "<table border=\"1\" class=\"dataframe\">\n",
              "  <thead>\n",
              "    <tr style=\"text-align: right;\">\n",
              "      <th></th>\n",
              "      <th>state</th>\n",
              "      <th>SOi</th>\n",
              "      <th>Noi</th>\n",
              "      <th>RSPMi</th>\n",
              "      <th>SPMi</th>\n",
              "      <th>AQI</th>\n",
              "    </tr>\n",
              "  </thead>\n",
              "  <tbody>\n",
              "    <tr>\n",
              "      <th>0</th>\n",
              "      <td>Andhra Pradesh</td>\n",
              "      <td>6.000</td>\n",
              "      <td>21.750</td>\n",
              "      <td>78.182824</td>\n",
              "      <td>166.840252</td>\n",
              "      <td>166.840252</td>\n",
              "    </tr>\n",
              "    <tr>\n",
              "      <th>1</th>\n",
              "      <td>Andhra Pradesh</td>\n",
              "      <td>3.875</td>\n",
              "      <td>8.750</td>\n",
              "      <td>78.182824</td>\n",
              "      <td>166.840252</td>\n",
              "      <td>166.840252</td>\n",
              "    </tr>\n",
              "    <tr>\n",
              "      <th>2</th>\n",
              "      <td>Andhra Pradesh</td>\n",
              "      <td>7.750</td>\n",
              "      <td>35.625</td>\n",
              "      <td>78.182824</td>\n",
              "      <td>166.840252</td>\n",
              "      <td>166.840252</td>\n",
              "    </tr>\n",
              "    <tr>\n",
              "      <th>3</th>\n",
              "      <td>Andhra Pradesh</td>\n",
              "      <td>7.875</td>\n",
              "      <td>18.375</td>\n",
              "      <td>78.182824</td>\n",
              "      <td>166.840252</td>\n",
              "      <td>166.840252</td>\n",
              "    </tr>\n",
              "    <tr>\n",
              "      <th>4</th>\n",
              "      <td>Andhra Pradesh</td>\n",
              "      <td>5.875</td>\n",
              "      <td>9.375</td>\n",
              "      <td>78.182824</td>\n",
              "      <td>166.840252</td>\n",
              "      <td>166.840252</td>\n",
              "    </tr>\n",
              "  </tbody>\n",
              "</table>\n",
              "</div>"
            ],
            "text/plain": [
              "            state    SOi     Noi      RSPMi        SPMi         AQI\n",
              "0  Andhra Pradesh  6.000  21.750  78.182824  166.840252  166.840252\n",
              "1  Andhra Pradesh  3.875   8.750  78.182824  166.840252  166.840252\n",
              "2  Andhra Pradesh  7.750  35.625  78.182824  166.840252  166.840252\n",
              "3  Andhra Pradesh  7.875  18.375  78.182824  166.840252  166.840252\n",
              "4  Andhra Pradesh  5.875   9.375  78.182824  166.840252  166.840252"
            ]
          },
          "metadata": {
            "tags": []
          },
          "execution_count": 40
        }
      ]
    },
    {
      "cell_type": "code",
      "metadata": {
        "id": "T4qV6js1s0no",
        "outputId": "361631e6-1ded-4f66-f1ca-177e091b74e1",
        "colab": {
          "base_uri": "https://localhost:8080/",
          "height": 365
        }
      },
      "source": [
        "data.head()"
      ],
      "execution_count": 41,
      "outputs": [
        {
          "output_type": "execute_result",
          "data": {
            "text/html": [
              "<div>\n",
              "<style scoped>\n",
              "    .dataframe tbody tr th:only-of-type {\n",
              "        vertical-align: middle;\n",
              "    }\n",
              "\n",
              "    .dataframe tbody tr th {\n",
              "        vertical-align: top;\n",
              "    }\n",
              "\n",
              "    .dataframe thead th {\n",
              "        text-align: right;\n",
              "    }\n",
              "</style>\n",
              "<table border=\"1\" class=\"dataframe\">\n",
              "  <thead>\n",
              "    <tr style=\"text-align: right;\">\n",
              "      <th></th>\n",
              "      <th>state</th>\n",
              "      <th>location</th>\n",
              "      <th>type</th>\n",
              "      <th>so2</th>\n",
              "      <th>no2</th>\n",
              "      <th>rspm</th>\n",
              "      <th>spm</th>\n",
              "      <th>pm2_5</th>\n",
              "      <th>date</th>\n",
              "      <th>SOi</th>\n",
              "      <th>Noi</th>\n",
              "      <th>RSPMi</th>\n",
              "      <th>SPMi</th>\n",
              "      <th>PMi</th>\n",
              "      <th>AQI</th>\n",
              "    </tr>\n",
              "  </thead>\n",
              "  <tbody>\n",
              "    <tr>\n",
              "      <th>0</th>\n",
              "      <td>Andhra Pradesh</td>\n",
              "      <td>Hyderabad</td>\n",
              "      <td>Residential, Rural and other Areas</td>\n",
              "      <td>4.8</td>\n",
              "      <td>17.4</td>\n",
              "      <td>78.182824</td>\n",
              "      <td>200.260378</td>\n",
              "      <td>NaN</td>\n",
              "      <td>1990-02-01</td>\n",
              "      <td>6.000</td>\n",
              "      <td>21.750</td>\n",
              "      <td>78.182824</td>\n",
              "      <td>166.840252</td>\n",
              "      <td>NaN</td>\n",
              "      <td>166.840252</td>\n",
              "    </tr>\n",
              "    <tr>\n",
              "      <th>1</th>\n",
              "      <td>Andhra Pradesh</td>\n",
              "      <td>Hyderabad</td>\n",
              "      <td>Industrial Area</td>\n",
              "      <td>3.1</td>\n",
              "      <td>7.0</td>\n",
              "      <td>78.182824</td>\n",
              "      <td>200.260378</td>\n",
              "      <td>NaN</td>\n",
              "      <td>1990-02-01</td>\n",
              "      <td>3.875</td>\n",
              "      <td>8.750</td>\n",
              "      <td>78.182824</td>\n",
              "      <td>166.840252</td>\n",
              "      <td>NaN</td>\n",
              "      <td>166.840252</td>\n",
              "    </tr>\n",
              "    <tr>\n",
              "      <th>2</th>\n",
              "      <td>Andhra Pradesh</td>\n",
              "      <td>Hyderabad</td>\n",
              "      <td>Residential, Rural and other Areas</td>\n",
              "      <td>6.2</td>\n",
              "      <td>28.5</td>\n",
              "      <td>78.182824</td>\n",
              "      <td>200.260378</td>\n",
              "      <td>NaN</td>\n",
              "      <td>1990-02-01</td>\n",
              "      <td>7.750</td>\n",
              "      <td>35.625</td>\n",
              "      <td>78.182824</td>\n",
              "      <td>166.840252</td>\n",
              "      <td>NaN</td>\n",
              "      <td>166.840252</td>\n",
              "    </tr>\n",
              "    <tr>\n",
              "      <th>3</th>\n",
              "      <td>Andhra Pradesh</td>\n",
              "      <td>Hyderabad</td>\n",
              "      <td>Residential, Rural and other Areas</td>\n",
              "      <td>6.3</td>\n",
              "      <td>14.7</td>\n",
              "      <td>78.182824</td>\n",
              "      <td>200.260378</td>\n",
              "      <td>NaN</td>\n",
              "      <td>1990-03-01</td>\n",
              "      <td>7.875</td>\n",
              "      <td>18.375</td>\n",
              "      <td>78.182824</td>\n",
              "      <td>166.840252</td>\n",
              "      <td>NaN</td>\n",
              "      <td>166.840252</td>\n",
              "    </tr>\n",
              "    <tr>\n",
              "      <th>4</th>\n",
              "      <td>Andhra Pradesh</td>\n",
              "      <td>Hyderabad</td>\n",
              "      <td>Industrial Area</td>\n",
              "      <td>4.7</td>\n",
              "      <td>7.5</td>\n",
              "      <td>78.182824</td>\n",
              "      <td>200.260378</td>\n",
              "      <td>NaN</td>\n",
              "      <td>1990-03-01</td>\n",
              "      <td>5.875</td>\n",
              "      <td>9.375</td>\n",
              "      <td>78.182824</td>\n",
              "      <td>166.840252</td>\n",
              "      <td>NaN</td>\n",
              "      <td>166.840252</td>\n",
              "    </tr>\n",
              "  </tbody>\n",
              "</table>\n",
              "</div>"
            ],
            "text/plain": [
              "            state   location  ... PMi         AQI\n",
              "0  Andhra Pradesh  Hyderabad  ... NaN  166.840252\n",
              "1  Andhra Pradesh  Hyderabad  ... NaN  166.840252\n",
              "2  Andhra Pradesh  Hyderabad  ... NaN  166.840252\n",
              "3  Andhra Pradesh  Hyderabad  ... NaN  166.840252\n",
              "4  Andhra Pradesh  Hyderabad  ... NaN  166.840252\n",
              "\n",
              "[5 rows x 15 columns]"
            ]
          },
          "metadata": {
            "tags": []
          },
          "execution_count": 41
        }
      ]
    },
    {
      "cell_type": "markdown",
      "metadata": {
        "id": "pVtKeJSss0n2"
      },
      "source": [
        "# AQI RANGE for corresponding AQI value "
      ]
    },
    {
      "cell_type": "code",
      "metadata": {
        "id": "KZSYGDCws0n2",
        "outputId": "14d2c0c8-3aba-4549-ed9c-1bb65743dfd9",
        "colab": {
          "base_uri": "https://localhost:8080/",
          "height": 365
        }
      },
      "source": [
        "def AQI_Range(x):\n",
        "    if x<=50:\n",
        "        return \"Good\"\n",
        "    elif x>50 and x<=100:\n",
        "        return \"Moderate\"\n",
        "    elif x>100 and x<=200:\n",
        "        return \"Poor\"\n",
        "    elif x>200 and x<=300:\n",
        "        return \"Unhealthy\"\n",
        "    elif x>300 and x<=400:\n",
        "        return \"Very unhealthy\"\n",
        "    elif x>400:\n",
        "        return \"Hazardous\"\n",
        "\n",
        "data['AQI_Range'] = data['AQI'] .apply(AQI_Range)\n",
        "data.head()\n"
      ],
      "execution_count": 42,
      "outputs": [
        {
          "output_type": "execute_result",
          "data": {
            "text/html": [
              "<div>\n",
              "<style scoped>\n",
              "    .dataframe tbody tr th:only-of-type {\n",
              "        vertical-align: middle;\n",
              "    }\n",
              "\n",
              "    .dataframe tbody tr th {\n",
              "        vertical-align: top;\n",
              "    }\n",
              "\n",
              "    .dataframe thead th {\n",
              "        text-align: right;\n",
              "    }\n",
              "</style>\n",
              "<table border=\"1\" class=\"dataframe\">\n",
              "  <thead>\n",
              "    <tr style=\"text-align: right;\">\n",
              "      <th></th>\n",
              "      <th>state</th>\n",
              "      <th>location</th>\n",
              "      <th>type</th>\n",
              "      <th>so2</th>\n",
              "      <th>no2</th>\n",
              "      <th>rspm</th>\n",
              "      <th>spm</th>\n",
              "      <th>pm2_5</th>\n",
              "      <th>date</th>\n",
              "      <th>SOi</th>\n",
              "      <th>Noi</th>\n",
              "      <th>RSPMi</th>\n",
              "      <th>SPMi</th>\n",
              "      <th>PMi</th>\n",
              "      <th>AQI</th>\n",
              "      <th>AQI_Range</th>\n",
              "    </tr>\n",
              "  </thead>\n",
              "  <tbody>\n",
              "    <tr>\n",
              "      <th>0</th>\n",
              "      <td>Andhra Pradesh</td>\n",
              "      <td>Hyderabad</td>\n",
              "      <td>Residential, Rural and other Areas</td>\n",
              "      <td>4.8</td>\n",
              "      <td>17.4</td>\n",
              "      <td>78.182824</td>\n",
              "      <td>200.260378</td>\n",
              "      <td>NaN</td>\n",
              "      <td>1990-02-01</td>\n",
              "      <td>6.000</td>\n",
              "      <td>21.750</td>\n",
              "      <td>78.182824</td>\n",
              "      <td>166.840252</td>\n",
              "      <td>NaN</td>\n",
              "      <td>166.840252</td>\n",
              "      <td>Poor</td>\n",
              "    </tr>\n",
              "    <tr>\n",
              "      <th>1</th>\n",
              "      <td>Andhra Pradesh</td>\n",
              "      <td>Hyderabad</td>\n",
              "      <td>Industrial Area</td>\n",
              "      <td>3.1</td>\n",
              "      <td>7.0</td>\n",
              "      <td>78.182824</td>\n",
              "      <td>200.260378</td>\n",
              "      <td>NaN</td>\n",
              "      <td>1990-02-01</td>\n",
              "      <td>3.875</td>\n",
              "      <td>8.750</td>\n",
              "      <td>78.182824</td>\n",
              "      <td>166.840252</td>\n",
              "      <td>NaN</td>\n",
              "      <td>166.840252</td>\n",
              "      <td>Poor</td>\n",
              "    </tr>\n",
              "    <tr>\n",
              "      <th>2</th>\n",
              "      <td>Andhra Pradesh</td>\n",
              "      <td>Hyderabad</td>\n",
              "      <td>Residential, Rural and other Areas</td>\n",
              "      <td>6.2</td>\n",
              "      <td>28.5</td>\n",
              "      <td>78.182824</td>\n",
              "      <td>200.260378</td>\n",
              "      <td>NaN</td>\n",
              "      <td>1990-02-01</td>\n",
              "      <td>7.750</td>\n",
              "      <td>35.625</td>\n",
              "      <td>78.182824</td>\n",
              "      <td>166.840252</td>\n",
              "      <td>NaN</td>\n",
              "      <td>166.840252</td>\n",
              "      <td>Poor</td>\n",
              "    </tr>\n",
              "    <tr>\n",
              "      <th>3</th>\n",
              "      <td>Andhra Pradesh</td>\n",
              "      <td>Hyderabad</td>\n",
              "      <td>Residential, Rural and other Areas</td>\n",
              "      <td>6.3</td>\n",
              "      <td>14.7</td>\n",
              "      <td>78.182824</td>\n",
              "      <td>200.260378</td>\n",
              "      <td>NaN</td>\n",
              "      <td>1990-03-01</td>\n",
              "      <td>7.875</td>\n",
              "      <td>18.375</td>\n",
              "      <td>78.182824</td>\n",
              "      <td>166.840252</td>\n",
              "      <td>NaN</td>\n",
              "      <td>166.840252</td>\n",
              "      <td>Poor</td>\n",
              "    </tr>\n",
              "    <tr>\n",
              "      <th>4</th>\n",
              "      <td>Andhra Pradesh</td>\n",
              "      <td>Hyderabad</td>\n",
              "      <td>Industrial Area</td>\n",
              "      <td>4.7</td>\n",
              "      <td>7.5</td>\n",
              "      <td>78.182824</td>\n",
              "      <td>200.260378</td>\n",
              "      <td>NaN</td>\n",
              "      <td>1990-03-01</td>\n",
              "      <td>5.875</td>\n",
              "      <td>9.375</td>\n",
              "      <td>78.182824</td>\n",
              "      <td>166.840252</td>\n",
              "      <td>NaN</td>\n",
              "      <td>166.840252</td>\n",
              "      <td>Poor</td>\n",
              "    </tr>\n",
              "  </tbody>\n",
              "</table>\n",
              "</div>"
            ],
            "text/plain": [
              "            state   location  ...         AQI  AQI_Range\n",
              "0  Andhra Pradesh  Hyderabad  ...  166.840252       Poor\n",
              "1  Andhra Pradesh  Hyderabad  ...  166.840252       Poor\n",
              "2  Andhra Pradesh  Hyderabad  ...  166.840252       Poor\n",
              "3  Andhra Pradesh  Hyderabad  ...  166.840252       Poor\n",
              "4  Andhra Pradesh  Hyderabad  ...  166.840252       Poor\n",
              "\n",
              "[5 rows x 16 columns]"
            ]
          },
          "metadata": {
            "tags": []
          },
          "execution_count": 42
        }
      ]
    },
    {
      "cell_type": "code",
      "metadata": {
        "id": "eWbeWtUys0n9",
        "outputId": "92d4d5d2-6779-437a-f7be-29ab5c16263e",
        "colab": {
          "base_uri": "https://localhost:8080/",
          "height": 365
        }
      },
      "source": [
        "d=data #saving data in new value\n",
        "d.head()"
      ],
      "execution_count": 43,
      "outputs": [
        {
          "output_type": "execute_result",
          "data": {
            "text/html": [
              "<div>\n",
              "<style scoped>\n",
              "    .dataframe tbody tr th:only-of-type {\n",
              "        vertical-align: middle;\n",
              "    }\n",
              "\n",
              "    .dataframe tbody tr th {\n",
              "        vertical-align: top;\n",
              "    }\n",
              "\n",
              "    .dataframe thead th {\n",
              "        text-align: right;\n",
              "    }\n",
              "</style>\n",
              "<table border=\"1\" class=\"dataframe\">\n",
              "  <thead>\n",
              "    <tr style=\"text-align: right;\">\n",
              "      <th></th>\n",
              "      <th>state</th>\n",
              "      <th>location</th>\n",
              "      <th>type</th>\n",
              "      <th>so2</th>\n",
              "      <th>no2</th>\n",
              "      <th>rspm</th>\n",
              "      <th>spm</th>\n",
              "      <th>pm2_5</th>\n",
              "      <th>date</th>\n",
              "      <th>SOi</th>\n",
              "      <th>Noi</th>\n",
              "      <th>RSPMi</th>\n",
              "      <th>SPMi</th>\n",
              "      <th>PMi</th>\n",
              "      <th>AQI</th>\n",
              "      <th>AQI_Range</th>\n",
              "    </tr>\n",
              "  </thead>\n",
              "  <tbody>\n",
              "    <tr>\n",
              "      <th>0</th>\n",
              "      <td>Andhra Pradesh</td>\n",
              "      <td>Hyderabad</td>\n",
              "      <td>Residential, Rural and other Areas</td>\n",
              "      <td>4.8</td>\n",
              "      <td>17.4</td>\n",
              "      <td>78.182824</td>\n",
              "      <td>200.260378</td>\n",
              "      <td>NaN</td>\n",
              "      <td>1990-02-01</td>\n",
              "      <td>6.000</td>\n",
              "      <td>21.750</td>\n",
              "      <td>78.182824</td>\n",
              "      <td>166.840252</td>\n",
              "      <td>NaN</td>\n",
              "      <td>166.840252</td>\n",
              "      <td>Poor</td>\n",
              "    </tr>\n",
              "    <tr>\n",
              "      <th>1</th>\n",
              "      <td>Andhra Pradesh</td>\n",
              "      <td>Hyderabad</td>\n",
              "      <td>Industrial Area</td>\n",
              "      <td>3.1</td>\n",
              "      <td>7.0</td>\n",
              "      <td>78.182824</td>\n",
              "      <td>200.260378</td>\n",
              "      <td>NaN</td>\n",
              "      <td>1990-02-01</td>\n",
              "      <td>3.875</td>\n",
              "      <td>8.750</td>\n",
              "      <td>78.182824</td>\n",
              "      <td>166.840252</td>\n",
              "      <td>NaN</td>\n",
              "      <td>166.840252</td>\n",
              "      <td>Poor</td>\n",
              "    </tr>\n",
              "    <tr>\n",
              "      <th>2</th>\n",
              "      <td>Andhra Pradesh</td>\n",
              "      <td>Hyderabad</td>\n",
              "      <td>Residential, Rural and other Areas</td>\n",
              "      <td>6.2</td>\n",
              "      <td>28.5</td>\n",
              "      <td>78.182824</td>\n",
              "      <td>200.260378</td>\n",
              "      <td>NaN</td>\n",
              "      <td>1990-02-01</td>\n",
              "      <td>7.750</td>\n",
              "      <td>35.625</td>\n",
              "      <td>78.182824</td>\n",
              "      <td>166.840252</td>\n",
              "      <td>NaN</td>\n",
              "      <td>166.840252</td>\n",
              "      <td>Poor</td>\n",
              "    </tr>\n",
              "    <tr>\n",
              "      <th>3</th>\n",
              "      <td>Andhra Pradesh</td>\n",
              "      <td>Hyderabad</td>\n",
              "      <td>Residential, Rural and other Areas</td>\n",
              "      <td>6.3</td>\n",
              "      <td>14.7</td>\n",
              "      <td>78.182824</td>\n",
              "      <td>200.260378</td>\n",
              "      <td>NaN</td>\n",
              "      <td>1990-03-01</td>\n",
              "      <td>7.875</td>\n",
              "      <td>18.375</td>\n",
              "      <td>78.182824</td>\n",
              "      <td>166.840252</td>\n",
              "      <td>NaN</td>\n",
              "      <td>166.840252</td>\n",
              "      <td>Poor</td>\n",
              "    </tr>\n",
              "    <tr>\n",
              "      <th>4</th>\n",
              "      <td>Andhra Pradesh</td>\n",
              "      <td>Hyderabad</td>\n",
              "      <td>Industrial Area</td>\n",
              "      <td>4.7</td>\n",
              "      <td>7.5</td>\n",
              "      <td>78.182824</td>\n",
              "      <td>200.260378</td>\n",
              "      <td>NaN</td>\n",
              "      <td>1990-03-01</td>\n",
              "      <td>5.875</td>\n",
              "      <td>9.375</td>\n",
              "      <td>78.182824</td>\n",
              "      <td>166.840252</td>\n",
              "      <td>NaN</td>\n",
              "      <td>166.840252</td>\n",
              "      <td>Poor</td>\n",
              "    </tr>\n",
              "  </tbody>\n",
              "</table>\n",
              "</div>"
            ],
            "text/plain": [
              "            state   location  ...         AQI  AQI_Range\n",
              "0  Andhra Pradesh  Hyderabad  ...  166.840252       Poor\n",
              "1  Andhra Pradesh  Hyderabad  ...  166.840252       Poor\n",
              "2  Andhra Pradesh  Hyderabad  ...  166.840252       Poor\n",
              "3  Andhra Pradesh  Hyderabad  ...  166.840252       Poor\n",
              "4  Andhra Pradesh  Hyderabad  ...  166.840252       Poor\n",
              "\n",
              "[5 rows x 16 columns]"
            ]
          },
          "metadata": {
            "tags": []
          },
          "execution_count": 43
        }
      ]
    },
    {
      "cell_type": "markdown",
      "metadata": {
        "id": "fzWh5q_vs0oB"
      },
      "source": [
        "Remove the rows with null values"
      ]
    },
    {
      "cell_type": "code",
      "metadata": {
        "id": "Jg4uoBres0oB"
      },
      "source": [
        "data=data.dropna(subset=['spm']) #spm"
      ],
      "execution_count": 44,
      "outputs": []
    },
    {
      "cell_type": "code",
      "metadata": {
        "id": "ryovrlGFs0oJ"
      },
      "source": [
        "data=data.dropna(subset=['pm2_5']) #spm"
      ],
      "execution_count": 45,
      "outputs": []
    },
    {
      "cell_type": "code",
      "metadata": {
        "id": "HITEmnCms0oi",
        "outputId": "e8e18aaf-5501-4fd3-a080-3974ce64800a",
        "colab": {
          "base_uri": "https://localhost:8080/",
          "height": 329
        }
      },
      "source": [
        "data.isna().sum() #all null values removed "
      ],
      "execution_count": 46,
      "outputs": [
        {
          "output_type": "execute_result",
          "data": {
            "text/plain": [
              "state           0\n",
              "location        0\n",
              "type         1925\n",
              "so2             0\n",
              "no2             0\n",
              "rspm            0\n",
              "spm             0\n",
              "pm2_5           0\n",
              "date            1\n",
              "SOi             0\n",
              "Noi             0\n",
              "RSPMi           0\n",
              "SPMi            0\n",
              "PMi             0\n",
              "AQI             0\n",
              "AQI_Range       0\n",
              "dtype: int64"
            ]
          },
          "metadata": {
            "tags": []
          },
          "execution_count": 46
        }
      ]
    },
    {
      "cell_type": "markdown",
      "metadata": {
        "id": "QipTZ_a9s0oo"
      },
      "source": [
        "# Linear Regression prediction"
      ]
    },
    {
      "cell_type": "markdown",
      "metadata": {
        "id": "F1922iW_s0oo"
      },
      "source": [
        "1. Using SOi, NOi, RSPMi, SPMi TO PREDICT AQI"
      ]
    },
    {
      "cell_type": "code",
      "metadata": {
        "id": "PNigJyRas0oq"
      },
      "source": [
        "from sklearn.model_selection import train_test_split\n",
        "from sklearn.linear_model import LinearRegression\n",
        "from sklearn.metrics import mean_squared_log_error\n",
        "from sklearn.metrics import mean_squared_error\n",
        "from sklearn.metrics import r2_score, mean_squared_error\n",
        "from sklearn.model_selection import KFold\n",
        "from sklearn.model_selection import cross_val_score"
      ],
      "execution_count": 47,
      "outputs": []
    },
    {
      "cell_type": "code",
      "metadata": {
        "id": "P3gOxc8Fs0ou",
        "outputId": "48b83ebd-06bb-46ab-c723-2ca122a2b679",
        "colab": {
          "base_uri": "https://localhost:8080/",
          "height": 127
        }
      },
      "source": [
        "X = data[['SOi','Noi','RSPMi','SPMi']]\n",
        "y = data['AQI']\n",
        "y.head()"
      ],
      "execution_count": 48,
      "outputs": [
        {
          "output_type": "execute_result",
          "data": {
            "text/plain": [
              "64445    76.53653\n",
              "64446    76.53653\n",
              "64447    76.53653\n",
              "64448    76.53653\n",
              "64449    76.53653\n",
              "Name: AQI, dtype: float64"
            ]
          },
          "metadata": {
            "tags": []
          },
          "execution_count": 48
        }
      ]
    },
    {
      "cell_type": "code",
      "metadata": {
        "id": "Lz0fD7qRs0o0"
      },
      "source": [
        "X_train, X_test, y_train, y_test = train_test_split(X,y, test_size=0.2,random_state=101)"
      ],
      "execution_count": 49,
      "outputs": []
    },
    {
      "cell_type": "code",
      "metadata": {
        "id": "NtWGhyi8s0o4",
        "outputId": "d7a8af85-ec83-4f69-b2f5-d0a90c61a6c6",
        "colab": {
          "base_uri": "https://localhost:8080/",
          "height": 206
        }
      },
      "source": [
        "X_train.head()"
      ],
      "execution_count": 50,
      "outputs": [
        {
          "output_type": "execute_result",
          "data": {
            "text/html": [
              "<div>\n",
              "<style scoped>\n",
              "    .dataframe tbody tr th:only-of-type {\n",
              "        vertical-align: middle;\n",
              "    }\n",
              "\n",
              "    .dataframe tbody tr th {\n",
              "        vertical-align: top;\n",
              "    }\n",
              "\n",
              "    .dataframe thead th {\n",
              "        text-align: right;\n",
              "    }\n",
              "</style>\n",
              "<table border=\"1\" class=\"dataframe\">\n",
              "  <thead>\n",
              "    <tr style=\"text-align: right;\">\n",
              "      <th></th>\n",
              "      <th>SOi</th>\n",
              "      <th>Noi</th>\n",
              "      <th>RSPMi</th>\n",
              "      <th>SPMi</th>\n",
              "    </tr>\n",
              "  </thead>\n",
              "  <tbody>\n",
              "    <tr>\n",
              "      <th>360028</th>\n",
              "      <td>3.750</td>\n",
              "      <td>40.000</td>\n",
              "      <td>51.000000</td>\n",
              "      <td>117.819376</td>\n",
              "    </tr>\n",
              "    <tr>\n",
              "      <th>434684</th>\n",
              "      <td>2.500</td>\n",
              "      <td>46.250</td>\n",
              "      <td>87.000000</td>\n",
              "      <td>189.004349</td>\n",
              "    </tr>\n",
              "    <tr>\n",
              "      <th>64493</th>\n",
              "      <td>13.250</td>\n",
              "      <td>23.375</td>\n",
              "      <td>115.142857</td>\n",
              "      <td>210.000000</td>\n",
              "    </tr>\n",
              "    <tr>\n",
              "      <th>433906</th>\n",
              "      <td>5.000</td>\n",
              "      <td>55.000</td>\n",
              "      <td>115.142857</td>\n",
              "      <td>189.004349</td>\n",
              "    </tr>\n",
              "    <tr>\n",
              "      <th>183595</th>\n",
              "      <td>34.375</td>\n",
              "      <td>26.000</td>\n",
              "      <td>91.000000</td>\n",
              "      <td>106.000000</td>\n",
              "    </tr>\n",
              "  </tbody>\n",
              "</table>\n",
              "</div>"
            ],
            "text/plain": [
              "           SOi     Noi       RSPMi        SPMi\n",
              "360028   3.750  40.000   51.000000  117.819376\n",
              "434684   2.500  46.250   87.000000  189.004349\n",
              "64493   13.250  23.375  115.142857  210.000000\n",
              "433906   5.000  55.000  115.142857  189.004349\n",
              "183595  34.375  26.000   91.000000  106.000000"
            ]
          },
          "metadata": {
            "tags": []
          },
          "execution_count": 50
        }
      ]
    },
    {
      "cell_type": "code",
      "metadata": {
        "id": "hYA1lib0s0o-",
        "outputId": "4bc919d5-9a96-4772-aab4-68e248ce1776",
        "colab": {
          "base_uri": "https://localhost:8080/",
          "height": 35
        }
      },
      "source": [
        "LR = LinearRegression() \n",
        "LR.fit(X_train, y_train)"
      ],
      "execution_count": 51,
      "outputs": [
        {
          "output_type": "execute_result",
          "data": {
            "text/plain": [
              "LinearRegression(copy_X=True, fit_intercept=True, n_jobs=None, normalize=False)"
            ]
          },
          "metadata": {
            "tags": []
          },
          "execution_count": 51
        }
      ]
    },
    {
      "cell_type": "code",
      "metadata": {
        "id": "aiPHA01ts0pD",
        "outputId": "8e78c894-6e63-4acf-cf6c-45207422f33e",
        "colab": {
          "base_uri": "https://localhost:8080/",
          "height": 35
        }
      },
      "source": [
        "print('Intercept',LR.intercept_)"
      ],
      "execution_count": 52,
      "outputs": [
        {
          "output_type": "stream",
          "text": [
            "Intercept 4.16884160826325\n"
          ],
          "name": "stdout"
        }
      ]
    },
    {
      "cell_type": "code",
      "metadata": {
        "id": "04GnFsuds0pH",
        "outputId": "8b36ce7d-3fb2-4bc0-dc37-01ac07273edb",
        "colab": {
          "base_uri": "https://localhost:8080/",
          "height": 35
        }
      },
      "source": [
        "print('Coefficients',LR.coef_)"
      ],
      "execution_count": 53,
      "outputs": [
        {
          "output_type": "stream",
          "text": [
            "Coefficients [0.02669704 0.06811693 0.05053633 0.9544088 ]\n"
          ],
          "name": "stdout"
        }
      ]
    },
    {
      "cell_type": "code",
      "metadata": {
        "id": "-1a6fEqms0pL"
      },
      "source": [
        "predictions = LR.predict(X_test)"
      ],
      "execution_count": 54,
      "outputs": []
    },
    {
      "cell_type": "code",
      "metadata": {
        "id": "YDTomaGls0pP",
        "outputId": "65c1586a-fca8-447b-e758-206f25ccb354",
        "colab": {
          "base_uri": "https://localhost:8080/",
          "height": 297
        }
      },
      "source": [
        "plt.scatter(y_test,predictions)\n",
        "plt.xlabel('Y Test')\n",
        "plt.ylabel('Predicted Y')"
      ],
      "execution_count": 55,
      "outputs": [
        {
          "output_type": "execute_result",
          "data": {
            "text/plain": [
              "Text(0, 0.5, 'Predicted Y')"
            ]
          },
          "metadata": {
            "tags": []
          },
          "execution_count": 55
        },
        {
          "output_type": "display_data",
          "data": {
            "image/png": "[encoded data removed]",
            "text/plain": [
              "<Figure size 432x288 with 1 Axes>"
            ]
          },
          "metadata": {
            "tags": [],
            "needs_background": "light"
          }
        }
      ]
    },
    {
      "cell_type": "code",
      "metadata": {
        "id": "akKXSv6zs0pS",
        "outputId": "cd95cfd7-8329-4cfd-f477-6fea0cd737e5",
        "colab": {
          "base_uri": "https://localhost:8080/",
          "height": 35
        }
      },
      "source": [
        "LR.score(X_test,y_test) "
      ],
      "execution_count": 56,
      "outputs": [
        {
          "output_type": "execute_result",
          "data": {
            "text/plain": [
              "0.9791014082309275"
            ]
          },
          "metadata": {
            "tags": []
          },
          "execution_count": 56
        }
      ]
    },
    {
      "cell_type": "code",
      "metadata": {
        "id": "qj72FnOws0pY",
        "outputId": "e7741037-f3a7-4f59-d698-e013e2d5345e",
        "colab": {
          "base_uri": "https://localhost:8080/",
          "height": 35
        }
      },
      "source": [
        "LR.predict([[4.8,21.75,78.18,100]]) "
      ],
      "execution_count": 57,
      "outputs": [
        {
          "output_type": "execute_result",
          "data": {
            "text/plain": [
              "array([105.17034145])"
            ]
          },
          "metadata": {
            "tags": []
          },
          "execution_count": 57
        }
      ]
    },
    {
      "cell_type": "code",
      "metadata": {
        "id": "TOLmCkHGs0pe",
        "outputId": "cf4927c0-2e30-4349-e31a-249c49b3964b",
        "colab": {
          "base_uri": "https://localhost:8080/",
          "height": 35
        }
      },
      "source": [
        "LR.predict([[5.2,7.625,76.53,75.0]])"
      ],
      "execution_count": 58,
      "outputs": [
        {
          "output_type": "execute_result",
          "data": {
            "text/plain": [
              "array([80.27526359])"
            ]
          },
          "metadata": {
            "tags": []
          },
          "execution_count": 58
        }
      ]
    },
    {
      "cell_type": "code",
      "metadata": {
        "id": "3PcvJW5Rs0pi",
        "outputId": "5e69b5dd-e200-4bc6-a879-08c5b6a229f6",
        "colab": {
          "base_uri": "https://localhost:8080/",
          "height": 354
        }
      },
      "source": [
        "sns.regplot(y_test,predictions)"
      ],
      "execution_count": 59,
      "outputs": [
        {
          "output_type": "stream",
          "text": [
            "/usr/local/lib/python3.6/dist-packages/seaborn/_decorators.py:43: FutureWarning: Pass the following variables as keyword args: x, y. From version 0.12, the only valid positional argument will be `data`, and passing other arguments without an explicit keyword will result in an error or misinterpretation.\n",
            "  FutureWarning\n"
          ],
          "name": "stderr"
        },
        {
          "output_type": "execute_result",
          "data": {
            "text/plain": [
              "<matplotlib.axes._subplots.AxesSubplot at 0x7f8202ea0898>"
            ]
          },
          "metadata": {
            "tags": []
          },
          "execution_count": 59
        },
        {
          "output_type": "display_data",
          "data": {
            "image/png": "[encoded data removed]",
            "text/plain": [
              "<Figure size 432x288 with 1 Axes>"
            ]
          },
          "metadata": {
            "tags": [],
            "needs_background": "light"
          }
        }
      ]
    },
    {
      "cell_type": "code",
      "metadata": {
        "id": "Rcz6qpPxs0pt",
        "outputId": "a76b346e-465f-47b0-f4ec-32c83f716eda",
        "colab": {
          "base_uri": "https://localhost:8080/",
          "height": 54
        }
      },
      "source": [
        "print('R^2_Square:%.2f '% r2_score(y_test, predictions))\n",
        "print('MSE:%.2f '% np.sqrt(mean_squared_error(y_test, predictions)))"
      ],
      "execution_count": 60,
      "outputs": [
        {
          "output_type": "stream",
          "text": [
            "R^2_Square:0.98 \n",
            "MSE:12.58 \n"
          ],
          "name": "stdout"
        }
      ]
    },
    {
      "cell_type": "markdown",
      "metadata": {
        "id": "iTCM14BXs0py"
      },
      "source": [
        "# Linear Regression Model 2\n",
        "Using so2, no2, rspm, spm"
      ]
    },
    {
      "cell_type": "code",
      "metadata": {
        "id": "mTyxoMWls0pz",
        "outputId": "8fbcbfb7-5582-45a1-ad6f-ac5df2c2952f",
        "colab": {
          "base_uri": "https://localhost:8080/",
          "height": 127
        }
      },
      "source": [
        "X1= data[['so2','no2','rspm','spm']]\n",
        "y1 = data['AQI']\n",
        "y.tail()"
      ],
      "execution_count": 61,
      "outputs": [
        {
          "output_type": "execute_result",
          "data": {
            "text/plain": [
              "435734    195.959184\n",
              "435735    189.004349\n",
              "435736    189.004349\n",
              "435737    189.004349\n",
              "435738    189.004349\n",
              "Name: AQI, dtype: float64"
            ]
          },
          "metadata": {
            "tags": []
          },
          "execution_count": 61
        }
      ]
    },
    {
      "cell_type": "code",
      "metadata": {
        "id": "xUMvV9Hbs0p2"
      },
      "source": [
        "X_train1, X_test1, y_train1, y_test1 = train_test_split(X1,y1, test_size=0.2,random_state=101)"
      ],
      "execution_count": 62,
      "outputs": []
    },
    {
      "cell_type": "code",
      "metadata": {
        "id": "EjbPTfrks0p6",
        "outputId": "f7666e7d-d7fa-49d4-fb3d-47e0758d8a03",
        "colab": {
          "base_uri": "https://localhost:8080/",
          "height": 206
        }
      },
      "source": [
        "X_train1.head()"
      ],
      "execution_count": 63,
      "outputs": [
        {
          "output_type": "execute_result",
          "data": {
            "text/html": [
              "<div>\n",
              "<style scoped>\n",
              "    .dataframe tbody tr th:only-of-type {\n",
              "        vertical-align: middle;\n",
              "    }\n",
              "\n",
              "    .dataframe tbody tr th {\n",
              "        vertical-align: top;\n",
              "    }\n",
              "\n",
              "    .dataframe thead th {\n",
              "        text-align: right;\n",
              "    }\n",
              "</style>\n",
              "<table border=\"1\" class=\"dataframe\">\n",
              "  <thead>\n",
              "    <tr style=\"text-align: right;\">\n",
              "      <th></th>\n",
              "      <th>so2</th>\n",
              "      <th>no2</th>\n",
              "      <th>rspm</th>\n",
              "      <th>spm</th>\n",
              "    </tr>\n",
              "  </thead>\n",
              "  <tbody>\n",
              "    <tr>\n",
              "      <th>360028</th>\n",
              "      <td>3.0</td>\n",
              "      <td>32.0</td>\n",
              "      <td>51.0</td>\n",
              "      <td>126.729064</td>\n",
              "    </tr>\n",
              "    <tr>\n",
              "      <th>434684</th>\n",
              "      <td>2.0</td>\n",
              "      <td>37.0</td>\n",
              "      <td>87.0</td>\n",
              "      <td>233.506524</td>\n",
              "    </tr>\n",
              "    <tr>\n",
              "      <th>64493</th>\n",
              "      <td>10.6</td>\n",
              "      <td>18.7</td>\n",
              "      <td>108.0</td>\n",
              "      <td>260.000000</td>\n",
              "    </tr>\n",
              "    <tr>\n",
              "      <th>433906</th>\n",
              "      <td>4.0</td>\n",
              "      <td>44.0</td>\n",
              "      <td>108.0</td>\n",
              "      <td>233.506524</td>\n",
              "    </tr>\n",
              "    <tr>\n",
              "      <th>183595</th>\n",
              "      <td>27.5</td>\n",
              "      <td>20.8</td>\n",
              "      <td>91.0</td>\n",
              "      <td>109.000000</td>\n",
              "    </tr>\n",
              "  </tbody>\n",
              "</table>\n",
              "</div>"
            ],
            "text/plain": [
              "         so2   no2   rspm         spm\n",
              "360028   3.0  32.0   51.0  126.729064\n",
              "434684   2.0  37.0   87.0  233.506524\n",
              "64493   10.6  18.7  108.0  260.000000\n",
              "433906   4.0  44.0  108.0  233.506524\n",
              "183595  27.5  20.8   91.0  109.000000"
            ]
          },
          "metadata": {
            "tags": []
          },
          "execution_count": 63
        }
      ]
    },
    {
      "cell_type": "code",
      "metadata": {
        "id": "ZIIUuOaNs0qA",
        "outputId": "bc8d05a8-a8da-4e73-f96b-c6361984dae6",
        "colab": {
          "base_uri": "https://localhost:8080/",
          "height": 35
        }
      },
      "source": [
        "LR1 = LinearRegression()\n",
        "LR1.fit(X_train1, y_train1)"
      ],
      "execution_count": 64,
      "outputs": [
        {
          "output_type": "execute_result",
          "data": {
            "text/plain": [
              "LinearRegression(copy_X=True, fit_intercept=True, n_jobs=None, normalize=False)"
            ]
          },
          "metadata": {
            "tags": []
          },
          "execution_count": 64
        }
      ]
    },
    {
      "cell_type": "code",
      "metadata": {
        "id": "hA997P9us0qF"
      },
      "source": [
        "prediction1 = LR1.predict(X_test1)"
      ],
      "execution_count": 65,
      "outputs": []
    },
    {
      "cell_type": "code",
      "metadata": {
        "id": "LRUtXhubs0qJ",
        "outputId": "7dbf046e-6c67-41c5-a133-089ee9b864d0",
        "colab": {
          "base_uri": "https://localhost:8080/",
          "height": 297
        }
      },
      "source": [
        "plt.scatter(y_test1,prediction1) #scatter plot for actual and predicted values\n",
        "plt.xlabel('Y Test')\n",
        "plt.ylabel('Predicted Y')"
      ],
      "execution_count": 66,
      "outputs": [
        {
          "output_type": "execute_result",
          "data": {
            "text/plain": [
              "Text(0, 0.5, 'Predicted Y')"
            ]
          },
          "metadata": {
            "tags": []
          },
          "execution_count": 66
        },
        {
          "output_type": "display_data",
          "data": {
            "image/png": "[encoded data removed]",
            "text/plain": [
              "<Figure size 432x288 with 1 Axes>"
            ]
          },
          "metadata": {
            "tags": [],
            "needs_background": "light"
          }
        }
      ]
    },
    {
      "cell_type": "code",
      "metadata": {
        "id": "tzeKiidrs0qQ",
        "outputId": "eec2395a-0999-4670-b773-56f683b79bd8",
        "colab": {
          "base_uri": "https://localhost:8080/",
          "height": 35
        }
      },
      "source": [
        "LR1.predict([[9.1,16.3,67,179]])"
      ],
      "execution_count": 67,
      "outputs": [
        {
          "output_type": "execute_result",
          "data": {
            "text/plain": [
              "array([154.79655317])"
            ]
          },
          "metadata": {
            "tags": []
          },
          "execution_count": 67
        }
      ]
    },
    {
      "cell_type": "code",
      "metadata": {
        "id": "F3lGoV6Os0qX",
        "outputId": "a4b7dac7-4328-412e-b06f-bd7b47b752ea",
        "colab": {
          "base_uri": "https://localhost:8080/",
          "height": 354
        }
      },
      "source": [
        "sns.regplot(y_test1,prediction1) #regression plot"
      ],
      "execution_count": 68,
      "outputs": [
        {
          "output_type": "stream",
          "text": [
            "/usr/local/lib/python3.6/dist-packages/seaborn/_decorators.py:43: FutureWarning: Pass the following variables as keyword args: x, y. From version 0.12, the only valid positional argument will be `data`, and passing other arguments without an explicit keyword will result in an error or misinterpretation.\n",
            "  FutureWarning\n"
          ],
          "name": "stderr"
        },
        {
          "output_type": "execute_result",
          "data": {
            "text/plain": [
              "<matplotlib.axes._subplots.AxesSubplot at 0x7f8202514390>"
            ]
          },
          "metadata": {
            "tags": []
          },
          "execution_count": 68
        },
        {
          "output_type": "display_data",
          "data": {
            "image/png": "[encoded data removed]",
            "text/plain": [
              "<Figure size 432x288 with 1 Axes>"
            ]
          },
          "metadata": {
            "tags": [],
            "needs_background": "light"
          }
        }
      ]
    },
    {
      "cell_type": "code",
      "metadata": {
        "id": "qNSIG18Ps0qc"
      },
      "source": [
        "y_test1_np= np.array(y_test1)\n",
        "prediction1_np = np.array(prediction1)"
      ],
      "execution_count": 69,
      "outputs": []
    },
    {
      "cell_type": "code",
      "metadata": {
        "id": "leVudyfJs0qg",
        "outputId": "de43d868-9f95-418d-e947-08afb055c986",
        "colab": {
          "base_uri": "https://localhost:8080/",
          "height": 35
        }
      },
      "source": [
        "LR1.score(X_test1,y_test1) #accuracy score 76.82%"
      ],
      "execution_count": 70,
      "outputs": [
        {
          "output_type": "execute_result",
          "data": {
            "text/plain": [
              "0.9433954748037254"
            ]
          },
          "metadata": {
            "tags": []
          },
          "execution_count": 70
        }
      ]
    },
    {
      "cell_type": "markdown",
      "metadata": {
        "id": "huS5FhrCs0ql"
      },
      "source": [
        "Mean Squared error, R^2 sqaured"
      ]
    },
    {
      "cell_type": "code",
      "metadata": {
        "id": "xcP5Tdows0qm",
        "outputId": "3cb8d511-b025-4dd0-81d3-a04695093930",
        "colab": {
          "base_uri": "https://localhost:8080/",
          "height": 54
        }
      },
      "source": [
        "print('R^2_Square:%.2f '% r2_score(y_test1, prediction1))\n",
        "print('MSE:%.2f '% np.sqrt(mean_squared_error(y_test1, prediction1)))"
      ],
      "execution_count": 71,
      "outputs": [
        {
          "output_type": "stream",
          "text": [
            "R^2_Square:0.94 \n",
            "MSE:20.71 \n"
          ],
          "name": "stdout"
        }
      ]
    },
    {
      "cell_type": "markdown",
      "metadata": {
        "id": "WYcJzHY2s0qp"
      },
      "source": [
        "# Classification of AQI"
      ]
    },
    {
      "cell_type": "markdown",
      "metadata": {
        "id": "p60L5-Nas0qq"
      },
      "source": [
        "## Logistic Regression"
      ]
    },
    {
      "cell_type": "markdown",
      "metadata": {
        "id": "_8emAF6ds0qq"
      },
      "source": [
        "1.Using SOi, Noi, RSPMi, SPMi\n",
        "    "
      ]
    },
    {
      "cell_type": "code",
      "metadata": {
        "id": "TpdW_Bh9s0qr"
      },
      "source": [
        "from sklearn.linear_model import LogisticRegression"
      ],
      "execution_count": 72,
      "outputs": []
    },
    {
      "cell_type": "code",
      "metadata": {
        "id": "jCGaglJJs0qx"
      },
      "source": [
        "X2 = data[['SOi','Noi','RSPMi','SPMi']]\n",
        "y2 = data['AQI_Range']"
      ],
      "execution_count": 73,
      "outputs": []
    },
    {
      "cell_type": "code",
      "metadata": {
        "id": "luocGosvs0qz"
      },
      "source": [
        "X_train2, X_test2, y_train2, y_test2 = train_test_split(X2, y2, test_size=0.33, random_state=42)"
      ],
      "execution_count": 74,
      "outputs": []
    },
    {
      "cell_type": "code",
      "metadata": {
        "id": "jXL6UDris0q2",
        "outputId": "a4cf46c6-d9a6-4444-c669-4c52fb3f8edb",
        "colab": {
          "base_uri": "https://localhost:8080/",
          "height": 276
        }
      },
      "source": [
        "logmodel = LogisticRegression()\n",
        "logmodel.fit(X_train2,y_train2)"
      ],
      "execution_count": 75,
      "outputs": [
        {
          "output_type": "stream",
          "text": [
            "/usr/local/lib/python3.6/dist-packages/sklearn/linear_model/_logistic.py:940: ConvergenceWarning: lbfgs failed to converge (status=1):\n",
            "STOP: TOTAL NO. of ITERATIONS REACHED LIMIT.\n",
            "\n",
            "Increase the number of iterations (max_iter) or scale the data as shown in:\n",
            "    https://scikit-learn.org/stable/modules/preprocessing.html\n",
            "Please also refer to the documentation for alternative solver options:\n",
            "    https://scikit-learn.org/stable/modules/linear_model.html#logistic-regression\n",
            "  extra_warning_msg=_LOGISTIC_SOLVER_CONVERGENCE_MSG)\n"
          ],
          "name": "stderr"
        },
        {
          "output_type": "execute_result",
          "data": {
            "text/plain": [
              "LogisticRegression(C=1.0, class_weight=None, dual=False, fit_intercept=True,\n",
              "                   intercept_scaling=1, l1_ratio=None, max_iter=100,\n",
              "                   multi_class='auto', n_jobs=None, penalty='l2',\n",
              "                   random_state=None, solver='lbfgs', tol=0.0001, verbose=0,\n",
              "                   warm_start=False)"
            ]
          },
          "metadata": {
            "tags": []
          },
          "execution_count": 75
        }
      ]
    },
    {
      "cell_type": "code",
      "metadata": {
        "id": "DEyWIsx-s0q6"
      },
      "source": [
        "predictions = logmodel.predict(X_test)"
      ],
      "execution_count": 76,
      "outputs": []
    },
    {
      "cell_type": "code",
      "metadata": {
        "id": "5qPw5wUPs0q8",
        "outputId": "8e3fec13-ffba-4b2e-8e44-eee4015fb592",
        "colab": {
          "base_uri": "https://localhost:8080/",
          "height": 35
        }
      },
      "source": [
        "logmodel.score(X_test2,y_test2) #accuracy score 89.25 %"
      ],
      "execution_count": 77,
      "outputs": [
        {
          "output_type": "execute_result",
          "data": {
            "text/plain": [
              "0.7013289457030756"
            ]
          },
          "metadata": {
            "tags": []
          },
          "execution_count": 77
        }
      ]
    },
    {
      "cell_type": "markdown",
      "metadata": {
        "id": "q_nWHNk_s0q-"
      },
      "source": [
        "Creating new csv file to store AQI range values inorder to cross verify predicted value"
      ]
    },
    {
      "cell_type": "code",
      "metadata": {
        "id": "qvMqrqV-s0rA"
      },
      "source": [
        "new = pd.DataFrame(d)\n",
        "file1 = 'new1.csv'\n",
        "new.to_csv(file1,index=True)"
      ],
      "execution_count": 78,
      "outputs": []
    },
    {
      "cell_type": "code",
      "metadata": {
        "id": "eRyzAuAws0rN",
        "outputId": "d739591d-7de4-41f6-de8a-5a71c5f0808d",
        "colab": {
          "base_uri": "https://localhost:8080/",
          "height": 261
        }
      },
      "source": [
        "d.tail()"
      ],
      "execution_count": 79,
      "outputs": [
        {
          "output_type": "execute_result",
          "data": {
            "text/html": [
              "<div>\n",
              "<style scoped>\n",
              "    .dataframe tbody tr th:only-of-type {\n",
              "        vertical-align: middle;\n",
              "    }\n",
              "\n",
              "    .dataframe tbody tr th {\n",
              "        vertical-align: top;\n",
              "    }\n",
              "\n",
              "    .dataframe thead th {\n",
              "        text-align: right;\n",
              "    }\n",
              "</style>\n",
              "<table border=\"1\" class=\"dataframe\">\n",
              "  <thead>\n",
              "    <tr style=\"text-align: right;\">\n",
              "      <th></th>\n",
              "      <th>state</th>\n",
              "      <th>location</th>\n",
              "      <th>type</th>\n",
              "      <th>so2</th>\n",
              "      <th>no2</th>\n",
              "      <th>rspm</th>\n",
              "      <th>spm</th>\n",
              "      <th>pm2_5</th>\n",
              "      <th>date</th>\n",
              "      <th>SOi</th>\n",
              "      <th>Noi</th>\n",
              "      <th>RSPMi</th>\n",
              "      <th>SPMi</th>\n",
              "      <th>PMi</th>\n",
              "      <th>AQI</th>\n",
              "      <th>AQI_Range</th>\n",
              "    </tr>\n",
              "  </thead>\n",
              "  <tbody>\n",
              "    <tr>\n",
              "      <th>435737</th>\n",
              "      <td>West Bengal</td>\n",
              "      <td>ULUBERIA</td>\n",
              "      <td>RIRUO</td>\n",
              "      <td>22.0</td>\n",
              "      <td>50.0</td>\n",
              "      <td>143.0</td>\n",
              "      <td>233.506524</td>\n",
              "      <td>64.890625</td>\n",
              "      <td>2015-12-24</td>\n",
              "      <td>27.5</td>\n",
              "      <td>62.5</td>\n",
              "      <td>185.857143</td>\n",
              "      <td>189.004349</td>\n",
              "      <td>64.890625</td>\n",
              "      <td>189.004349</td>\n",
              "      <td>Poor</td>\n",
              "    </tr>\n",
              "    <tr>\n",
              "      <th>435738</th>\n",
              "      <td>West Bengal</td>\n",
              "      <td>ULUBERIA</td>\n",
              "      <td>RIRUO</td>\n",
              "      <td>20.0</td>\n",
              "      <td>46.0</td>\n",
              "      <td>171.0</td>\n",
              "      <td>233.506524</td>\n",
              "      <td>64.890625</td>\n",
              "      <td>2015-12-29</td>\n",
              "      <td>25.0</td>\n",
              "      <td>57.5</td>\n",
              "      <td>0.000000</td>\n",
              "      <td>189.004349</td>\n",
              "      <td>64.890625</td>\n",
              "      <td>189.004349</td>\n",
              "      <td>Poor</td>\n",
              "    </tr>\n",
              "    <tr>\n",
              "      <th>435739</th>\n",
              "      <td>andaman-and-nicobar-islands</td>\n",
              "      <td>NaN</td>\n",
              "      <td>NaN</td>\n",
              "      <td>NaN</td>\n",
              "      <td>NaN</td>\n",
              "      <td>NaN</td>\n",
              "      <td>NaN</td>\n",
              "      <td>NaN</td>\n",
              "      <td>NaN</td>\n",
              "      <td>0.0</td>\n",
              "      <td>NaN</td>\n",
              "      <td>0.000000</td>\n",
              "      <td>NaN</td>\n",
              "      <td>NaN</td>\n",
              "      <td>0.000000</td>\n",
              "      <td>Good</td>\n",
              "    </tr>\n",
              "    <tr>\n",
              "      <th>435740</th>\n",
              "      <td>Lakshadweep</td>\n",
              "      <td>NaN</td>\n",
              "      <td>NaN</td>\n",
              "      <td>NaN</td>\n",
              "      <td>NaN</td>\n",
              "      <td>NaN</td>\n",
              "      <td>NaN</td>\n",
              "      <td>NaN</td>\n",
              "      <td>NaN</td>\n",
              "      <td>0.0</td>\n",
              "      <td>NaN</td>\n",
              "      <td>0.000000</td>\n",
              "      <td>NaN</td>\n",
              "      <td>NaN</td>\n",
              "      <td>0.000000</td>\n",
              "      <td>Good</td>\n",
              "    </tr>\n",
              "    <tr>\n",
              "      <th>435741</th>\n",
              "      <td>Tripura</td>\n",
              "      <td>NaN</td>\n",
              "      <td>NaN</td>\n",
              "      <td>NaN</td>\n",
              "      <td>NaN</td>\n",
              "      <td>NaN</td>\n",
              "      <td>NaN</td>\n",
              "      <td>NaN</td>\n",
              "      <td>NaN</td>\n",
              "      <td>0.0</td>\n",
              "      <td>NaN</td>\n",
              "      <td>0.000000</td>\n",
              "      <td>NaN</td>\n",
              "      <td>NaN</td>\n",
              "      <td>0.000000</td>\n",
              "      <td>Good</td>\n",
              "    </tr>\n",
              "  </tbody>\n",
              "</table>\n",
              "</div>"
            ],
            "text/plain": [
              "                              state  location  ...         AQI  AQI_Range\n",
              "435737                  West Bengal  ULUBERIA  ...  189.004349       Poor\n",
              "435738                  West Bengal  ULUBERIA  ...  189.004349       Poor\n",
              "435739  andaman-and-nicobar-islands       NaN  ...    0.000000       Good\n",
              "435740                  Lakshadweep       NaN  ...    0.000000       Good\n",
              "435741                      Tripura       NaN  ...    0.000000       Good\n",
              "\n",
              "[5 rows x 16 columns]"
            ]
          },
          "metadata": {
            "tags": []
          },
          "execution_count": 79
        }
      ]
    },
    {
      "cell_type": "code",
      "metadata": {
        "id": "6DfKka5Os0rO",
        "outputId": "074c41ff-d387-4a35-b843-d6df64039901",
        "colab": {
          "base_uri": "https://localhost:8080/",
          "height": 35
        }
      },
      "source": [
        "logmodel.predict([[77.4,147.7,78.182,100]]) #correct"
      ],
      "execution_count": 80,
      "outputs": [
        {
          "output_type": "execute_result",
          "data": {
            "text/plain": [
              "array(['Moderate'], dtype=object)"
            ]
          },
          "metadata": {
            "tags": []
          },
          "execution_count": 80
        }
      ]
    },
    {
      "cell_type": "code",
      "metadata": {
        "id": "xp8uXs8Ys0rS",
        "outputId": "2cdbf9bc-0445-4c0c-9090-49a4b3818854",
        "colab": {
          "base_uri": "https://localhost:8080/",
          "height": 35
        }
      },
      "source": [
        "logmodel.predict([[32.7,35,78.182,203]]) #correct"
      ],
      "execution_count": 81,
      "outputs": [
        {
          "output_type": "execute_result",
          "data": {
            "text/plain": [
              "array(['Poor'], dtype=object)"
            ]
          },
          "metadata": {
            "tags": []
          },
          "execution_count": 81
        }
      ]
    },
    {
      "cell_type": "code",
      "metadata": {
        "id": "LhlhFXlJs0rU",
        "outputId": "c614aac8-1c3d-4ff0-8d7f-67f207c39436",
        "colab": {
          "base_uri": "https://localhost:8080/",
          "height": 35
        }
      },
      "source": [
        "logmodel.predict([[100,182.2,78.182,400]]) #correct"
      ],
      "execution_count": 82,
      "outputs": [
        {
          "output_type": "execute_result",
          "data": {
            "text/plain": [
              "array(['Poor'], dtype=object)"
            ]
          },
          "metadata": {
            "tags": []
          },
          "execution_count": 82
        }
      ]
    },
    {
      "cell_type": "markdown",
      "metadata": {
        "id": "9qe38apSs0rY"
      },
      "source": [
        "# Logistic regression model 2"
      ]
    },
    {
      "cell_type": "markdown",
      "metadata": {
        "id": "KSJS_6Cbs0rY"
      },
      "source": [
        "2.Using so2,no2,rspm,spm"
      ]
    },
    {
      "cell_type": "code",
      "metadata": {
        "id": "ORxpQbZGs0rY"
      },
      "source": [
        "X3 = data[['so2','no2','rspm','spm']]\n",
        "y3 = data['AQI_Range']"
      ],
      "execution_count": 83,
      "outputs": []
    },
    {
      "cell_type": "code",
      "metadata": {
        "id": "Su6rN1YJs0rb"
      },
      "source": [
        "X_train3, X_test3, y_train3, y_test3 = train_test_split(X3, y3, test_size=0.33, random_state=42)"
      ],
      "execution_count": 84,
      "outputs": []
    },
    {
      "cell_type": "code",
      "metadata": {
        "id": "VRRajSods0re",
        "outputId": "b5a42201-4d42-4a66-d2e5-883f1f5b54c8",
        "colab": {
          "base_uri": "https://localhost:8080/",
          "height": 276
        }
      },
      "source": [
        "logmodel2 = LogisticRegression()\n",
        "logmodel2.fit(X_train3,y_train3)"
      ],
      "execution_count": 85,
      "outputs": [
        {
          "output_type": "stream",
          "text": [
            "/usr/local/lib/python3.6/dist-packages/sklearn/linear_model/_logistic.py:940: ConvergenceWarning: lbfgs failed to converge (status=1):\n",
            "STOP: TOTAL NO. of ITERATIONS REACHED LIMIT.\n",
            "\n",
            "Increase the number of iterations (max_iter) or scale the data as shown in:\n",
            "    https://scikit-learn.org/stable/modules/preprocessing.html\n",
            "Please also refer to the documentation for alternative solver options:\n",
            "    https://scikit-learn.org/stable/modules/linear_model.html#logistic-regression\n",
            "  extra_warning_msg=_LOGISTIC_SOLVER_CONVERGENCE_MSG)\n"
          ],
          "name": "stderr"
        },
        {
          "output_type": "execute_result",
          "data": {
            "text/plain": [
              "LogisticRegression(C=1.0, class_weight=None, dual=False, fit_intercept=True,\n",
              "                   intercept_scaling=1, l1_ratio=None, max_iter=100,\n",
              "                   multi_class='auto', n_jobs=None, penalty='l2',\n",
              "                   random_state=None, solver='lbfgs', tol=0.0001, verbose=0,\n",
              "                   warm_start=False)"
            ]
          },
          "metadata": {
            "tags": []
          },
          "execution_count": 85
        }
      ]
    },
    {
      "cell_type": "code",
      "metadata": {
        "id": "kqo5DPvCs0ri",
        "outputId": "b040e84b-0744-4764-da4a-01ef6cf584e4",
        "colab": {
          "base_uri": "https://localhost:8080/",
          "height": 35
        }
      },
      "source": [
        "logmodel2.score(X_test3,y_test3) #very low accuracy score"
      ],
      "execution_count": 86,
      "outputs": [
        {
          "output_type": "execute_result",
          "data": {
            "text/plain": [
              "0.6792304771547906"
            ]
          },
          "metadata": {
            "tags": []
          },
          "execution_count": 86
        }
      ]
    },
    {
      "cell_type": "code",
      "metadata": {
        "id": "JDcEGh9ts0rl",
        "outputId": "31f261e1-3b1c-436e-eb91-aa76d50f070e",
        "colab": {
          "base_uri": "https://localhost:8080/",
          "height": 35
        }
      },
      "source": [
        "logmodel2.predict([[4.8,17.4,78.48,200]]) #correct"
      ],
      "execution_count": 87,
      "outputs": [
        {
          "output_type": "execute_result",
          "data": {
            "text/plain": [
              "array(['Poor'], dtype=object)"
            ]
          },
          "metadata": {
            "tags": []
          },
          "execution_count": 87
        }
      ]
    },
    {
      "cell_type": "code",
      "metadata": {
        "id": "OZhwB0bos0ro",
        "outputId": "9c84593e-f3c2-4131-a583-bb0fed26c371",
        "colab": {
          "base_uri": "https://localhost:8080/",
          "height": 35
        }
      },
      "source": [
        "logmodel2.predict([[67.4,127.7,78.48,215]]) #correct"
      ],
      "execution_count": 88,
      "outputs": [
        {
          "output_type": "execute_result",
          "data": {
            "text/plain": [
              "array(['Poor'], dtype=object)"
            ]
          },
          "metadata": {
            "tags": []
          },
          "execution_count": 88
        }
      ]
    },
    {
      "cell_type": "code",
      "metadata": {
        "id": "0ZCgybeFs0rr",
        "outputId": "83c00285-f5fd-4ec6-b2ef-f40b1034ff65",
        "colab": {
          "base_uri": "https://localhost:8080/",
          "height": 35
        }
      },
      "source": [
        "logmodel2.predict([[2.059,8.94,102,256]])  #wrong"
      ],
      "execution_count": 89,
      "outputs": [
        {
          "output_type": "execute_result",
          "data": {
            "text/plain": [
              "array(['Hazardous'], dtype=object)"
            ]
          },
          "metadata": {
            "tags": []
          },
          "execution_count": 89
        }
      ]
    },
    {
      "cell_type": "markdown",
      "metadata": {
        "id": "2CNoAqeus0rt"
      },
      "source": [
        "#  Using Random forest classifier"
      ]
    },
    {
      "cell_type": "code",
      "metadata": {
        "id": "jo1LAwjIs0rt"
      },
      "source": [
        "from sklearn.ensemble import RandomForestClassifier"
      ],
      "execution_count": 90,
      "outputs": []
    },
    {
      "cell_type": "code",
      "metadata": {
        "id": "0cxtYyuYs0rv",
        "outputId": "84f2d27e-600f-429f-c9d7-0f89ea43a61a",
        "colab": {
          "base_uri": "https://localhost:8080/",
          "height": 164
        }
      },
      "source": [
        "model = RandomForestClassifier(n_estimators=10)\n",
        "model.fit(X_train3,y_train3)"
      ],
      "execution_count": 91,
      "outputs": [
        {
          "output_type": "execute_result",
          "data": {
            "text/plain": [
              "RandomForestClassifier(bootstrap=True, ccp_alpha=0.0, class_weight=None,\n",
              "                       criterion='gini', max_depth=None, max_features='auto',\n",
              "                       max_leaf_nodes=None, max_samples=None,\n",
              "                       min_impurity_decrease=0.0, min_impurity_split=None,\n",
              "                       min_samples_leaf=1, min_samples_split=2,\n",
              "                       min_weight_fraction_leaf=0.0, n_estimators=10,\n",
              "                       n_jobs=None, oob_score=False, random_state=None,\n",
              "                       verbose=0, warm_start=False)"
            ]
          },
          "metadata": {
            "tags": []
          },
          "execution_count": 91
        }
      ]
    },
    {
      "cell_type": "code",
      "metadata": {
        "id": "X13dghw7s0r0",
        "outputId": "f31aca29-915a-4032-af80-4ecb9c436f85",
        "colab": {
          "base_uri": "https://localhost:8080/",
          "height": 35
        }
      },
      "source": [
        "model.score(X_test3,y_test3) #high accuracy score of 99.97 %"
      ],
      "execution_count": 92,
      "outputs": [
        {
          "output_type": "execute_result",
          "data": {
            "text/plain": [
              "0.9997974939881028"
            ]
          },
          "metadata": {
            "tags": []
          },
          "execution_count": 92
        }
      ]
    },
    {
      "cell_type": "code",
      "metadata": {
        "id": "CUhmR0D7s0r2",
        "outputId": "c9f44239-356f-495d-cf58-a14c2536e990",
        "colab": {
          "base_uri": "https://localhost:8080/",
          "height": 206
        }
      },
      "source": [
        "X_train3.head()"
      ],
      "execution_count": 93,
      "outputs": [
        {
          "output_type": "execute_result",
          "data": {
            "text/html": [
              "<div>\n",
              "<style scoped>\n",
              "    .dataframe tbody tr th:only-of-type {\n",
              "        vertical-align: middle;\n",
              "    }\n",
              "\n",
              "    .dataframe tbody tr th {\n",
              "        vertical-align: top;\n",
              "    }\n",
              "\n",
              "    .dataframe thead th {\n",
              "        text-align: right;\n",
              "    }\n",
              "</style>\n",
              "<table border=\"1\" class=\"dataframe\">\n",
              "  <thead>\n",
              "    <tr style=\"text-align: right;\">\n",
              "      <th></th>\n",
              "      <th>so2</th>\n",
              "      <th>no2</th>\n",
              "      <th>rspm</th>\n",
              "      <th>spm</th>\n",
              "    </tr>\n",
              "  </thead>\n",
              "  <tbody>\n",
              "    <tr>\n",
              "      <th>360294</th>\n",
              "      <td>4.000000</td>\n",
              "      <td>24.0</td>\n",
              "      <td>23.000000</td>\n",
              "      <td>126.729064</td>\n",
              "    </tr>\n",
              "    <tr>\n",
              "      <th>278096</th>\n",
              "      <td>5.800000</td>\n",
              "      <td>11.1</td>\n",
              "      <td>129.000000</td>\n",
              "      <td>262.000000</td>\n",
              "    </tr>\n",
              "    <tr>\n",
              "      <th>277941</th>\n",
              "      <td>2.900000</td>\n",
              "      <td>26.3</td>\n",
              "      <td>72.000000</td>\n",
              "      <td>140.000000</td>\n",
              "    </tr>\n",
              "    <tr>\n",
              "      <th>269637</th>\n",
              "      <td>18.300000</td>\n",
              "      <td>28.6</td>\n",
              "      <td>83.619824</td>\n",
              "      <td>155.000000</td>\n",
              "    </tr>\n",
              "    <tr>\n",
              "      <th>272765</th>\n",
              "      <td>5.275874</td>\n",
              "      <td>12.7</td>\n",
              "      <td>80.000000</td>\n",
              "      <td>176.000000</td>\n",
              "    </tr>\n",
              "  </tbody>\n",
              "</table>\n",
              "</div>"
            ],
            "text/plain": [
              "              so2   no2        rspm         spm\n",
              "360294   4.000000  24.0   23.000000  126.729064\n",
              "278096   5.800000  11.1  129.000000  262.000000\n",
              "277941   2.900000  26.3   72.000000  140.000000\n",
              "269637  18.300000  28.6   83.619824  155.000000\n",
              "272765   5.275874  12.7   80.000000  176.000000"
            ]
          },
          "metadata": {
            "tags": []
          },
          "execution_count": 93
        }
      ]
    },
    {
      "cell_type": "code",
      "metadata": {
        "id": "hNAJo5Bes0r5",
        "outputId": "9270a21a-65be-4694-b607-92edafc0a276",
        "colab": {
          "base_uri": "https://localhost:8080/",
          "height": 35
        }
      },
      "source": [
        "model.predict([[2.059,8.94,102,256]]) #correct"
      ],
      "execution_count": 94,
      "outputs": [
        {
          "output_type": "execute_result",
          "data": {
            "text/plain": [
              "array(['Unhealthy'], dtype=object)"
            ]
          },
          "metadata": {
            "tags": []
          },
          "execution_count": 94
        }
      ]
    },
    {
      "cell_type": "markdown",
      "metadata": {
        "id": "rLffkx88s0r8"
      },
      "source": [
        "# Using Decision Tree Classifier"
      ]
    },
    {
      "cell_type": "code",
      "metadata": {
        "id": "ihpxkpbcs0r-"
      },
      "source": [
        "from sklearn import tree"
      ],
      "execution_count": 95,
      "outputs": []
    },
    {
      "cell_type": "code",
      "metadata": {
        "id": "DAhW79hrs0sH"
      },
      "source": [
        "model2 = tree.DecisionTreeClassifier()"
      ],
      "execution_count": 96,
      "outputs": []
    },
    {
      "cell_type": "code",
      "metadata": {
        "id": "OvswAJ6Ys0sK",
        "outputId": "207bba35-bb7f-4793-fd8e-a1ec002e0f63",
        "colab": {
          "base_uri": "https://localhost:8080/",
          "height": 127
        }
      },
      "source": [
        "model2.fit(X_train3,y_train3)"
      ],
      "execution_count": 97,
      "outputs": [
        {
          "output_type": "execute_result",
          "data": {
            "text/plain": [
              "DecisionTreeClassifier(ccp_alpha=0.0, class_weight=None, criterion='gini',\n",
              "                       max_depth=None, max_features=None, max_leaf_nodes=None,\n",
              "                       min_impurity_decrease=0.0, min_impurity_split=None,\n",
              "                       min_samples_leaf=1, min_samples_split=2,\n",
              "                       min_weight_fraction_leaf=0.0, presort='deprecated',\n",
              "                       random_state=None, splitter='best')"
            ]
          },
          "metadata": {
            "tags": []
          },
          "execution_count": 97
        }
      ]
    },
    {
      "cell_type": "code",
      "metadata": {
        "id": "uIX9pCdos0sc",
        "outputId": "7f10d2fb-1b3a-4ad6-d349-8a3209732665",
        "colab": {
          "base_uri": "https://localhost:8080/",
          "height": 35
        }
      },
      "source": [
        "model2.score(X_test3,y_test3) #high accuracy score of 99.98%"
      ],
      "execution_count": 98,
      "outputs": [
        {
          "output_type": "execute_result",
          "data": {
            "text/plain": [
              "0.9997215542336413"
            ]
          },
          "metadata": {
            "tags": []
          },
          "execution_count": 98
        }
      ]
    },
    {
      "cell_type": "markdown",
      "metadata": {
        "id": "39KkM6Zns0se"
      },
      "source": [
        "Some predictions"
      ]
    },
    {
      "cell_type": "code",
      "metadata": {
        "id": "HBPq-GGSs0se",
        "outputId": "bd2867ad-1ee8-4bb9-b38f-9b88667c59b0",
        "colab": {
          "base_uri": "https://localhost:8080/",
          "height": 35
        }
      },
      "source": [
        "model2.predict([[9,31,51,205.25]]) # correct"
      ],
      "execution_count": 99,
      "outputs": [
        {
          "output_type": "execute_result",
          "data": {
            "text/plain": [
              "array(['Poor'], dtype=object)"
            ]
          },
          "metadata": {
            "tags": []
          },
          "execution_count": 99
        }
      ]
    },
    {
      "cell_type": "code",
      "metadata": {
        "id": "K_TF9c_5s0sh",
        "outputId": "672e0c27-aa19-4619-e56c-b3e3579b54a7",
        "colab": {
          "base_uri": "https://localhost:8080/",
          "height": 35
        }
      },
      "source": [
        "model2.predict([[2,5.8,17,36]]) # correct"
      ],
      "execution_count": 100,
      "outputs": [
        {
          "output_type": "execute_result",
          "data": {
            "text/plain": [
              "array(['Good'], dtype=object)"
            ]
          },
          "metadata": {
            "tags": []
          },
          "execution_count": 100
        }
      ]
    },
    {
      "cell_type": "code",
      "metadata": {
        "id": "uUlCfxfAs0sl",
        "outputId": "cbaaf6ec-c4e3-4216-c2c5-cd1618d3015b",
        "colab": {
          "base_uri": "https://localhost:8080/",
          "height": 35
        }
      },
      "source": [
        "model2.predict([[18.6,48.3,142,285]]) # correct"
      ],
      "execution_count": 101,
      "outputs": [
        {
          "output_type": "execute_result",
          "data": {
            "text/plain": [
              "array(['Unhealthy'], dtype=object)"
            ]
          },
          "metadata": {
            "tags": []
          },
          "execution_count": 101
        }
      ]
    },
    {
      "cell_type": "code",
      "metadata": {
        "id": "MLc3sAmos0sp",
        "outputId": "662f236d-f955-49e5-8a2b-478ee0991d06",
        "colab": {
          "base_uri": "https://localhost:8080/",
          "height": 35
        }
      },
      "source": [
        "model2.predict([[6,11,109,84.41]]) # correct"
      ],
      "execution_count": 102,
      "outputs": [
        {
          "output_type": "execute_result",
          "data": {
            "text/plain": [
              "array(['Poor'], dtype=object)"
            ]
          },
          "metadata": {
            "tags": []
          },
          "execution_count": 102
        }
      ]
    },
    {
      "cell_type": "code",
      "metadata": {
        "id": "m9wipxMrs0sq",
        "outputId": "b80aca16-24ad-4f8b-89e6-844f98fab0f2",
        "colab": {
          "base_uri": "https://localhost:8080/",
          "height": 35
        }
      },
      "source": [
        "model2.predict([[10,16,156,372.66]]) # correct"
      ],
      "execution_count": 103,
      "outputs": [
        {
          "output_type": "execute_result",
          "data": {
            "text/plain": [
              "array(['Very unhealthy'], dtype=object)"
            ]
          },
          "metadata": {
            "tags": []
          },
          "execution_count": 103
        }
      ]
    },
    {
      "cell_type": "markdown",
      "metadata": {
        "id": "OLTjwkV-s0st"
      },
      "source": [
        "<h1>Conclusion</h1>\n",
        "<p>\n",
        "<li>AQI is highly correlated with all the independent variables(so2, no2, rspm, spm)</li>\n",
        "<li>AQI has been increasing over the years.</li>\n",
        "<h4>Best models for AQI range classification :</h4>\n",
        "<ol>\n",
        "<li>Random Forest Classifier</li>\n",
        "<li>Decision Tree Classifier</li>\n",
        "</ol>\n",
        "</p>\n",
        "\n"
      ]
    }
  ]
}