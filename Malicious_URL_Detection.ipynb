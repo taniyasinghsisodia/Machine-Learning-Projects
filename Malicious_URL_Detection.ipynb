{
  "nbformat": 4,
  "nbformat_minor": 0,
  "metadata": {
    "kernelspec": {
      "display_name": "Python 3",
      "language": "python",
      "name": "python3"
    },
    "language_info": {
      "codemirror_mode": {
        "name": "ipython",
        "version": 3
      },
      "file_extension": ".py",
      "mimetype": "text/x-python",
      "name": "python",
      "nbconvert_exporter": "python",
      "pygments_lexer": "ipython3",
      "version": "3.6.4"
    },
    "colab": {
      "name": "Malicious URL Detection.ipynb",
      "provenance": [],
      "toc_visible": true
    }
  },
  "cells": [
    {
      "cell_type": "markdown",
      "metadata": {
        "id": "rHFhySXkjmLj"
      },
      "source": [
        "# Importing libraries and reading in file"
      ]
    },
    {
      "cell_type": "code",
      "metadata": {
        "id": "fCe2GmjkkaGu",
        "outputId": "61bef97c-1817-4d57-fb3f-8a0979c7432c",
        "colab": {
          "base_uri": "https://localhost:8080/"
        }
      },
      "source": [
        "!pip install pyspark"
      ],
      "execution_count": 2,
      "outputs": [
        {
          "output_type": "stream",
          "text": [
            "Collecting pyspark\n",
            "\u001b[?25l  Downloading https://files.pythonhosted.org/packages/f0/26/198fc8c0b98580f617cb03cb298c6056587b8f0447e20fa40c5b634ced77/pyspark-3.0.1.tar.gz (204.2MB)\n",
            "\u001b[K     |████████████████████████████████| 204.2MB 67kB/s \n",
            "\u001b[?25hCollecting py4j==0.10.9\n",
            "\u001b[?25l  Downloading https://files.pythonhosted.org/packages/9e/b6/6a4fb90cd235dc8e265a6a2067f2a2c99f0d91787f06aca4bcf7c23f3f80/py4j-0.10.9-py2.py3-none-any.whl (198kB)\n",
            "\u001b[K     |████████████████████████████████| 204kB 41.5MB/s \n",
            "\u001b[?25hBuilding wheels for collected packages: pyspark\n",
            "  Building wheel for pyspark (setup.py) ... \u001b[?25l\u001b[?25hdone\n",
            "  Created wheel for pyspark: filename=pyspark-3.0.1-py2.py3-none-any.whl size=204612243 sha256=67440d5b7883c5dd5f5bb85b3a1045711704aa79365321a43077938a5daf60fc\n",
            "  Stored in directory: /root/.cache/pip/wheels/5e/bd/07/031766ca628adec8435bb40f0bd83bb676ce65ff4007f8e73f\n",
            "Successfully built pyspark\n",
            "Installing collected packages: py4j, pyspark\n",
            "Successfully installed py4j-0.10.9 pyspark-3.0.1\n"
          ],
          "name": "stdout"
        }
      ]
    },
    {
      "cell_type": "code",
      "metadata": {
        "id": "ogIebsdtlauT"
      },
      "source": [
        "from pyspark.sql import SparkSession"
      ],
      "execution_count": 3,
      "outputs": []
    },
    {
      "cell_type": "code",
      "metadata": {
        "id": "8FA4iwbvjmL0",
        "outputId": "206d96fa-0ff0-4f09-8837-ea977be7d5b5",
        "colab": {
          "base_uri": "https://localhost:8080/",
          "height": 112
        }
      },
      "source": [
        "from pyspark.ml.feature import Tokenizer, RegexTokenizer\n",
        "from pyspark.ml.classification import LinearSVC\n",
        "from pyspark.sql.functions import col, udf\n",
        "from pyspark.sql.types import IntegerType\n",
        "from pyspark.ml.feature import NGram,HashingTF, IDF\n",
        "from pyspark.ml.feature import StandardScaler\n",
        "from pyspark.sql.functions import lit\n",
        "from pyspark.mllib.feature import StandardScaler, StandardScalerModel\n",
        "from pyspark.mllib.linalg import Vectors\n",
        "from pyspark.mllib.util import MLUtils\n",
        "from pyspark.ml.classification import LogisticRegression, OneVsRest\n",
        "from pyspark.ml import Pipeline\n",
        "from pyspark.sql import Row\n",
        "from pyspark.ml.feature import RegexTokenizer, StopWordsRemover, CountVectorizer\n",
        "import matplotlib.pyplot as plt\n",
        "import numpy as np\n",
        "import pandas as pd\n",
        "from pyspark.ml.classification import RandomForestClassifier\n",
        "from pyspark.ml.evaluation import RegressionEvaluator\n",
        "from pyspark.ml.evaluation import BinaryClassificationEvaluator\n",
        "from pyspark.ml.evaluation import MulticlassClassificationEvaluator\n",
        "from pyspark.ml.tuning import ParamGridBuilder, CrossValidator\n",
        "from pyspark.ml.feature import StringIndexer\n",
        "from pyspark.ml.feature import Word2Vec\n",
        "from sklearn.metrics import confusion_matrix\n",
        "from pyspark.mllib.evaluation import MulticlassMetrics\n",
        "from pyspark.ml.classification import NaiveBayes\n",
        "from pyspark import SparkContext\n",
        "\n",
        "if __name__ == \"__main__\":\n",
        "    spark = SparkSession\\\n",
        "        .builder\\\n",
        "        .appName(\"Detecting-Malicious-URL App\")\\\n",
        "        .getOrCreate()\n",
        "\n",
        "#Reading in the URL file and storing into dataframe\n",
        "data_df = spark.read.csv(path='/content/dataset.csv',\n",
        "                        sep=',',\n",
        "                        encoding='UTF-8',\n",
        "                        comment=None,\n",
        "                        header=True, \n",
        "                        inferSchema=True)\n",
        "\n",
        "data_df.groupby('label').count().toPandas()"
      ],
      "execution_count": 4,
      "outputs": [
        {
          "output_type": "execute_result",
          "data": {
            "text/html": [
              "<div>\n",
              "<style scoped>\n",
              "    .dataframe tbody tr th:only-of-type {\n",
              "        vertical-align: middle;\n",
              "    }\n",
              "\n",
              "    .dataframe tbody tr th {\n",
              "        vertical-align: top;\n",
              "    }\n",
              "\n",
              "    .dataframe thead th {\n",
              "        text-align: right;\n",
              "    }\n",
              "</style>\n",
              "<table border=\"1\" class=\"dataframe\">\n",
              "  <thead>\n",
              "    <tr style=\"text-align: right;\">\n",
              "      <th></th>\n",
              "      <th>label</th>\n",
              "      <th>count</th>\n",
              "    </tr>\n",
              "  </thead>\n",
              "  <tbody>\n",
              "    <tr>\n",
              "      <th>0</th>\n",
              "      <td>1</td>\n",
              "      <td>56937</td>\n",
              "    </tr>\n",
              "    <tr>\n",
              "      <th>1</th>\n",
              "      <td>0</td>\n",
              "      <td>1000000</td>\n",
              "    </tr>\n",
              "  </tbody>\n",
              "</table>\n",
              "</div>"
            ],
            "text/plain": [
              "   label    count\n",
              "0      1    56937\n",
              "1      0  1000000"
            ]
          },
          "metadata": {
            "tags": []
          },
          "execution_count": 4
        }
      ]
    },
    {
      "cell_type": "code",
      "metadata": {
        "id": "UcIKFEMgmua3",
        "outputId": "35ce4280-7eb2-49c5-8cf4-9c672fb1534e",
        "colab": {
          "base_uri": "https://localhost:8080/"
        }
      },
      "source": [
        "data_df.head(9)"
      ],
      "execution_count": 5,
      "outputs": [
        {
          "output_type": "execute_result",
          "data": {
            "text/plain": [
              "[Row(url='http://br-ofertasimperdiveis.epizy.com/produto.php?linkcompleto=iphone-6-plus-apple-64gb-cinza-espacial-tela-5-5-retina-4g-camera-8mp-frontal-ios-10-proc.-m8/p/2116558/te/ipho/&amp;id=10', label=1),\n",
              " Row(url='https://semana-da-oferta.com/produtos.php?id=5abad0c01d149', label=1),\n",
              " Row(url='https://scrid-apps-creacust-sslhide90766752024.cread-squi.com/hider_reo/', label=1),\n",
              " Row(url='http://my-softbank-security.com/wap_login.htm', label=1),\n",
              " Row(url='http://www.my-softbank-security.com/wap_login.htm', label=1),\n",
              " Row(url='http://diadesaldaolu.infomando.com', label=1),\n",
              " Row(url='https://sites.google.com/site/helpsettingsrecoveryfbus2018/', label=1),\n",
              " Row(url='http://protvinowifi.ru/', label=1),\n",
              " Row(url='http://socset222.96.lt/', label=1)]"
            ]
          },
          "metadata": {
            "tags": []
          },
          "execution_count": 5
        }
      ]
    },
    {
      "cell_type": "markdown",
      "metadata": {
        "id": "R_Bj-FdOjmNC"
      },
      "source": [
        "# Under Sample Unbalanced Datasets"
      ]
    },
    {
      "cell_type": "code",
      "metadata": {
        "id": "ED2DAKA2jmNU",
        "outputId": "4f58a648-746b-438c-eb09-74b5eca9ea1c",
        "colab": {
          "base_uri": "https://localhost:8080/",
          "height": 112
        }
      },
      "source": [
        "\n",
        "malicious = data_df.filter(\"label = 1\")\n",
        "bening = data_df.filter(\"label = 0\")\n",
        "\n",
        "#malicious.count()\n",
        "#bening.count()\n",
        "\n",
        "sampleRatio = malicious.count() / data_df.count()\n",
        "#print(\"sampleRatio: %g\" %sampleRatio)\n",
        "sample_bening = bening.sample(False, sampleRatio)\n",
        "\n",
        "sampled = malicious.unionAll(sample_bening)\n",
        "\n",
        "sampled.groupby('label').count().toPandas()\n",
        "\n"
      ],
      "execution_count": 6,
      "outputs": [
        {
          "output_type": "execute_result",
          "data": {
            "text/html": [
              "<div>\n",
              "<style scoped>\n",
              "    .dataframe tbody tr th:only-of-type {\n",
              "        vertical-align: middle;\n",
              "    }\n",
              "\n",
              "    .dataframe tbody tr th {\n",
              "        vertical-align: top;\n",
              "    }\n",
              "\n",
              "    .dataframe thead th {\n",
              "        text-align: right;\n",
              "    }\n",
              "</style>\n",
              "<table border=\"1\" class=\"dataframe\">\n",
              "  <thead>\n",
              "    <tr style=\"text-align: right;\">\n",
              "      <th></th>\n",
              "      <th>label</th>\n",
              "      <th>count</th>\n",
              "    </tr>\n",
              "  </thead>\n",
              "  <tbody>\n",
              "    <tr>\n",
              "      <th>0</th>\n",
              "      <td>1</td>\n",
              "      <td>56937</td>\n",
              "    </tr>\n",
              "    <tr>\n",
              "      <th>1</th>\n",
              "      <td>0</td>\n",
              "      <td>53741</td>\n",
              "    </tr>\n",
              "  </tbody>\n",
              "</table>\n",
              "</div>"
            ],
            "text/plain": [
              "   label  count\n",
              "0      1  56937\n",
              "1      0  53741"
            ]
          },
          "metadata": {
            "tags": []
          },
          "execution_count": 6
        }
      ]
    },
    {
      "cell_type": "markdown",
      "metadata": {
        "id": "QWXHv9bAjmNm"
      },
      "source": [
        "# Data Ingestion and Vectorization"
      ]
    },
    {
      "cell_type": "code",
      "metadata": {
        "id": "8LIVeN-WjmNq",
        "outputId": "208659e9-8458-4450-d823-3764c8d916cf",
        "colab": {
          "base_uri": "https://localhost:8080/"
        }
      },
      "source": [
        "#Tokennize the TrainData - sparse the URL string into words\n",
        "regexTokenizer = RegexTokenizer(inputCol=\"url\", outputCol=\"Words\", pattern=\"\\\\W\")\n",
        "\n",
        "#CountVectorizer converts the the words into feature vectors - Thi is used as it gives better results\n",
        "countVectors = CountVectorizer(inputCol=regexTokenizer.getOutputCol(), outputCol=\"rawfeatures\", vocabSize=10000, minDF=5)\n",
        "\n",
        "#\n",
        "idf = IDF(inputCol=countVectors.getOutputCol(), outputCol=\"features\") \n",
        "\n",
        "#create the pipline \n",
        "pipeline = Pipeline(stages=[regexTokenizer, countVectors, idf ])\n",
        "\n",
        "\n",
        "# Fit the pipeline to training documents.\n",
        "# Pass 'sampled' in the param to set Balanced datasets\n",
        "pipelineFit = pipeline.fit(sampled)\n",
        "\n",
        "#Transform the pipeline to dataset\n",
        "# Pass 'sampled' in the param to set Balanced datasets\n",
        "dataset = pipelineFit.transform(sampled)\n",
        "\n",
        "#randomly split the dataset to traning and testing 80%, 20% respectively\n",
        "(trainingData, testData) = dataset.randomSplit([0.8, 0.2], seed = 100)\n",
        "print(\"\\nTraining Dataset Count: \" + str(trainingData.count()))\n",
        "print(\"Test Dataset Count: \" + str(testData.count()))\n",
        "print(\"Total Dataset Count: \" + str(dataset.count()))\n",
        "\n",
        "dataset.show(5)"
      ],
      "execution_count": 7,
      "outputs": [
        {
          "output_type": "stream",
          "text": [
            "\n",
            "Training Dataset Count: 88633\n",
            "Test Dataset Count: 22045\n",
            "Total Dataset Count: 110678\n",
            "+--------------------+-----+--------------------+--------------------+--------------------+\n",
            "|                 url|label|               Words|         rawfeatures|            features|\n",
            "+--------------------+-----+--------------------+--------------------+--------------------+\n",
            "|http://br-ofertas...|    1|[http, br, oferta...|(6949,[0,1,2,3,18...|(6949,[0,1,2,3,18...|\n",
            "|https://semana-da...|    1|[https, semana, d...|(6949,[0,3,6,18,1...|(6949,[0,3,6,18,1...|\n",
            "|https://scrid-app...|    1|[https, scrid, ap...|(6949,[0,6,845],[...|(6949,[0,6,845],[...|\n",
            "|http://my-softban...|    1|[http, my, softba...|(6949,[0,1,29,159...|(6949,[0,1,29,159...|\n",
            "|http://www.my-sof...|    1|[http, www, my, s...|(6949,[0,1,4,29,1...|(6949,[0,1,4,29,1...|\n",
            "+--------------------+-----+--------------------+--------------------+--------------------+\n",
            "only showing top 5 rows\n",
            "\n"
          ],
          "name": "stdout"
        }
      ]
    },
    {
      "cell_type": "code",
      "metadata": {
        "id": "thNtDNj5k3SX",
        "outputId": "18b1600e-c9e7-4d1a-ff9f-d4caee570c49",
        "colab": {
          "base_uri": "https://localhost:8080/"
        }
      },
      "source": [
        "dataset['Words']"
      ],
      "execution_count": 8,
      "outputs": [
        {
          "output_type": "execute_result",
          "data": {
            "text/plain": [
              "Column<b'Words'>"
            ]
          },
          "metadata": {
            "tags": []
          },
          "execution_count": 8
        }
      ]
    },
    {
      "cell_type": "code",
      "metadata": {
        "id": "nuWUiHWRjmN2",
        "outputId": "b02c8e02-4fdb-49a0-903c-ac7ec043916c",
        "colab": {
          "base_uri": "https://localhost:8080/",
          "height": 112
        }
      },
      "source": [
        "trainingData.groupby('label').count().toPandas()"
      ],
      "execution_count": 9,
      "outputs": [
        {
          "output_type": "execute_result",
          "data": {
            "text/html": [
              "<div>\n",
              "<style scoped>\n",
              "    .dataframe tbody tr th:only-of-type {\n",
              "        vertical-align: middle;\n",
              "    }\n",
              "\n",
              "    .dataframe tbody tr th {\n",
              "        vertical-align: top;\n",
              "    }\n",
              "\n",
              "    .dataframe thead th {\n",
              "        text-align: right;\n",
              "    }\n",
              "</style>\n",
              "<table border=\"1\" class=\"dataframe\">\n",
              "  <thead>\n",
              "    <tr style=\"text-align: right;\">\n",
              "      <th></th>\n",
              "      <th>label</th>\n",
              "      <th>count</th>\n",
              "    </tr>\n",
              "  </thead>\n",
              "  <tbody>\n",
              "    <tr>\n",
              "      <th>0</th>\n",
              "      <td>1</td>\n",
              "      <td>45609</td>\n",
              "    </tr>\n",
              "    <tr>\n",
              "      <th>1</th>\n",
              "      <td>0</td>\n",
              "      <td>43024</td>\n",
              "    </tr>\n",
              "  </tbody>\n",
              "</table>\n",
              "</div>"
            ],
            "text/plain": [
              "   label  count\n",
              "0      1  45609\n",
              "1      0  43024"
            ]
          },
          "metadata": {
            "tags": []
          },
          "execution_count": 9
        }
      ]
    },
    {
      "cell_type": "markdown",
      "metadata": {
        "id": "jyTlJJBhjmOE"
      },
      "source": [
        "# Logistic Regression"
      ]
    },
    {
      "cell_type": "code",
      "metadata": {
        "scrolled": true,
        "id": "zXlPWL_cjmOG",
        "outputId": "e4de832a-f020-45ad-dc11-cd216fbae426",
        "colab": {
          "base_uri": "https://localhost:8080/",
          "height": 1000
        }
      },
      "source": [
        "#==============[ LOGISTIC REGRESSION ]=========================\n",
        "r = 0.0\n",
        "p = 0.0\n",
        "a = 0.0\n",
        "f1 = 0.0\n",
        "avg_r = 0.0\n",
        "avg_p = 0.0\n",
        "avg_a = 0.0\n",
        "avg_f1 = 0.0\n",
        "total_r = 0.0\n",
        "tofal_p = 0.0\n",
        "total_a = 0.0\n",
        "total_f1 = 0.0\n",
        "\n",
        "\n",
        "# Build logistic regresssion model\n",
        "for i in range(1,6):\n",
        "    \n",
        "    dataset = pipelineFit.transform(sampled)\n",
        "\n",
        "    #randomly split the dataset to traning and testing 80%, 20% respectively\n",
        "    #(trainingData, testData) = dataset.randomSplit([0.8, 0.2], seed = 100)\n",
        "    #print(\"\\n\")\n",
        "    #trainingData.groupby('label').count().toPandas()\n",
        "    \n",
        "    lr = LogisticRegression(maxIter=10000, regParam=0.3, elasticNetParam=0, family = \"binomial\")\n",
        "    # Train model using logisitic regression\n",
        "    lrModel = lr.fit(trainingData)\n",
        "\n",
        "    #Doing the prediction using test data\n",
        "    #Label is not used in test data\n",
        "    predictions = lrModel.transform(testData)\n",
        "\n",
        "df = predictions.select('prediction', 'label')\n",
        "\n",
        "tp = df[(df.label == 1) & (df.prediction == 1)].count()\n",
        "tn = df[(df.label == 0) & (df.prediction == 0)].count()\n",
        "fp = df[(df.label == 0) & (df.prediction == 1)].count()\n",
        "fn = df[(df.label == 1) & (df.prediction == 0)].count()\n",
        "\n",
        "print(\"\\nTrue Positives: %g\" % tp)\n",
        "print(\"True Negative: %g\" % tn)\n",
        "print(\"False Positive: %g\" % fp)\n",
        "print(\"False Negative: %g\" % fn)\n",
        "\n",
        "print(\"Total: %g\" % (df.count()))\n",
        "\n",
        "r = float(tp)/(tp + fn)\n",
        "p = float(tp) / (tp + fp)\n",
        "a = float(tp + tn) / (tp + fp + tn + fn)\n",
        "f1 = float(p*r)/(p+r) * 2\n",
        "\n",
        "\n",
        "print(\"\\nAccuracy: %g\" %(a*100))\n",
        "print(\"F-Score: %f1\" %(f1*100))\n",
        "print(\"Recall: %g\" %(r*100))\n",
        "print(\"Precision: %g\" %(p*100))\n",
        "\n",
        "\n",
        "\n",
        "#===========================ploting================================================================\n",
        "\n",
        "#plt.clf()\n",
        "lr_predictions = lrModel.transform(testData)\n",
        "\n",
        "y_actu = lr_predictions.select(\"label\").toPandas()\n",
        "y_pred = lr_predictions.select(\"prediction\").toPandas()\n",
        "\n",
        "cm = confusion_matrix(y_actu, y_pred)\n",
        "\n",
        "plt.clf()\n",
        "plt.imshow(cm, interpolation='nearest', cmap=plt.cm.Wistia)\n",
        "classNames = ['Negative','Positive']\n",
        "plt.title('LOGISTIC REGRESSION')\n",
        "plt.ylabel('True label')\n",
        "plt.xlabel('Predicted label')\n",
        "tick_marks = np.arange(len(classNames))\n",
        "plt.xticks(tick_marks, classNames, rotation=45)\n",
        "plt.yticks(tick_marks, classNames)\n",
        "\n",
        "#TN, FP, FN, TP = confusion_matrix([0, 1, 0, 1], [1, 1, 1, 0]).ravel()\n",
        "\n",
        "s = [['TN','FP'], ['FN', 'TP']]\n",
        "for i in range(2):\n",
        "    for j in range(2):\n",
        "        plt.text(j,i, str(s[i][j])+\" = \"+str(cm[i][j]))\n",
        "plt.show()\n",
        "\n",
        "#===============================================================\n",
        "\n",
        "beta = np.sort(lrModel.coefficients)\n",
        "plt.plot(beta)\n",
        "plt.ylabel('Beta Coefficients')\n",
        "plt.show()\n",
        "\n",
        "# Extract the summary from the returned LogisticRegressionModel instance trained\n",
        "trainingSummary = lrModel.summary\n",
        "\n",
        "#Obtain the objective per iteration\n",
        "objectiveHistory = trainingSummary.objectiveHistory\n",
        "plt.plot(objectiveHistory)\n",
        "plt.ylabel('Objective Function')\n",
        "plt.xlabel('Iteration')\n",
        "plt.show()\n",
        "\n",
        "pr = trainingSummary.pr.toPandas()\n",
        "plt.plot(pr['recall'],pr['precision'])\n",
        "plt.ylabel('Precision')\n",
        "plt.xlabel('Recall')\n",
        "plt.show()\n",
        "\n",
        "#Obtain the receiver-operating characteristic as a dataframe and areaUnderROC.\n",
        "print(\"areaUnderROC: \" + str(trainingSummary.areaUnderROC))\n",
        "\n",
        "#trainingSummary.roc.show(n=10, truncate=15)\n",
        "roc = trainingSummary.roc.toPandas()\n",
        "plt.plot(roc['FPR'],roc['TPR'])\n",
        "plt.ylabel('False Positive Rate')\n",
        "plt.xlabel('True Positive Rate')\n",
        "plt.title('ROC Curve')\n",
        "plt.show()\n",
        "\n",
        "#Set the model threshold to maximize F-Measure\n",
        "trainingSummary.fMeasureByThreshold.show(n=10, truncate = 15)\n",
        "f = trainingSummary.fMeasureByThreshold.toPandas()\n",
        "plt.plot(f['threshold'],f['F-Measure'])\n",
        "plt.ylabel('F-Measure')\n",
        "plt.xlabel('Threshold')\n",
        "plt.show()\n",
        "\n",
        "predictions.filter(predictions['prediction'] == 0) \\\n",
        "    .select(\"url\", \"label\",\"prediction\") \\\n",
        "    .orderBy(\"probability\", ascending=False) \\\n",
        "    .show(n = 10, truncate = 80)\n",
        "    \n",
        "#Precision measures the percentage of URLs flagged as malicious that were correctly classified\n",
        "#Recall measures the percentage of actual Malicious URLs that were correctly classified"
      ],
      "execution_count": 10,
      "outputs": [
        {
          "output_type": "stream",
          "text": [
            "\n",
            "True Positives: 10725\n",
            "True Negative: 10715\n",
            "False Positive: 2\n",
            "False Negative: 603\n",
            "Total: 22045\n",
            "\n",
            "Accuracy: 97.2556\n",
            "F-Score: 97.2568581\n",
            "Recall: 94.6769\n",
            "Precision: 99.9814\n"
          ],
          "name": "stdout"
        },
        {
          "output_type": "display_data",
          "data": {
            "image/png": "[encoded data removed]",
            "text/plain": [
              "<Figure size 432x288 with 1 Axes>"
            ]
          },
          "metadata": {
            "tags": [],
            "needs_background": "light"
          }
        },
        {
          "output_type": "display_data",
          "data": {
            "image/png": "[encoded data removed]",
            "text/plain": [
              "<Figure size 432x288 with 1 Axes>"
            ]
          },
          "metadata": {
            "tags": [],
            "needs_background": "light"
          }
        },
        {
          "output_type": "display_data",
          "data": {
            "image/png": "[encoded data removed]",
            "text/plain": [
              "<Figure size 432x288 with 1 Axes>"
            ]
          },
          "metadata": {
            "tags": [],
            "needs_background": "light"
          }
        },
        {
          "output_type": "display_data",
          "data": {
            "image/png": "[encoded data removed]",
            "text/plain": [
              "<Figure size 432x288 with 1 Axes>"
            ]
          },
          "metadata": {
            "tags": [],
            "needs_background": "light"
          }
        },
        {
          "output_type": "stream",
          "text": [
            "areaUnderROC: 0.9958162478142485\n"
          ],
          "name": "stdout"
        },
        {
          "output_type": "display_data",
          "data": {
            "image/png": "[encoded data removed]",
            "text/plain": [
              "<Figure size 432x288 with 1 Axes>"
            ]
          },
          "metadata": {
            "tags": [],
            "needs_background": "light"
          }
        },
        {
          "output_type": "stream",
          "text": [
            "+---------------+---------------+\n",
            "|      threshold|      F-Measure|\n",
            "+---------------+---------------+\n",
            "|0.9917329569...|0.0159648512...|\n",
            "|0.9857424823...|0.0307419960...|\n",
            "|0.9808421215...|0.0444625476...|\n",
            "|0.9759901084...|0.0572487380...|\n",
            "|0.9714392730...|0.0736188545...|\n",
            "|0.9672005013...|0.0871516346...|\n",
            "|0.9635436464...|0.1038124142...|\n",
            "|0.9599367968...|0.1163424606...|\n",
            "|0.9562765156...|0.1318505775...|\n",
            "|0.9529013296...|0.1451839199...|\n",
            "+---------------+---------------+\n",
            "only showing top 10 rows\n",
            "\n"
          ],
          "name": "stdout"
        },
        {
          "output_type": "display_data",
          "data": {
            "image/png": "[encoded data removed]",
            "text/plain": [
              "<Figure size 432x288 with 1 Axes>"
            ]
          },
          "metadata": {
            "tags": [],
            "needs_background": "light"
          }
        },
        {
          "output_type": "stream",
          "text": [
            "+-------------------------------------------+-----+----------+\n",
            "|                                        url|label|prediction|\n",
            "+-------------------------------------------+-----+----------+\n",
            "|    without-prescription-buy-prednisone.com|    0|       0.0|\n",
            "|        prednisone-no-prescription-buy.mobi|    0|       0.0|\n",
            "|                   cheapest-20mg-cialis.org|    0|       0.0|\n",
            "|             20mg-cheapestprice-levitra.org|    0|       0.0|\n",
            "|             cheapestprice-buy-propecia.org|    0|       0.0|\n",
            "|                   cialis-canadian-20mg.org|    0|       0.0|\n",
            "|amoxicillin-amoxil-without-prescription.net|    0|       0.0|\n",
            "|                   20mg-cheapest-cialis.xyz|    0|       0.0|\n",
            "|                         independent.gov.uk|    0|       0.0|\n",
            "|                     buyonline-levitra.mobi|    0|       0.0|\n",
            "+-------------------------------------------+-----+----------+\n",
            "only showing top 10 rows\n",
            "\n"
          ],
          "name": "stdout"
        }
      ]
    },
    {
      "cell_type": "markdown",
      "metadata": {
        "id": "-DrAnuC-jmOh"
      },
      "source": [
        "# Naive Bayes"
      ]
    },
    {
      "cell_type": "code",
      "metadata": {
        "id": "fZINfmMrjmOj",
        "outputId": "f3e69c5d-9c2e-4c3c-f88a-78758639a56f",
        "colab": {
          "base_uri": "https://localhost:8080/",
          "height": 526
        }
      },
      "source": [
        "\n",
        "# create the trainer and set its parameters\n",
        "nb = NaiveBayes(smoothing=1, modelType=\"multinomial\",)\n",
        "\n",
        "# train the model\n",
        "model = nb.fit(trainingData)\n",
        "\n",
        "# select example rows to display.\n",
        "predictions = model.transform(testData)\n",
        "\n",
        "\n",
        "# compute accuracy on the test set\n",
        "evaluator = BinaryClassificationEvaluator(rawPredictionCol=\"prediction\")\n",
        "print(\"Test: Area Under ROC: \" + str(evaluator.evaluate(predictions, {evaluator.metricName: \"areaUnderROC\"})))\n",
        "\n",
        "#===========================\n",
        "df = predictions.select('prediction', 'label')\n",
        "\n",
        "tp = df[(df.label == 1) & (df.prediction == 1)].count()\n",
        "tn = df[(df.label == 0) & (df.prediction == 0)].count()\n",
        "fp = df[(df.label == 0) & (df.prediction == 1)].count()\n",
        "fn = df[(df.label == 1) & (df.prediction == 0)].count()\n",
        "\n",
        "print(\"True Positives: %g\" % tp)\n",
        "print(\"True Negative: %g\" % tn)\n",
        "print(\"False Positive: %g\" % fp)\n",
        "print(\"False Negative: %g\" % fn)\n",
        "\n",
        "print(\"Total: %g\" % (df.count()))\n",
        "\n",
        "r = float(tp)/(tp + fn)\n",
        "p = float(tp) / (tp + fp)\n",
        "a = float(tp + tn) / (tp + fp + tn + fn)\n",
        "f1 = float(p*r)/(p+r) * 2\n",
        "print(\"F-Score: %f1\" %(f1*100))\n",
        "\n",
        "print(\"\\nAccuracy: %g\" %(a*100))\n",
        "print(\"Recall: %g\" %(r*100))\n",
        "print(\"Precision: %g\" %(p*100))\n",
        "\n",
        "\n",
        "#===========================ploting\n",
        "\n",
        "#plt.clf()\n",
        "nb_predictions = model.transform(testData)\n",
        "\n",
        "y_actu = nb_predictions.select(\"label\").toPandas()\n",
        "y_pred = nb_predictions.select(\"prediction\").toPandas()\n",
        "\n",
        "cm = confusion_matrix(y_actu, y_pred)\n",
        "\n",
        "plt.clf()\n",
        "plt.imshow(cm, interpolation='nearest', cmap=plt.cm.Wistia)\n",
        "classNames = ['Negative','Positive']\n",
        "plt.title('Naive Bayes')\n",
        "plt.ylabel('True label')\n",
        "plt.xlabel('Predicted label')\n",
        "tick_marks = np.arange(len(classNames))\n",
        "plt.xticks(tick_marks, classNames, rotation=45)\n",
        "plt.yticks(tick_marks, classNames)\n",
        "\n",
        "#TN, FP, FN, TP = confusion_matrix([0, 1, 0, 1], [1, 1, 1, 0]).ravel()\n",
        "\n",
        "s = [['TN','FP'], ['FN', 'TP']]\n",
        "for i in range(2):\n",
        "    for j in range(2):\n",
        "        plt.text(j,i, str(s[i][j])+\" = \"+str(cm[i][j]))\n",
        "plt.show()"
      ],
      "execution_count": 12,
      "outputs": [
        {
          "output_type": "stream",
          "text": [
            "Test: Area Under ROC: 0.9687272038682405\n",
            "True Positives: 10833\n",
            "True Negative: 10515\n",
            "False Positive: 202\n",
            "False Negative: 495\n",
            "Total: 22045\n",
            "F-Score: 96.8832451\n",
            "\n",
            "Accuracy: 96.8383\n",
            "Recall: 95.6303\n",
            "Precision: 98.1695\n"
          ],
          "name": "stdout"
        },
        {
          "output_type": "display_data",
          "data": {
            "image/png": "[encoded data removed]",
            "text/plain": [
              "<Figure size 432x288 with 1 Axes>"
            ]
          },
          "metadata": {
            "tags": [],
            "needs_background": "light"
          }
        }
      ]
    },
    {
      "cell_type": "markdown",
      "metadata": {
        "id": "grxAEWx3jmOq"
      },
      "source": [
        "# Linear Support Vector Machine"
      ]
    },
    {
      "cell_type": "code",
      "metadata": {
        "id": "KL1nCQYKjmOr",
        "outputId": "892df3bd-cc17-4452-8c3b-1df8c7bf7e00",
        "colab": {
          "base_uri": "https://localhost:8080/",
          "height": 526
        }
      },
      "source": [
        "#==============[ Linear Support Vector Machine ]=====================\n",
        "\n",
        "for i in range(1, 2):\n",
        "    \n",
        "\n",
        "    lsvc = LinearSVC(maxIter=10, regParam=0.3)\n",
        "\n",
        "    # Fit the model\n",
        "    lsvcModel = lsvc.fit(trainingData)\n",
        "\n",
        "    predictions = lsvcModel.transform(testData)\n",
        "\n",
        "    #predictions.select(\"url\", \"label\", \"prediction\").show(n=5, truncate = 100)\n",
        "\n",
        "    # Select (prediction, true label) and compute test error\n",
        "    evaluator = RegressionEvaluator(\n",
        "        labelCol=\"label\", predictionCol=\"prediction\", metricName=\"rmse\")\n",
        "    rmse = evaluator.evaluate(predictions)\n",
        "    print(\"Root Mean Squared Error (RMSE) on test data = %g\" % rmse)\n",
        "\n",
        "    # Evaluate model\n",
        "    evaluator = BinaryClassificationEvaluator()\n",
        "    accuracy = evaluator.evaluate(predictions)\n",
        "\n",
        "    \n",
        "    #================================================================\n",
        "    df = predictions.select('prediction', 'label')\n",
        "    predictionAndLabels=df.rdd\n",
        "\n",
        "    metrics = MulticlassMetrics(predictionAndLabels) \n",
        "\n",
        "    \n",
        "\n",
        "    tp = df[(df.label == 1) & (df.prediction == 1)].count()\n",
        "    tn = df[(df.label == 0) & (df.prediction == 0)].count()\n",
        "    fp = df[(df.label == 0) & (df.prediction == 1)].count()\n",
        "    fn = df[(df.label == 1) & (df.prediction == 0)].count()\n",
        "\n",
        "    print(\"True Positives: %g\" % tp)\n",
        "    print(\"True Negative: %g\" % tn)\n",
        "    print(\"False Positive: %g\" % fp)\n",
        "    print(\"False Negative: %g\" % fn)\n",
        "\n",
        "    print(\"Total: %g\" % (df.count()))\n",
        "\n",
        "    r = float(tp)/(tp + fn)\n",
        "    p = float(tp) / (tp + fp)\n",
        "    a = float(tp + tn) / (tp + fp + tn + fn)\n",
        "    f1 = float(p*r)/(p+r) * 2\n",
        "    print(\"F-Score: %f1\" %(f1*100))\n",
        "    \n",
        "    print(\"\\nAccuracy: %g\" %(a*100))\n",
        "    print(\"Recall: %g\" %(r*100))\n",
        "    print(\"Precision: %g\" %(p*100))\n",
        "  \n",
        "\n",
        "#=============================================================\n",
        "    \n",
        "    #==================[ Confusing Matrix Calculation and Plotting ]\n",
        "    lsvm_predictions = lsvcModel.transform(testData)\n",
        "\n",
        "\n",
        "    y_actu = lsvm_predictions.select(\"label\").toPandas()\n",
        "    y_pred = lsvm_predictions.select(\"prediction\").toPandas()\n",
        "\n",
        "    cm = confusion_matrix(y_actu, y_pred)\n",
        "\n",
        "    plt.clf()\n",
        "    plt.imshow(cm, interpolation='nearest', cmap=plt.cm.Wistia)\n",
        "    classNames = ['Negative','Positive']\n",
        "    plt.title('LINEAR SUPPORT VECTOR MACHINE')\n",
        "    plt.ylabel('True label')\n",
        "    plt.xlabel('Predicted label')\n",
        "    tick_marks = np.arange(len(classNames))\n",
        "    plt.xticks(tick_marks, classNames, rotation=45)\n",
        "    plt.yticks(tick_marks, classNames)\n",
        "\n",
        "    #TN, FP, FN, TP = confusion_matrix([0, 1, 0, 1], [1, 1, 1, 0]).ravel()\n",
        "\n",
        "    s = [['TN','FP'], ['FN', 'TP']]\n",
        "    for i in range(2):\n",
        "        for j in range(2):\n",
        "            plt.text(j,i, str(s[i][j])+\" = \"+str(cm[i][j]))\n",
        "    plt.show()\n",
        "    "
      ],
      "execution_count": 13,
      "outputs": [
        {
          "output_type": "stream",
          "text": [
            "Root Mean Squared Error (RMSE) on test data = 0.129553\n",
            "True Positives: 10985\n",
            "True Negative: 10690\n",
            "False Positive: 27\n",
            "False Negative: 343\n",
            "Total: 22045\n",
            "F-Score: 98.3437781\n",
            "\n",
            "Accuracy: 98.3216\n",
            "Recall: 96.9721\n",
            "Precision: 99.7548\n"
          ],
          "name": "stdout"
        },
        {
          "output_type": "display_data",
          "data": {
            "image/png": "[encoded data removed]",
            "text/plain": [
              "<Figure size 432x288 with 1 Axes>"
            ]
          },
          "metadata": {
            "tags": [],
            "needs_background": "light"
          }
        }
      ]
    },
    {
      "cell_type": "markdown",
      "metadata": {
        "id": "QAr-MDSjjmO2"
      },
      "source": [
        "# One-vs-Rest Classifier (One-vs-All )"
      ]
    },
    {
      "cell_type": "code",
      "metadata": {
        "id": "T0yoH4oGjmO3",
        "outputId": "ce7aee03-b140-485d-9b65-b486b7ccd320",
        "colab": {
          "base_uri": "https://localhost:8080/",
          "height": 544
        }
      },
      "source": [
        "#==============[ One-vs-Rest classifier (a.k.a. One-vs-All ]=====================\n",
        "\n",
        "for i in range(1, 2):\n",
        "    \n",
        "    # instantiate the base classifier.\n",
        "    #lr = LogisticRegression(maxIter=10, tol=1E-6, fitIntercept=True)\n",
        "    lr = LogisticRegression(maxIter=10, regParam=0.001, elasticNetParam=0, tol=1E-6, fitIntercept=True )\n",
        "\n",
        "    # instantiate the One Vs Rest Classifier.\n",
        "    ovr = OneVsRest(classifier=lr)\n",
        "\n",
        "    # train the multiclass model.\n",
        "    ovrModel = ovr.fit(trainingData)\n",
        "\n",
        "    # score the model on test data.\n",
        "    predictions = ovrModel.transform(testData)\n",
        "\n",
        "    # obtain evaluator.\n",
        "    evaluator = MulticlassClassificationEvaluator(metricName=\"accuracy\")\n",
        "\n",
        "    # compute the classification error on test data.\n",
        "    accuracy = evaluator.evaluate(predictions)\n",
        "    print(\"Test Error = %g\" % (1.0 - accuracy))\n",
        "    print(\"\\nAccuracy on Test Data = %g\" % (accuracy*100))\n",
        "    \n",
        "    #evaluator = MulticlassClassificationEvaluator(predictionCol=\"prediction\", metricName=\"accuracy\")\n",
        "    #accuracy = evaluator.evaluate(predictions)\n",
        "    #print(\"Accuracy = %g\" % (accuracy*100))\n",
        "\n",
        "    #evaluatorf1 = MulticlassClassificationEvaluator( predictionCol=\"prediction\", metricName=\"f1\")\n",
        "    #f1 = evaluatorf1.evaluate(predictions)\n",
        "    #print(\"f1 = %g\" % (f1*100))\n",
        " \n",
        "    #================================================================\n",
        "    df = predictions.select('prediction', 'label')\n",
        "\n",
        "    tp = df[(df.label == 1) & (df.prediction == 1)].count()\n",
        "    tn = df[(df.label == 0) & (df.prediction == 0)].count()\n",
        "    fp = df[(df.label == 0) & (df.prediction == 1)].count()\n",
        "    fn = df[(df.label == 1) & (df.prediction == 0)].count()\n",
        "\n",
        "    print(\"True Positives: %g\" % tp)\n",
        "    print(\"True Negative: %g\" % tn)\n",
        "    print(\"False Positive: %g\" % fp)\n",
        "    print(\"False Negative: %g\" % fn)\n",
        "\n",
        "    print(\"Total: %g\" % (df.count()))\n",
        "\n",
        "    r = float(tp)/(tp + fn)\n",
        "    p = float(tp) / (tp + fp)\n",
        "    a = float(tp + tn) / (tp + fp + tn + fn)\n",
        "    f1 = float(p*r)/(p+r) * 2\n",
        "    print(\"F-Score: %f1\" %(f1*100))\n",
        "    print(\"Recal: %g\" %(r*100))\n",
        "    print(\"Precision: %g\" %(p*100))\n",
        "    print(\"Accuracy: %g\" %(a*100))\n",
        "    \n",
        "    \n",
        "             \n",
        "               \n",
        "#=============================================================\n",
        "    \n",
        "    ovr_predictions = ovrModel.transform(testData)\n",
        "\n",
        "    y_actu = ovr_predictions.select(\"label\").toPandas()\n",
        "    y_pred = ovr_predictions.select(\"prediction\").toPandas()\n",
        "\n",
        "    cm = confusion_matrix(y_actu, y_pred)\n",
        "\n",
        "    plt.clf()\n",
        "    plt.imshow(cm, interpolation='nearest', cmap=plt.cm.Wistia)\n",
        "    classNames = ['Negative','Positive']\n",
        "    plt.title('ONE-VS-RES CLASSIFIER (A.K.A ONE-VS-ALL)')\n",
        "    plt.ylabel('True label')\n",
        "    plt.xlabel('Predicted label')\n",
        "    tick_marks = np.arange(len(classNames))\n",
        "    plt.xticks(tick_marks, classNames, rotation=45)\n",
        "    plt.yticks(tick_marks, classNames)\n",
        "\n",
        "    #TN, FP, FN, TP = confusion_matrix([0, 1, 0, 1], [1, 1, 1, 0]).ravel()\n",
        "\n",
        "    s = [['TN','FP'], ['FN', 'TP']]\n",
        "    for i in range(2):\n",
        "        for j in range(2):\n",
        "            plt.text(j,i, str(s[i][j])+\" = \"+str(cm[i][j]))\n",
        "    plt.show()\n",
        "    "
      ],
      "execution_count": 14,
      "outputs": [
        {
          "output_type": "stream",
          "text": [
            "Test Error = 0.00807439\n",
            "\n",
            "Accuracy on Test Data = 99.1926\n",
            "True Positives: 11166\n",
            "True Negative: 10701\n",
            "False Positive: 16\n",
            "False Negative: 162\n",
            "Total: 22045\n",
            "F-Score: 99.2092401\n",
            "Recal: 98.5699\n",
            "Precision: 99.8569\n",
            "Accuracy: 99.1926\n"
          ],
          "name": "stdout"
        },
        {
          "output_type": "display_data",
          "data": {
            "image/png": "[encoded data removed]",
            "text/plain": [
              "<Figure size 432x288 with 1 Axes>"
            ]
          },
          "metadata": {
            "tags": [],
            "needs_background": "light"
          }
        }
      ]
    },
    {
      "cell_type": "code",
      "metadata": {
        "id": "PL-FmOW9jmPH",
        "outputId": "daf53732-3a36-4a6f-debb-1c7fe38e91fd",
        "colab": {
          "base_uri": "https://localhost:8080/"
        }
      },
      "source": [
        "from pyspark.ml.feature import CountVectorizer\n",
        "\n",
        "# Input data: Each row is a bag of words with a ID.\n",
        "\n",
        "df = spark.createDataFrame([\n",
        "    (0, \"a b c\".split(\" \")),\n",
        "    (1, \"a b b c a\".split(\" \"))\n",
        "], [\"id\", \"words\"])\n",
        "\n",
        "# fit a CountVectorizerModel from the corpus.\n",
        "cv = CountVectorizer(inputCol=\"words\", outputCol=\"rawFeatures\", vocabSize=3, minDF=2.0)\n",
        "\n",
        "#\n",
        "\n",
        "\n",
        "#rescaledData = idfModel.transform(cv)\n",
        "\n",
        "model = cv.fit(df)\n",
        "result = model.transform(df)\n",
        "\n",
        "idf = IDF(inputCol=\"rawFeatures\", outputCol=\"features\")\n",
        "\n",
        "idfModel = idf.fit(result)\n",
        "\n",
        "rescaledData = idfModel.transform(result)\n",
        "\n",
        "\n",
        "\n",
        "\n",
        "\n",
        "result.show(truncate=False)\n",
        "\n",
        "rescaledData.show(truncate=False)"
      ],
      "execution_count": 15,
      "outputs": [
        {
          "output_type": "stream",
          "text": [
            "+---+---------------+-------------------------+\n",
            "|id |words          |rawFeatures              |\n",
            "+---+---------------+-------------------------+\n",
            "|0  |[a, b, c]      |(3,[0,1,2],[1.0,1.0,1.0])|\n",
            "|1  |[a, b, b, c, a]|(3,[0,1,2],[2.0,2.0,1.0])|\n",
            "+---+---------------+-------------------------+\n",
            "\n",
            "+---+---------------+-------------------------+-------------------------+\n",
            "|id |words          |rawFeatures              |features                 |\n",
            "+---+---------------+-------------------------+-------------------------+\n",
            "|0  |[a, b, c]      |(3,[0,1,2],[1.0,1.0,1.0])|(3,[0,1,2],[0.0,0.0,0.0])|\n",
            "|1  |[a, b, b, c, a]|(3,[0,1,2],[2.0,2.0,1.0])|(3,[0,1,2],[0.0,0.0,0.0])|\n",
            "+---+---------------+-------------------------+-------------------------+\n",
            "\n"
          ],
          "name": "stdout"
        }
      ]
    },
    {
      "cell_type": "code",
      "metadata": {
        "id": "be9QFAdojmPT",
        "outputId": "7c6a4790-4a98-4303-fcbf-be510b4245c6",
        "colab": {
          "base_uri": "https://localhost:8080/"
        }
      },
      "source": [
        "dataset.show(5)"
      ],
      "execution_count": 16,
      "outputs": [
        {
          "output_type": "stream",
          "text": [
            "+--------------------+-----+--------------------+--------------------+--------------------+\n",
            "|                 url|label|               Words|         rawfeatures|            features|\n",
            "+--------------------+-----+--------------------+--------------------+--------------------+\n",
            "|http://br-ofertas...|    1|[http, br, oferta...|(6949,[0,1,2,3,18...|(6949,[0,1,2,3,18...|\n",
            "|https://semana-da...|    1|[https, semana, d...|(6949,[0,3,6,18,1...|(6949,[0,3,6,18,1...|\n",
            "|https://scrid-app...|    1|[https, scrid, ap...|(6949,[0,6,845],[...|(6949,[0,6,845],[...|\n",
            "|http://my-softban...|    1|[http, my, softba...|(6949,[0,1,29,159...|(6949,[0,1,29,159...|\n",
            "|http://www.my-sof...|    1|[http, www, my, s...|(6949,[0,1,4,29,1...|(6949,[0,1,4,29,1...|\n",
            "+--------------------+-----+--------------------+--------------------+--------------------+\n",
            "only showing top 5 rows\n",
            "\n"
          ],
          "name": "stdout"
        }
      ]
    }
  ]
}